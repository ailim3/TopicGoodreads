{
 "cells": [
  {
   "cell_type": "markdown",
   "metadata": {},
   "source": [
    "Import packages"
   ]
  },
  {
   "cell_type": "code",
   "execution_count": 33,
   "metadata": {},
   "outputs": [
    {
     "name": "stdout",
     "output_type": "stream",
     "text": [
      "[nltk_data] Downloading package stopwords to /Users/Amy/nltk_data...\n",
      "[nltk_data]   Package stopwords is already up-to-date!\n"
     ]
    }
   ],
   "source": [
    "import pandas as pd\n",
    "import numpy as np  \n",
    "import re #for datacleaning\n",
    "import nltk  \n",
    "nltk.download('stopwords')  \n",
    "from nltk.corpus import stopwords\n",
    "from nltk.stem import WordNetLemmatizer\n",
    "from sklearn.metrics import accuracy_score #for measuring accuracy in text category models\n",
    "from sklearn.model_selection import train_test_split #to divide in train and test set\n",
    "from sklearn.feature_extraction.text import TfidfVectorizer  #for tfidf vectorize\n",
    "from sklearn import naive_bayes, svm #for text categorization models\n",
    "from sklearn.feature_extraction.text import CountVectorizer #for vectorizing\n",
    "from sklearn.decomposition import LatentDirichletAllocation #for the topic mining model"
   ]
  },
  {
   "cell_type": "markdown",
   "metadata": {},
   "source": [
    "The packages <b> langdetect </b> and <b> pyLDAvis </b> need to be downloaded and installed using pip. "
   ]
  },
  {
   "cell_type": "code",
   "execution_count": 2,
   "metadata": {},
   "outputs": [],
   "source": [
    "from langdetect import detect\n",
    "import pyLDAvis.sklearn"
   ]
  },
  {
   "cell_type": "markdown",
   "metadata": {},
   "source": [
    "# Text Categorization"
   ]
  },
  {
   "cell_type": "markdown",
   "metadata": {},
   "source": [
    "Import datasets. The datasets are webscraped from the lists on Goodreads: <br>\n",
    "for non-fiction: https://www.goodreads.com/list/show/134.Best_Non_Fiction_no_biographies_ <br>\n",
    "for fiction: https://www.goodreads.com/list/show/2522.Cult_Classics"
   ]
  },
  {
   "cell_type": "code",
   "execution_count": 3,
   "metadata": {},
   "outputs": [],
   "source": [
    "nf = pd.read_csv('booksSummaryNF.txt', sep=\"|\", header=None)\n",
    "f = pd.read_csv(\"booksSummaryCult_Classics.txt\",sep=\"|\", header=None)"
   ]
  },
  {
   "cell_type": "markdown",
   "metadata": {},
   "source": [
    "I rename datasets' columns and add a new column specifing the genre original dataset"
   ]
  },
  {
   "cell_type": "code",
   "execution_count": 4,
   "metadata": {},
   "outputs": [],
   "source": [
    "f = f.rename(columns={0: \"title\", 1: \"rating\",2:\"summary\"})\n",
    "nf = nf.rename(columns={0: \"title\", 1: \"rating\",2:\"summary\"})\n",
    "f[\"genre\"]=\"fiction\"\n",
    "nf[\"genre\"]=\"non fiction\""
   ]
  },
  {
   "cell_type": "markdown",
   "metadata": {},
   "source": [
    "I append the two datasets."
   ]
  },
  {
   "cell_type": "code",
   "execution_count": 5,
   "metadata": {},
   "outputs": [],
   "source": [
    "df=f.append(nf,ignore_index = True)"
   ]
  },
  {
   "cell_type": "markdown",
   "metadata": {},
   "source": [
    "I define the genre of the book (fiction or non-fiction) as the target value."
   ]
  },
  {
   "cell_type": "code",
   "execution_count": 6,
   "metadata": {},
   "outputs": [],
   "source": [
    "X=df[\"summary\"]\n",
    "y=df[\"genre\"]"
   ]
  },
  {
   "cell_type": "markdown",
   "metadata": {},
   "source": [
    "Perform data cleaning on the dataset."
   ]
  },
  {
   "cell_type": "code",
   "execution_count": 8,
   "metadata": {},
   "outputs": [],
   "source": [
    "documents = []\n",
    "stemmer = WordNetLemmatizer()\n",
    "\n",
    "for i in range(0, len(X)):  \n",
    "    document = re.sub(r'\\W', ' ', str(X[i])) #remove all the special characters\n",
    "    document = re.sub(r'\\s+[a-zA-Z]\\s+', ' ', document) #remove all single characters\n",
    "    document = re.sub(r'\\^[a-zA-Z]\\s+', ' ', document) #remove single characters from the start\n",
    "    document = re.sub(r'\\s+', ' ', document, flags=re.I)  # substitute multiple spaces with single space\n",
    "    document = document.lower() #converte to Lowercase\n",
    "    document = document.split() #lemmatization\n",
    "    document = [stemmer.lemmatize(word) for word in document]\n",
    "    document = ' '.join(document)\n",
    "    documents.append(document)"
   ]
  },
  {
   "cell_type": "markdown",
   "metadata": {},
   "source": [
    "I divide the dataset in test and train."
   ]
  },
  {
   "cell_type": "code",
   "execution_count": 9,
   "metadata": {},
   "outputs": [],
   "source": [
    "Train_X, Test_X, Train_Y, Test_Y = train_test_split(documents,y,test_size=0.3)"
   ]
  },
  {
   "cell_type": "markdown",
   "metadata": {},
   "source": [
    "I apply TfidfVectorizer"
   ]
  },
  {
   "cell_type": "code",
   "execution_count": 10,
   "metadata": {},
   "outputs": [],
   "source": [
    "Tfidf_vect = TfidfVectorizer(max_features=5000)\n",
    "Tfidf_vect.fit(documents)\n",
    "Train_X_Tfidf = Tfidf_vect.transform(Train_X)\n",
    "Test_X_Tfidf = Tfidf_vect.transform(Test_X)"
   ]
  },
  {
   "cell_type": "markdown",
   "metadata": {},
   "source": [
    "<b> Naive Bayes classifier</b> model, first fit the model on the train set then predict the values of the test set and calculate the accuracy:"
   ]
  },
  {
   "cell_type": "code",
   "execution_count": 11,
   "metadata": {},
   "outputs": [
    {
     "name": "stdout",
     "output_type": "stream",
     "text": [
      "Naive Bayes Accuracy Score ->  84.95726495726495\n"
     ]
    }
   ],
   "source": [
    "Naive = naive_bayes.MultinomialNB()\n",
    "Naive.fit(Train_X_Tfidf,Train_Y)\n",
    "predictions_NB = Naive.predict(Test_X_Tfidf)\n",
    "print(\"Naive Bayes Accuracy Score -> \",accuracy_score(y_pred=predictions_NB, y_true=Test_Y)*100)"
   ]
  },
  {
   "cell_type": "markdown",
   "metadata": {},
   "source": [
    "<b> SVM</b> model, first fit the model on the train set then predict the values of the test set and calculate the accuracy:"
   ]
  },
  {
   "cell_type": "code",
   "execution_count": 12,
   "metadata": {},
   "outputs": [
    {
     "name": "stdout",
     "output_type": "stream",
     "text": [
      "SVM Accuracy Score ->  84.61538461538461\n"
     ]
    }
   ],
   "source": [
    "SVM = svm.SVC(C=1.0, kernel='linear', degree=3, gamma='auto')\n",
    "SVM.fit(Train_X_Tfidf,Train_Y)\n",
    "predictions_SVM = SVM.predict(Test_X_Tfidf)\n",
    "print(\"SVM Accuracy Score -> \",accuracy_score(y_pred=predictions_SVM,y_true= Test_Y)*100)"
   ]
  },
  {
   "cell_type": "markdown",
   "metadata": {},
   "source": [
    "# Topic Mining"
   ]
  },
  {
   "cell_type": "markdown",
   "metadata": {},
   "source": [
    "Import datasets. The datasets are webscraped from the lists on Goodreads: <br>\n",
    "for non-fiction: https://www.goodreads.com/list/show/134.Best_Non_Fiction_no_biographies_ <br>\n",
    "for fiction: https://www.goodreads.com/list/show/2522.Cult_Classics <br>\n",
    "for young adult: https://www.goodreads.com/list/show/43.Best_Young_Adult_Books <br>\n",
    "for sci-fi: https://www.goodreads.com/list/show/19341.Best_Science_Fiction <br>\n",
    "for fantasy: https://www.goodreads.com/list/show/50.The_Best_Epic_Fantasy_fiction_ <br>\n",
    "for thriller: https://www.goodreads.com/list/show/348.Thrillers <br>\n",
    "for romance: https://www.goodreads.com/list/show/12362.All_Time_Favorite_Romance_Novels"
   ]
  },
  {
   "cell_type": "code",
   "execution_count": 34,
   "metadata": {},
   "outputs": [],
   "source": [
    "ya= pd.read_csv(\"booksSummaryYoung_Adult.txt\", sep=\"|\",header=None)\n",
    "f = pd.read_csv(\"booksSummaryCult_Classics.txt\", sep=\"|\", header=None)\n",
    "nf = pd.read_csv('booksSummaryNF.txt', sep=\"|\", header=None)\n",
    "rom=pd.read_csv(\"booksSummaryRomance_Novels.txt\", sep=\"|\", header=None)\n",
    "thr=pd.read_csv(\"booksSummaryThrillers.txt\", sep=\"|\", header=None)\n",
    "sifi=pd.read_csv(\"booksSummaryScience_Fiction.txt\", sep=\"|\", header=None)\n",
    "fan=pd.read_csv(\"booksSummaryEpic_Fantasy.txt\", sep=\"|\", header=None)\n",
    "f = f.rename(columns={0: \"title\", 1: \"rating\",2:\"summary\"})\n",
    "ya = ya.rename(columns={0: \"title\", 1: \"rating\",2:\"summary\"})\n",
    "nf = nf.rename(columns={0: \"title\", 1: \"rating\",2:\"summary\"})\n",
    "rom = rom.rename(columns={0: \"title\", 1: \"rating\",2:\"summary\"})\n",
    "thr = thr.rename(columns={0: \"title\", 1: \"rating\",2:\"summary\"})\n",
    "sifi = sifi.rename(columns={0: \"title\", 1: \"rating\",2:\"summary\"})\n",
    "fan=fan.drop(columns=[0])\n",
    "fan = fan.rename(columns={1: \"title\", 2: \"rating\", 3:\"summary\"})"
   ]
  },
  {
   "cell_type": "markdown",
   "metadata": {},
   "source": [
    "I unite the datasets."
   ]
  },
  {
   "cell_type": "code",
   "execution_count": 35,
   "metadata": {},
   "outputs": [],
   "source": [
    "fic=f.append(ya,ignore_index = True)\n",
    "fic=fic.append(nf,ignore_index=True)\n",
    "fic=fic.append(rom,ignore_index=True)\n",
    "fic=fic.append(thr,ignore_index=True)\n",
    "fic=fic.append(sifi,ignore_index=True)\n",
    "fic=fic.append(fan,ignore_index=True)"
   ]
  },
  {
   "cell_type": "markdown",
   "metadata": {},
   "source": [
    "For <b>Data Cleaning</b>, I detect the language of each summary using library langdetect"
   ]
  },
  {
   "cell_type": "code",
   "execution_count": 36,
   "metadata": {},
   "outputs": [],
   "source": [
    "fic[\"language\"]=\"\"\n",
    "for i in range(0,len(fic)):\n",
    "    fic.at[i,\"language\"]=detect(fic.loc[i,\"summary\"])"
   ]
  },
  {
   "cell_type": "markdown",
   "metadata": {},
   "source": [
    "I drop the duplicated titles."
   ]
  },
  {
   "cell_type": "code",
   "execution_count": 37,
   "metadata": {},
   "outputs": [],
   "source": [
    "fic_clean=fic.drop_duplicates(['title'])"
   ]
  },
  {
   "cell_type": "markdown",
   "metadata": {},
   "source": [
    "I take only the summaries in English."
   ]
  },
  {
   "cell_type": "code",
   "execution_count": 38,
   "metadata": {},
   "outputs": [
    {
     "name": "stdout",
     "output_type": "stream",
     "text": [
      "The dataset has  5700 summaries.\n"
     ]
    }
   ],
   "source": [
    "fic_final=fic_clean.loc[fic_clean['language'] == \"en\"]\n",
    "print(\"The dataset has \", fic_final.shape[0], \"summaries.\")"
   ]
  },
  {
   "cell_type": "markdown",
   "metadata": {},
   "source": [
    "I create a vector for the words in the data set and a LDA model, with 6 topics."
   ]
  },
  {
   "cell_type": "code",
   "execution_count": 21,
   "metadata": {},
   "outputs": [
    {
     "name": "stdout",
     "output_type": "stream",
     "text": [
      "(5700, 6530)\n"
     ]
    },
    {
     "data": {
      "text/plain": [
       "LatentDirichletAllocation(batch_size=128, doc_topic_prior=None,\n",
       "             evaluate_every=-1, learning_decay=0.7,\n",
       "             learning_method='batch', learning_offset=10.0,\n",
       "             max_doc_update_iter=100, max_iter=10, mean_change_tol=0.001,\n",
       "             n_components=5, n_jobs=None, n_topics=None, perp_tol=0.1,\n",
       "             random_state=0, topic_word_prior=None,\n",
       "             total_samples=1000000.0, verbose=0)"
      ]
     },
     "execution_count": 21,
     "metadata": {},
     "output_type": "execute_result"
    }
   ],
   "source": [
    "tf_vectorizer = CountVectorizer(strip_accents = 'unicode',\n",
    "                                stop_words = 'english',\n",
    "                                lowercase = True,\n",
    "                                token_pattern = r'\\b[a-zA-Z]{3,}\\b',\n",
    "                                max_df = 0.5, \n",
    "                                min_df = 10)\n",
    "dtm_tf = tf_vectorizer.fit_transform(fic_final[\"summary\"])\n",
    "print(dtm_tf.shape)\n",
    "lda_tf = LatentDirichletAllocation(n_components=6, random_state=0)\n",
    "lda_tf.fit(dtm_tf)"
   ]
  },
  {
   "cell_type": "markdown",
   "metadata": {},
   "source": [
    "Visualizing the topics"
   ]
  },
  {
   "cell_type": "code",
   "execution_count": 19,
   "metadata": {},
   "outputs": [],
   "source": [
    "pyLDAvis.enable_notebook()"
   ]
  },
  {
   "cell_type": "code",
   "execution_count": 22,
   "metadata": {
    "scrolled": false
   },
   "outputs": [
    {
     "data": {
      "text/html": [
       "\n",
       "<link rel=\"stylesheet\" type=\"text/css\" href=\"https://cdn.rawgit.com/bmabey/pyLDAvis/files/ldavis.v1.0.0.css\">\n",
       "\n",
       "\n",
       "<div id=\"ldavis_el315531123072277688521298739\"></div>\n",
       "<script type=\"text/javascript\">\n",
       "\n",
       "var ldavis_el315531123072277688521298739_data = {\"mdsDat\": {\"x\": [0.0618722314832798, 0.15967031681967989, -0.05168744058406827, -0.020599060847294414, -0.14925604687159705], \"y\": [-0.18482195241821567, 0.09362970351995996, 0.06554066055882454, 0.02877221037762725, -0.00312062203819611], \"topics\": [1, 2, 3, 4, 5], \"cluster\": [1, 1, 1, 1, 1], \"Freq\": [29.672994414894298, 22.770170615473354, 22.364865620264432, 17.941399299371202, 7.250570049996717]}, \"tinfo\": {\"Category\": [\"Default\", \"Default\", \"Default\", \"Default\", \"Default\", \"Default\", \"Default\", \"Default\", \"Default\", \"Default\", \"Default\", \"Default\", \"Default\", \"Default\", \"Default\", \"Default\", \"Default\", \"Default\", \"Default\", \"Default\", \"Default\", \"Default\", \"Default\", \"Default\", \"Default\", \"Default\", \"Default\", \"Default\", \"Default\", \"Default\", \"Topic1\", \"Topic1\", \"Topic1\", \"Topic1\", \"Topic1\", \"Topic1\", \"Topic1\", \"Topic1\", \"Topic1\", \"Topic1\", \"Topic1\", \"Topic1\", \"Topic1\", \"Topic1\", \"Topic1\", \"Topic1\", \"Topic1\", \"Topic1\", \"Topic1\", \"Topic1\", \"Topic1\", \"Topic1\", \"Topic1\", \"Topic1\", \"Topic1\", \"Topic1\", \"Topic1\", \"Topic1\", \"Topic1\", \"Topic1\", \"Topic1\", \"Topic1\", \"Topic1\", \"Topic1\", \"Topic1\", \"Topic1\", \"Topic1\", \"Topic1\", \"Topic1\", \"Topic1\", \"Topic1\", \"Topic1\", \"Topic1\", \"Topic1\", \"Topic1\", \"Topic1\", \"Topic1\", \"Topic1\", \"Topic1\", \"Topic1\", \"Topic1\", \"Topic1\", \"Topic1\", \"Topic1\", \"Topic1\", \"Topic1\", \"Topic1\", \"Topic1\", \"Topic1\", \"Topic1\", \"Topic1\", \"Topic1\", \"Topic1\", \"Topic1\", \"Topic1\", \"Topic1\", \"Topic1\", \"Topic1\", \"Topic1\", \"Topic1\", \"Topic1\", \"Topic1\", \"Topic1\", \"Topic1\", \"Topic1\", \"Topic1\", \"Topic1\", \"Topic1\", \"Topic1\", \"Topic2\", \"Topic2\", \"Topic2\", \"Topic2\", \"Topic2\", \"Topic2\", \"Topic2\", \"Topic2\", \"Topic2\", \"Topic2\", \"Topic2\", \"Topic2\", \"Topic2\", \"Topic2\", \"Topic2\", \"Topic2\", \"Topic2\", \"Topic2\", \"Topic2\", \"Topic2\", \"Topic2\", \"Topic2\", \"Topic2\", \"Topic2\", \"Topic2\", \"Topic2\", \"Topic2\", \"Topic2\", \"Topic2\", \"Topic2\", \"Topic2\", \"Topic2\", \"Topic2\", \"Topic2\", \"Topic2\", \"Topic2\", \"Topic2\", \"Topic2\", \"Topic2\", \"Topic2\", \"Topic2\", \"Topic2\", \"Topic2\", \"Topic2\", \"Topic2\", \"Topic2\", \"Topic2\", \"Topic2\", \"Topic2\", \"Topic2\", \"Topic2\", \"Topic2\", \"Topic2\", \"Topic2\", \"Topic2\", \"Topic2\", \"Topic2\", \"Topic2\", \"Topic2\", \"Topic2\", \"Topic2\", \"Topic2\", \"Topic2\", \"Topic2\", \"Topic2\", \"Topic2\", \"Topic2\", \"Topic2\", \"Topic2\", \"Topic2\", \"Topic2\", \"Topic2\", \"Topic2\", \"Topic2\", \"Topic2\", \"Topic2\", \"Topic2\", \"Topic2\", \"Topic2\", \"Topic2\", \"Topic3\", \"Topic3\", \"Topic3\", \"Topic3\", \"Topic3\", \"Topic3\", \"Topic3\", \"Topic3\", \"Topic3\", \"Topic3\", \"Topic3\", \"Topic3\", \"Topic3\", \"Topic3\", \"Topic3\", \"Topic3\", \"Topic3\", \"Topic3\", \"Topic3\", \"Topic3\", \"Topic3\", \"Topic3\", \"Topic3\", \"Topic3\", \"Topic3\", \"Topic3\", \"Topic3\", \"Topic3\", \"Topic3\", \"Topic3\", \"Topic3\", \"Topic3\", \"Topic3\", \"Topic3\", \"Topic3\", \"Topic3\", \"Topic3\", \"Topic3\", \"Topic3\", \"Topic3\", \"Topic3\", \"Topic3\", \"Topic3\", \"Topic3\", \"Topic3\", \"Topic3\", \"Topic3\", \"Topic3\", \"Topic3\", \"Topic3\", \"Topic3\", \"Topic3\", \"Topic3\", \"Topic3\", \"Topic3\", \"Topic3\", \"Topic3\", \"Topic3\", \"Topic3\", \"Topic3\", \"Topic3\", \"Topic3\", \"Topic3\", \"Topic3\", \"Topic3\", \"Topic3\", \"Topic3\", \"Topic3\", \"Topic3\", \"Topic3\", \"Topic3\", \"Topic3\", \"Topic3\", \"Topic3\", \"Topic3\", \"Topic3\", \"Topic3\", \"Topic3\", \"Topic3\", \"Topic3\", \"Topic3\", \"Topic3\", \"Topic3\", \"Topic3\", \"Topic4\", \"Topic4\", \"Topic4\", \"Topic4\", \"Topic4\", \"Topic4\", \"Topic4\", \"Topic4\", \"Topic4\", \"Topic4\", \"Topic4\", \"Topic4\", \"Topic4\", \"Topic4\", \"Topic4\", \"Topic4\", \"Topic4\", \"Topic4\", \"Topic4\", \"Topic4\", \"Topic4\", \"Topic4\", \"Topic4\", \"Topic4\", \"Topic4\", \"Topic4\", \"Topic4\", \"Topic4\", \"Topic4\", \"Topic4\", \"Topic4\", \"Topic4\", \"Topic4\", \"Topic4\", \"Topic4\", \"Topic4\", \"Topic4\", \"Topic4\", \"Topic4\", \"Topic4\", \"Topic4\", \"Topic4\", \"Topic4\", \"Topic4\", \"Topic4\", \"Topic4\", \"Topic4\", \"Topic4\", \"Topic4\", \"Topic4\", \"Topic4\", \"Topic4\", \"Topic4\", \"Topic4\", \"Topic4\", \"Topic4\", \"Topic4\", \"Topic4\", \"Topic4\", \"Topic4\", \"Topic4\", \"Topic4\", \"Topic4\", \"Topic4\", \"Topic4\", \"Topic4\", \"Topic4\", \"Topic4\", \"Topic4\", \"Topic4\", \"Topic4\", \"Topic4\", \"Topic4\", \"Topic4\", \"Topic4\", \"Topic4\", \"Topic5\", \"Topic5\", \"Topic5\", \"Topic5\", \"Topic5\", \"Topic5\", \"Topic5\", \"Topic5\", \"Topic5\", \"Topic5\", \"Topic5\", \"Topic5\", \"Topic5\", \"Topic5\", \"Topic5\", \"Topic5\", \"Topic5\", \"Topic5\", \"Topic5\", \"Topic5\", \"Topic5\", \"Topic5\", \"Topic5\", \"Topic5\", \"Topic5\", \"Topic5\", \"Topic5\", \"Topic5\", \"Topic5\", \"Topic5\", \"Topic5\", \"Topic5\", \"Topic5\", \"Topic5\", \"Topic5\", \"Topic5\", \"Topic5\", \"Topic5\", \"Topic5\", \"Topic5\", \"Topic5\", \"Topic5\", \"Topic5\", \"Topic5\", \"Topic5\", \"Topic5\", \"Topic5\", \"Topic5\", \"Topic5\", \"Topic5\", \"Topic5\", \"Topic5\", \"Topic5\", \"Topic5\", \"Topic5\", \"Topic5\", \"Topic5\", \"Topic5\", \"Topic5\", \"Topic5\", \"Topic5\", \"Topic5\", \"Topic5\", \"Topic5\", \"Topic5\", \"Topic5\", \"Topic5\", \"Topic5\", \"Topic5\", \"Topic5\", \"Topic5\", \"Topic5\", \"Topic5\", \"Topic5\"], \"Freq\": [1531.0, 965.0, 1112.0, 2633.0, 374.0, 538.0, 1584.0, 697.0, 526.0, 474.0, 474.0, 416.0, 491.0, 731.0, 627.0, 368.0, 458.0, 903.0, 289.0, 233.0, 971.0, 227.0, 416.0, 373.0, 757.0, 260.0, 543.0, 193.0, 409.0, 419.0, 102.11774712469465, 86.41726147233172, 84.45460728481699, 76.63153703788818, 70.75435470561213, 66.83588603948331, 63.89416466079921, 55.07639609061131, 61.78479855189394, 48.21538237434609, 48.214145208265684, 48.205187751963614, 47.231368621691985, 47.22884355504909, 44.29061659543895, 43.3134127396615, 43.3096274198828, 40.37075606941221, 39.39336108737148, 38.40552843131775, 37.428807021629005, 44.13691269553824, 36.44767464131732, 40.2721958504287, 35.47384851434626, 35.47041427526639, 35.46807871366037, 34.49206514568557, 42.15498877117622, 53.63553771767956, 140.04408617415362, 440.0633612171151, 166.18474989861858, 259.78967514745324, 193.05203981755966, 78.73826684879225, 387.74589366922805, 69.19915558672368, 97.37554854993809, 83.64030123554423, 297.43582347650465, 153.95822816806682, 122.12699179229017, 116.72117608451731, 115.74963141376443, 637.334137313563, 329.24059503862577, 92.4242474347263, 336.16592505132786, 321.27765205708477, 117.58833246655081, 459.059832061857, 139.06708773100252, 1230.341280700478, 272.31099987569195, 351.81274163788856, 222.6280978253571, 313.33219252313245, 209.5922309051243, 165.33974994272407, 169.16349740028866, 256.039413218556, 846.1867894170965, 595.1613268327873, 442.6117721524237, 480.31488743269625, 300.70595357570926, 305.49435075382075, 152.31342374905307, 1124.3844512602564, 869.2967913724008, 458.04979606660726, 329.45045452574647, 455.5901591696657, 531.4241162854705, 649.570869751828, 388.1040066721599, 269.35548454908957, 340.8480750175623, 113.12883396056546, 101.23669332294216, 62.60688898975964, 64.536956033824, 56.661450961307416, 83.95608395238888, 50.71915551204361, 46.75569808555682, 44.77273585928995, 47.66582287701597, 42.79041304736047, 40.81318025381319, 184.40681925419273, 37.838302044999324, 35.85751997474593, 34.86722003195937, 34.86604080894666, 32.87590153080885, 31.897004300494515, 31.896529844638415, 31.895251248852148, 31.894903775250498, 35.75056598237316, 30.899511485130517, 30.897290144573933, 57.91890879343162, 38.59585700984929, 26.944663276652197, 28.820637456982848, 179.55701825058284, 187.54256646770517, 76.67117426261292, 166.79925128373674, 95.19832460391727, 435.78201535456594, 193.60495663181433, 330.7987101514138, 410.3539277059492, 133.6796515116513, 154.59133397548956, 228.97045731178804, 87.29527598324715, 440.188596130918, 51.16123799950831, 216.05621614452488, 341.4769336881674, 121.59364839412476, 195.83917565360764, 296.8448855666069, 106.32214684191165, 493.9403001869075, 726.2399638904485, 166.00985316271482, 147.83975930927144, 167.3287104807003, 278.5063464625633, 155.77819038053056, 471.50591457204746, 177.65638055733706, 1130.1798566580553, 191.20636676416763, 382.72375736480785, 221.15685165999054, 214.75921059795823, 224.32410029199968, 256.69909683353717, 288.92272197153795, 312.07937406967926, 213.2758700256993, 418.0582602148644, 359.442086536659, 287.72628161116756, 263.99094486338885, 308.8601379666792, 313.13880508670445, 240.1983902931067, 245.47812801867929, 226.95187723292815, 240.76563179395, 215.51543386753858, 50.37543641002379, 64.87328085804093, 41.511759823701155, 38.561317442400075, 37.58460049251823, 30.697915339839568, 30.68280673443559, 48.839850422491445, 28.71946177572228, 64.03296189817445, 26.758139455011115, 24.790131694958042, 23.809646263518857, 23.808367842939603, 31.38259907518159, 22.809793171973993, 23.740604886253553, 21.828025326510776, 20.84623765024901, 25.550604819249674, 21.71925605807227, 18.883933748188653, 66.10999749365892, 18.881325642326185, 18.866059155989188, 17.898157009153536, 83.50252442745715, 19.687339481568465, 15.926100191966675, 15.919964161566767, 54.15713067285733, 39.143349379685766, 98.92354862915555, 1316.9615554012785, 114.62273890298545, 32.31431322855654, 37.069214143920206, 169.30664765295467, 123.57962935613239, 215.69058865016314, 276.5017781505006, 58.31185482398996, 122.38654417304609, 417.1984552145751, 263.44883056341274, 123.99116442386149, 1271.7342532747161, 155.17612835540453, 86.27583396577143, 66.92716661319861, 148.29737211920673, 437.4421829305005, 134.22315748043084, 382.6352024996741, 83.57788188023842, 76.91091347434524, 434.31994167078574, 224.69198506883546, 245.49619313399856, 245.23516853961505, 309.62801896816035, 237.96603269440052, 268.8339506703002, 511.23648334632463, 158.85197563514126, 213.38698626610062, 247.87678839444007, 173.2493939687194, 327.9676938034373, 412.6515152331378, 190.98336886414683, 283.01189010933956, 419.2935698489283, 266.7732358257369, 240.79910385285524, 237.3110297347914, 302.56051431601406, 211.6261857904566, 369.0928234202664, 258.9626801259026, 228.99196251015658, 239.66564713138015, 260.0634381525594, 223.86990712147247, 192.5650834586444, 102.46833449280543, 67.40329020529808, 49.86733797475088, 47.92217985102604, 229.30368098381507, 38.17986015743109, 35.2472395912155, 31.350506650981938, 30.387141554646018, 30.373040194788757, 29.411441341360145, 27.46370576729156, 91.4484575436791, 31.096645626188057, 22.590590413011803, 21.597524437970225, 20.645122034323727, 20.64478346995788, 19.67302432321721, 217.897799815537, 67.30763153203354, 18.69436369005004, 19.621187325349602, 143.8633858890952, 42.03252406095559, 18.656019894139167, 17.721014513897554, 19.58105523644168, 16.75131940911626, 355.46425866996105, 151.16848361922905, 36.8114706054623, 59.196260915987665, 70.5060640019924, 257.8260570628868, 359.86502306506094, 53.80775332547292, 76.02788075447654, 39.79217277058544, 38.05897296117818, 84.8658024002199, 219.29293541743118, 58.44276773627376, 96.2410825390115, 116.73577353295418, 74.50581669684213, 57.402735780065896, 102.90096146165767, 55.0677025245153, 141.78759158512517, 177.52744198410824, 88.06475503550848, 80.02183365896293, 227.551966560205, 177.52541019794086, 244.12516404444855, 367.1744095970703, 249.84763457478326, 485.2047492301868, 269.27282458188216, 197.43430312636534, 176.23827994354343, 247.1999267956483, 234.34190856021036, 212.70825915949408, 229.15870613270556, 307.1672637599486, 250.12523334035876, 186.4552563373093, 168.21091636364045, 190.11759603678286, 241.358713686132, 176.35175127050877, 177.4200453172671, 165.7154350035385, 56.111984425834486, 35.51042544415888, 49.87385450743076, 27.66263644120016, 28.57589155432973, 17.850874975454847, 17.849409762224976, 18.768162901166757, 18.718361543076732, 15.89228085896874, 14.906922511035772, 13.928158241690587, 13.918978117024713, 26.897096919558205, 12.92563423711878, 29.50817649643957, 10.98156350749895, 10.976961552087534, 10.955541224165888, 9.990150492055179, 20.426420728452698, 10.63864854543165, 17.706155667410517, 15.428819539459845, 12.794128198143023, 37.55068966457701, 13.290653494836796, 30.4140966594493, 12.292304854529785, 12.272182449880853, 52.20476117741846, 15.525421670543283, 35.753001251142514, 62.79413189418323, 29.13663842664868, 18.37495791863816, 21.82360957835458, 24.288971845198816, 64.03231030702416, 160.57506471477467, 258.8183410115864, 128.6068638088508, 164.37195397230823, 53.10172908475558, 90.09513013335145, 78.20765992780349, 154.97534842642986, 84.9502788490097, 84.66478768207327, 62.09498764251427, 45.7910692411536, 37.50839976968644, 90.2930780080308, 80.97158559106988, 61.578373048617564, 104.54432531230746, 130.73831181647446, 113.23343622397606, 66.4202163097993, 55.120501975252914, 164.14423757882187, 146.91078126267166, 93.0790006706224, 101.44026929021025, 96.93911482112931, 66.82792325308752, 77.96240734419011, 82.88044664822532, 91.65879471467291, 98.67655989973852, 72.6669075109071, 67.98069579960945, 64.83033044108541, 64.99147635037747], \"Term\": [\"love\", \"just\", \"war\", \"life\", \"killer\", \"girl\", \"book\", \"earth\", \"magic\", \"little\", \"ancient\", \"murder\", \"king\", \"history\", \"day\", \"doesn\", \"science\", \"human\", \"case\", \"police\", \"like\", \"thriller\", \"evil\", \"battle\", \"year\", \"space\", \"american\", \"detective\", \"wants\", \"fiction\", \"economic\", \"evolution\", \"essential\", \"china\", \"explains\", \"classics\", \"groundbreaking\", \"translation\", \"perspective\", \"definitive\", \"illustrations\", \"myths\", \"detailed\", \"cultures\", \"analysis\", \"essay\", \"examines\", \"intellectual\", \"penguin\", \"historian\", \"clarity\", \"controversial\", \"tolkien\", \"philosophical\", \"recounts\", \"bible\", \"produced\", \"nineteenth\", \"memoir\", \"pulitzer\", \"scientific\", \"science\", \"culture\", \"published\", \"account\", \"publication\", \"fiction\", \"cultural\", \"provides\", \"americans\", \"written\", \"narrative\", \"introduction\", \"understanding\", \"collection\", \"history\", \"classic\", \"text\", \"stories\", \"amp\", \"literary\", \"american\", \"writing\", \"book\", \"modern\", \"century\", \"award\", \"america\", \"today\", \"research\", \"writer\", \"books\", \"story\", \"novel\", \"work\", \"author\", \"readers\", \"edition\", \"based\", \"world\", \"new\", \"human\", \"great\", \"people\", \"time\", \"life\", \"years\", \"times\", \"war\", \"throne\", \"prophecy\", \"mage\", \"ships\", \"kingdoms\", \"dragons\", \"mcelhaney\", \"sorcery\", \"realms\", \"bosch\", \"swords\", \"alanna\", \"warrior\", \"knights\", \"magician\", \"wizards\", \"lords\", \"stones\", \"reborn\", \"dune\", \"guild\", \"dominion\", \"exiled\", \"horizon\", \"patch\", \"kings\", \"palace\", \"elven\", \"mortals\", \"gods\", \"kingdom\", \"alliance\", \"dragon\", \"sword\", \"king\", \"powers\", \"battle\", \"ancient\", \"realm\", \"army\", \"enemy\", \"warriors\", \"magic\", \"ruler\", \"empire\", \"evil\", \"destruction\", \"alien\", \"land\", \"lands\", \"earth\", \"war\", \"darkness\", \"ship\", \"enemies\", \"planet\", \"queen\", \"power\", \"magical\", \"world\", \"epic\", \"dark\", \"forces\", \"fantasy\", \"adventure\", \"powerful\", \"long\", \"young\", \"save\", \"new\", \"time\", \"human\", \"death\", \"years\", \"man\", \"future\", \"people\", \"men\", \"life\", \"series\", \"ella\", \"jake\", \"maggie\", \"happily\", \"indy\", \"tesha\", \"siblings\", \"mac\", \"fae\", \"sweet\", \"faeries\", \"bella\", \"lucinda\", \"hogwarts\", \"sophia\", \"nobleman\", \"heartbreak\", \"vorkosigan\", \"mess\", \"molly\", \"heartache\", \"hathaway\", \"marry\", \"potter\", \"sensuality\", \"swore\", \"gorgeous\", \"nurse\", \"widowed\", \"alluring\", \"kiss\", \"sensual\", \"pretty\", \"love\", \"handsome\", \"clay\", \"deny\", \"romance\", \"marriage\", \"passion\", \"wants\", \"charming\", \"apart\", \"heart\", \"mother\", \"desire\", \"life\", \"sister\", \"feelings\", \"pleasure\", \"husband\", \"woman\", \"let\", \"past\", \"pain\", \"touch\", \"family\", \"school\", \"friend\", \"away\", \"home\", \"night\", \"knows\", \"man\", \"soul\", \"beautiful\", \"father\", \"thing\", \"just\", \"time\", \"town\", \"like\", \"new\", \"old\", \"best\", \"make\", \"years\", \"girl\", \"world\", \"young\", \"year\", \"way\", \"story\", \"secret\", \"detective\", \"fbi\", \"reacher\", \"homicide\", \"clary\", \"police\", \"investigator\", \"jace\", \"cassie\", \"thrillers\", \"tris\", \"forensic\", \"inspector\", \"murders\", \"malone\", \"preston\", \"fledgling\", \"psychopath\", \"beatrice\", \"detectives\", \"thriller\", \"cia\", \"sheriff\", \"eddie\", \"agent\", \"clue\", \"cotton\", \"manhunt\", \"carre\", \"enforcement\", \"killer\", \"investigation\", \"gruesome\", \"brian\", \"cop\", \"case\", \"murder\", \"killers\", \"joe\", \"melanie\", \"agency\", \"victims\", \"crime\", \"terrorist\", \"victim\", \"murdered\", \"dating\", \"reporter\", \"suspense\", \"jason\", \"team\", \"mystery\", \"evidence\", \"serial\", \"city\", \"town\", \"secret\", \"man\", \"death\", \"new\", \"old\", \"york\", \"dead\", \"young\", \"family\", \"year\", \"like\", \"life\", \"time\", \"woman\", \"finds\", \"just\", \"world\", \"way\", \"years\", \"story\", \"sara\", \"jamie\", \"lucy\", \"chloe\", \"carter\", \"warden\", \"aged\", \"digging\", \"baseball\", \"cyborg\", \"beats\", \"exceptionally\", \"guin\", \"owen\", \"trusting\", \"rebecca\", \"idaho\", \"outsiders\", \"tame\", \"gangsters\", \"gibson\", \"traders\", \"statue\", \"teeth\", \"brick\", \"pack\", \"interference\", \"mia\", \"safely\", \"scared\", \"anne\", \"annual\", \"flat\", \"wolf\", \"mouse\", \"spaceship\", \"harper\", \"doors\", \"boys\", \"little\", \"just\", \"doesn\", \"girl\", \"green\", \"space\", \"big\", \"day\", \"going\", \"don\", \"stay\", \"film\", \"aren\", \"things\", \"thing\", \"money\", \"know\", \"like\", \"year\", \"isn\", \"gets\", \"life\", \"new\", \"make\", \"human\", \"old\", \"want\", \"place\", \"home\", \"way\", \"years\", \"best\", \"earth\", \"night\", \"story\"], \"Total\": [1531.0, 965.0, 1112.0, 2633.0, 374.0, 538.0, 1584.0, 697.0, 526.0, 474.0, 474.0, 416.0, 491.0, 731.0, 627.0, 368.0, 458.0, 903.0, 289.0, 233.0, 971.0, 227.0, 416.0, 373.0, 757.0, 260.0, 543.0, 193.0, 409.0, 419.0, 102.90709577076112, 87.22636731773804, 85.26625989228208, 77.42581795123353, 71.54551344378284, 67.62533049290322, 64.6851876051753, 55.86473881667603, 62.72417771684634, 49.00438485924616, 49.004397834999324, 49.00444944197277, 48.02434247622533, 48.02439578322855, 45.08417384826967, 44.104141728291275, 44.10417441229786, 41.16400852213625, 40.18394148224869, 39.20393100921128, 38.223859975278934, 45.084313305665994, 37.24387776738007, 41.16339506712162, 36.26375846741885, 36.26375920536071, 36.26377587502626, 35.28370999676979, 43.1247639404337, 54.88517993390967, 144.0977059815214, 458.6895602733557, 172.55027231348612, 271.4925149644247, 200.97221810135386, 81.34807217959118, 419.52009791894466, 71.54728162536907, 101.91499163803324, 87.25314228306597, 326.36514694269965, 164.58968917688009, 129.3662134299862, 123.49728840285029, 122.52980308352458, 731.7944305504398, 369.4876521299902, 97.04184347535717, 380.337544549581, 364.6664369261555, 125.45618652424507, 543.6104849346001, 150.9021686381926, 1584.0193609236524, 315.57822348877556, 422.7534309803177, 269.44564927438785, 400.9619882884507, 252.92488481798884, 192.08455890034884, 197.90296760957048, 326.8465464273003, 1409.1798109523472, 939.7887848114748, 659.6276211043485, 736.3749956595298, 428.48340112106865, 446.4186285275297, 175.5150361399679, 2912.0939113035556, 2338.764151929052, 903.6613186311266, 578.9116984992517, 986.2431026070409, 1614.222778654552, 2633.3822561592647, 1275.621264171859, 523.0149362411896, 1112.128661670476, 113.91766482221941, 102.02964158732244, 63.393790812140466, 65.37453185974033, 57.449800898187455, 85.18364202109122, 51.50582232047705, 47.54315738592296, 45.56181208145172, 48.532465260089566, 43.58047042906692, 41.599182572779426, 188.19690125609728, 38.627155843779676, 36.645846150470526, 35.65517594982427, 35.655161766975105, 33.67374447419798, 32.683201628569016, 32.68319907710536, 32.683178689024075, 32.683184288400994, 36.644716699848125, 31.69246275492951, 31.692472889553684, 59.42336303616672, 39.615331630128594, 27.729893428479727, 29.709553044924036, 185.1930356946171, 197.0484196044523, 80.20292035713666, 178.1706164826174, 101.00459134245544, 491.8193518904695, 212.74455001655554, 373.9867830222774, 474.8203768710925, 146.4918000825778, 172.10429513727138, 262.18411517734074, 94.00344828056957, 526.3919623929295, 53.47068495868782, 252.22960793270485, 416.9933455259239, 136.5509145809638, 239.3001312124038, 383.39114697471837, 120.74163482768287, 697.1980555649985, 1112.128661670476, 203.74982705915488, 178.95249949660166, 207.4571080680729, 389.1402452963269, 194.8482231621489, 811.6983434174294, 233.28740540402526, 2912.0939113035556, 263.72187232236837, 705.0486633351567, 324.8161937688688, 314.9479488297599, 376.8281301838376, 533.12924138959, 752.9938425375844, 995.6815548527951, 388.35048373176943, 2338.764151929052, 1614.222778654552, 903.6613186311266, 757.3637148448367, 1275.621264171859, 1445.7670166782486, 577.1459464280981, 986.2431026070409, 646.6677212108477, 2633.3822561592647, 568.5363716942489, 51.161593154999274, 65.92178508607894, 42.30632555054516, 39.354613065581304, 38.37070458543051, 31.483311835370728, 31.483346614810145, 50.18139610984471, 29.515530029466237, 65.9121060076481, 27.54766316796996, 25.57983965451926, 24.59590897809323, 24.5959160715072, 32.469205059631, 23.612071249706155, 24.5957485988303, 22.62811855960484, 21.64411885441251, 26.56151346650375, 22.627690507234803, 19.676323638941366, 68.8855751993043, 19.676381287633976, 19.676391059841265, 18.692451249838154, 87.53881251930936, 20.659412271082665, 16.72462196096088, 16.72452182481952, 57.0587192221508, 41.31771117252661, 107.2023815297608, 1531.3317714928871, 125.83364314352438, 34.42983516465194, 40.33027139642592, 214.31759737592978, 153.4064655725542, 287.06438288332447, 409.4937352689831, 68.78979689739307, 161.46992931769063, 663.1850696415842, 393.79938755191864, 166.3699341494385, 2633.3822561592647, 220.3868444422655, 110.04118386040741, 81.60231050992277, 212.86804904845525, 798.4756258363803, 191.72047826720896, 734.216652208733, 108.1786532844124, 97.4082731051578, 901.1024401599882, 385.32309859809254, 441.8223941656488, 443.15975822815966, 639.0799907838226, 456.86546648215347, 562.7174517497272, 1445.7670166782486, 266.9223665140647, 424.35540804265827, 540.7825752860258, 331.0221532428936, 965.775866777917, 1614.222778654552, 399.5564379083642, 971.0074602921668, 2338.764151929052, 885.4456674247065, 708.2184543271889, 685.6527288299317, 1275.621264171859, 538.8712995310514, 2912.0939113035556, 995.6815548527951, 757.0083498710239, 929.8923603327818, 1409.1798109523472, 701.0992918457221, 193.8484065528586, 103.25802318244965, 68.19194386272451, 50.6589433821697, 48.710800058112966, 233.81855260834877, 38.97024121487055, 36.04817464143317, 32.151978810976324, 31.17778425610103, 31.17802753031411, 30.20373313932196, 28.25562518838668, 94.52708101631113, 32.1545285131077, 23.385360890910693, 22.41164507229249, 21.437223748671666, 21.43724268182312, 20.463140145127774, 227.03385651335103, 70.16048637781013, 19.4891423879518, 20.463515068530675, 150.08912966696357, 43.854677405099906, 19.489393448538856, 18.515082059195823, 20.464698034815292, 17.540964724783187, 374.3127439169279, 160.78139050890977, 38.980619947044175, 63.342235667312906, 76.03184642751123, 289.52071311143396, 416.67489956754906, 58.49933567948558, 84.80006518082764, 42.88966794208959, 40.939278079919184, 97.48704516703094, 276.08997300866173, 65.37266994001429, 117.1631386132, 146.5815860537766, 87.74929140996383, 65.31333612340913, 131.7656287103359, 63.39095239078207, 221.15486517123372, 325.96551293749616, 123.9328241050153, 108.29638575218796, 581.1595993372392, 399.5564379083642, 701.0992918457221, 1445.7670166782486, 757.3637148448367, 2338.764151929052, 885.4456674247065, 537.765540632316, 479.7531509755259, 995.6815548527951, 901.1024401599882, 757.0083498710239, 971.0074602921668, 2633.3822561592647, 1614.222778654552, 798.4756258363803, 599.417698642674, 965.775866777917, 2912.0939113035556, 929.8923603327818, 1275.621264171859, 1409.1798109523472, 56.90749261635896, 36.30336657635379, 51.021585383819605, 28.454164698373784, 29.435456954111736, 18.642646346763126, 18.64265924169468, 19.62418440856369, 19.623673514769813, 16.680364782613754, 15.699214103889338, 14.718047359995754, 14.718094753502093, 28.45329049559643, 13.736862669068405, 31.38980807621037, 11.774597457598782, 11.774641640431701, 11.774752350363176, 10.793453872768826, 22.55749183847099, 11.774336669656314, 19.615683933308937, 17.654770812343113, 14.729063718873547, 44.167175512127024, 15.706676894232361, 36.26653104716094, 14.722514425232855, 14.70620926433192, 62.783486625926436, 18.64375895327714, 44.163460076771365, 85.49988854664778, 37.27025632506033, 22.599170972707157, 29.464240228077248, 34.2742895167037, 131.7141936266047, 474.5102392402178, 965.775866777917, 368.7498046563594, 538.8712995310514, 108.18793021535367, 260.9566099588866, 213.5839353749637, 627.0484403122827, 250.87428310456283, 250.29818635800785, 157.78115836507763, 99.01418780666853, 70.47971063589631, 408.1881332670085, 331.0221532428936, 194.13034011170555, 579.2129218968712, 971.0074602921668, 757.0083498710239, 242.1537297655986, 158.59665137087708, 2633.3822561592647, 2338.764151929052, 685.6527288299317, 903.6613186311266, 885.4456674247065, 299.2869088514212, 509.04142106095117, 639.0799907838226, 929.8923603327818, 1275.621264171859, 708.2184543271889, 697.1980555649985, 456.86546648215347, 1409.1798109523472], \"loglift\": [30.0, 29.0, 28.0, 27.0, 26.0, 25.0, 24.0, 23.0, 22.0, 21.0, 20.0, 19.0, 18.0, 17.0, 16.0, 15.0, 14.0, 13.0, 12.0, 11.0, 10.0, 9.0, 8.0, 7.0, 6.0, 5.0, 4.0, 3.0, 2.0, 1.0, 1.2072, 1.2056, 1.2054, 1.2046, 1.2038, 1.2032, 1.2026, 1.2007, 1.1998, 1.1987, 1.1987, 1.1985, 1.1983, 1.1982, 1.1972, 1.1968, 1.1968, 1.1955, 1.1951, 1.1944, 1.1939, 1.1937, 1.1933, 1.193, 1.1929, 1.1928, 1.1927, 1.1922, 1.1922, 1.1919, 1.1864, 1.1735, 1.1773, 1.1709, 1.1747, 1.1823, 1.1362, 1.1816, 1.1694, 1.1726, 1.1221, 1.1482, 1.1573, 1.1585, 1.158, 1.0767, 1.0996, 1.1662, 1.0915, 1.0883, 1.1502, 1.0459, 1.1333, 0.9623, 1.0675, 1.0312, 1.0241, 0.9683, 1.027, 1.065, 1.058, 0.9708, 0.7049, 0.7581, 0.816, 0.7876, 0.8608, 0.8356, 1.0731, 0.2633, 0.2252, 0.5355, 0.6512, 0.4426, 0.1039, -0.1848, 0.025, 0.5514, 0.0323, 1.4728, 1.4719, 1.4672, 1.4668, 1.4659, 1.4652, 1.4643, 1.463, 1.4622, 1.4617, 1.4614, 1.4606, 1.4594, 1.4591, 1.458, 1.4574, 1.4573, 1.4557, 1.4554, 1.4554, 1.4553, 1.4553, 1.455, 1.4544, 1.4543, 1.4541, 1.4536, 1.451, 1.4493, 1.4488, 1.4303, 1.4347, 1.4138, 1.4205, 1.3587, 1.3854, 1.357, 1.3338, 1.3882, 1.3724, 1.3443, 1.4057, 1.3009, 1.4356, 1.3249, 1.2799, 1.3637, 1.2793, 1.2239, 1.3525, 1.1351, 1.0536, 1.2749, 1.2887, 1.2648, 1.1452, 1.2559, 0.9365, 1.2073, 0.5332, 1.1582, 0.8688, 1.0953, 1.0968, 0.961, 0.7489, 0.5218, 0.3195, 0.8804, -0.242, -0.0223, 0.3353, 0.4258, 0.0614, -0.05, 0.6031, 0.089, 0.4326, -0.9125, 0.5097, 1.4822, 1.4816, 1.4787, 1.4773, 1.477, 1.4724, 1.4719, 1.4706, 1.4703, 1.4688, 1.4686, 1.4663, 1.4652, 1.4651, 1.4636, 1.4631, 1.4623, 1.4617, 1.4601, 1.4589, 1.4567, 1.4566, 1.4566, 1.4564, 1.4556, 1.4543, 1.4505, 1.4495, 1.4488, 1.4484, 1.4455, 1.4436, 1.4173, 1.3469, 1.4044, 1.4343, 1.4134, 1.2619, 1.2815, 1.2118, 1.105, 1.3324, 1.2205, 1.0342, 1.0957, 1.2037, 0.7698, 1.1469, 1.2544, 1.2994, 1.1362, 0.8959, 1.1411, 0.846, 1.2397, 1.2614, 0.7678, 0.9583, 0.9101, 0.906, 0.773, 0.8454, 0.759, 0.4581, 0.9787, 0.8102, 0.7176, 0.8502, 0.4177, 0.1337, 0.7595, 0.2648, -0.2211, 0.298, 0.4189, 0.4367, 0.0588, 0.563, -0.5679, 0.1509, 0.302, 0.1419, -0.1922, 0.3561, 1.7114, 1.7104, 1.7064, 1.7023, 1.7017, 1.6986, 1.6976, 1.6956, 1.6928, 1.6924, 1.6919, 1.6915, 1.6896, 1.6849, 1.6846, 1.6835, 1.6811, 1.6804, 1.6804, 1.6787, 1.677, 1.6765, 1.6764, 1.676, 1.6757, 1.6756, 1.6744, 1.6742, 1.6739, 1.672, 1.6664, 1.6564, 1.6608, 1.6504, 1.6426, 1.6021, 1.5715, 1.6345, 1.6089, 1.6431, 1.6451, 1.5794, 1.4877, 1.606, 1.5213, 1.4904, 1.5545, 1.589, 1.4708, 1.5773, 1.2735, 1.1104, 1.3764, 1.4155, 0.7804, 0.9068, 0.6631, 0.3475, 0.6091, 0.1453, 0.5277, 0.716, 0.7166, 0.3248, 0.3712, 0.4486, 0.2741, -0.4306, -0.1466, 0.2635, 0.4473, 0.0928, -0.7723, 0.0555, -0.2546, -0.4224, 2.61, 2.602, 2.6013, 2.5959, 2.5945, 2.5807, 2.5806, 2.5795, 2.5769, 2.5757, 2.5723, 2.5689, 2.5683, 2.5678, 2.5632, 2.5623, 2.5544, 2.5539, 2.552, 2.5467, 2.5249, 2.5227, 2.5217, 2.4893, 2.4833, 2.4618, 2.4571, 2.4481, 2.4437, 2.4432, 2.4396, 2.4411, 2.4128, 2.3154, 2.3779, 2.4172, 2.3239, 2.2797, 1.9028, 1.5406, 1.3073, 1.5707, 1.4367, 1.9124, 1.5606, 1.6194, 1.2263, 1.5412, 1.5401, 1.6915, 1.8529, 1.9933, 1.1154, 1.216, 1.4759, 0.912, 0.619, 0.7242, 1.3305, 1.5672, -0.1512, -0.1435, 0.6272, 0.4371, 0.4121, 1.1248, 0.7478, 0.5815, 0.3071, 0.0647, 0.3472, 0.2962, 0.6715, -0.4524], \"logprob\": [30.0, 29.0, 28.0, 27.0, 26.0, 25.0, 24.0, 23.0, 22.0, 21.0, 20.0, 19.0, 18.0, 17.0, 16.0, 15.0, 14.0, 13.0, 12.0, 11.0, 10.0, 9.0, 8.0, 7.0, 6.0, 5.0, 4.0, 3.0, 2.0, 1.0, -6.9597, -7.1266, -7.1496, -7.2468, -7.3266, -7.3836, -7.4286, -7.5771, -7.4622, -7.7102, -7.7102, -7.7104, -7.7308, -7.7308, -7.7951, -7.8174, -7.8175, -7.8877, -7.9122, -7.9376, -7.9634, -7.7985, -7.99, -7.8902, -8.017, -8.0171, -8.0172, -8.0451, -7.8445, -7.6036, -6.6439, -5.4989, -6.4727, -6.026, -6.3229, -7.2197, -5.6255, -7.3488, -7.0073, -7.1593, -5.8906, -6.5492, -6.7808, -6.826, -6.8344, -5.1285, -5.789, -7.0594, -5.7682, -5.8135, -6.8186, -5.4567, -6.6509, -4.4708, -5.9789, -5.7227, -6.1803, -5.8386, -6.2407, -6.4778, -6.455, -6.0405, -4.8451, -5.197, -5.4931, -5.4114, -5.8797, -5.8639, -6.5599, -4.5608, -4.8181, -5.4589, -5.7884, -5.4642, -5.3103, -5.1095, -5.6246, -5.9898, -5.7544, -6.5925, -6.7036, -7.1842, -7.1538, -7.284, -6.8908, -7.3947, -7.4761, -7.5194, -7.4568, -7.5647, -7.612, -6.1039, -7.6877, -7.7415, -7.7695, -7.7695, -7.8283, -7.8585, -7.8585, -7.8586, -7.8586, -7.7445, -7.8903, -7.8904, -7.262, -7.6679, -8.0273, -7.96, -6.1306, -6.087, -6.9815, -6.2043, -6.7651, -5.2439, -6.0552, -5.5195, -5.304, -6.4256, -6.2803, -5.8875, -6.8518, -5.2338, -7.3861, -5.9455, -5.4878, -6.5204, -6.0438, -5.6278, -6.6546, -5.1186, -4.7332, -6.209, -6.3249, -6.2011, -5.6916, -6.2726, -5.1651, -6.1412, -4.2909, -6.0677, -5.3737, -5.9222, -5.9515, -5.908, -5.7731, -5.6549, -5.5778, -5.9585, -5.2854, -5.4365, -5.659, -5.7451, -5.5882, -5.5744, -5.8396, -5.8178, -5.8963, -5.8372, -5.948, -7.3836, -7.1307, -7.5771, -7.6508, -7.6765, -7.8789, -7.8794, -7.4145, -7.9455, -7.1437, -8.0162, -8.0926, -8.133, -8.133, -7.8568, -8.1759, -8.1359, -8.2199, -8.2659, -8.0624, -8.2249, -8.3648, -7.1118, -8.3649, -8.3657, -8.4184, -6.8782, -8.3231, -8.5351, -8.5355, -7.3112, -7.6359, -6.7087, -4.12, -6.5614, -7.8276, -7.6903, -6.1714, -6.4862, -5.9292, -5.6809, -7.2373, -6.4959, -5.2695, -5.7292, -6.4829, -4.155, -6.2585, -6.8455, -7.0995, -6.3039, -5.2221, -6.4036, -5.356, -6.8773, -6.9604, -5.2293, -5.8884, -5.7998, -5.8009, -5.5677, -5.831, -5.709, -5.0663, -6.2351, -5.94, -5.7902, -6.1484, -5.5102, -5.2805, -6.0509, -5.6576, -5.2645, -5.7167, -5.8191, -5.8337, -5.5908, -5.9483, -5.392, -5.7464, -5.8694, -5.8238, -5.7422, -5.892, -5.8223, -6.4532, -6.872, -7.1733, -7.2131, -5.6477, -7.4404, -7.5203, -7.6375, -7.6687, -7.6692, -7.7013, -7.7698, -6.5669, -7.6456, -7.9652, -8.0101, -8.0552, -8.0552, -8.1035, -5.6987, -6.8734, -8.1545, -8.1061, -6.1138, -7.3443, -8.1565, -8.208, -8.1081, -8.2642, -5.2093, -6.0643, -7.4769, -7.0018, -6.827, -5.5304, -5.197, -7.0973, -6.7516, -7.399, -7.4436, -6.6416, -5.6923, -7.0147, -6.5159, -6.3228, -6.7718, -7.0326, -6.4489, -7.0741, -6.1284, -5.9036, -6.6046, -6.7004, -5.6553, -5.9036, -5.585, -5.1769, -5.5619, -4.8981, -5.487, -5.7973, -5.9109, -5.5725, -5.6259, -5.7228, -5.6483, -5.3553, -5.5607, -5.8545, -5.9575, -5.8351, -5.5964, -5.9102, -5.9042, -5.9724, -6.1493, -6.6068, -6.2672, -6.8566, -6.8241, -7.2946, -7.2947, -7.2445, -7.2472, -7.4108, -7.4749, -7.5428, -7.5434, -6.8847, -7.6175, -6.792, -7.7805, -7.7809, -7.7828, -7.8751, -7.1598, -7.8122, -7.3028, -7.4404, -7.6277, -6.551, -7.5896, -6.7618, -7.6677, -7.6693, -6.2215, -7.4342, -6.6, -6.0368, -6.8047, -7.2657, -7.0937, -6.9867, -6.0173, -5.0979, -4.6205, -5.3199, -5.0745, -6.2045, -5.6758, -5.8173, -5.1334, -5.7346, -5.738, -6.048, -6.3526, -6.5521, -5.6736, -5.7826, -6.0564, -5.5271, -5.3035, -5.4472, -5.9807, -6.1672, -5.0759, -5.1869, -5.6432, -5.5572, -5.6026, -5.9746, -5.8204, -5.7593, -5.6586, -5.5848, -5.8908, -5.9575, -6.0049, -6.0024]}, \"token.table\": {\"Topic\": [1, 2, 4, 1, 2, 3, 4, 5, 5, 3, 4, 2, 3, 4, 5, 2, 1, 2, 5, 2, 3, 4, 5, 3, 1, 2, 3, 4, 5, 1, 2, 3, 4, 5, 1, 2, 1, 3, 4, 5, 1, 1, 2, 3, 4, 1, 5, 3, 4, 5, 1, 2, 3, 4, 5, 1, 3, 4, 5, 1, 2, 3, 4, 1, 2, 3, 4, 5, 1, 2, 3, 4, 5, 1, 2, 3, 4, 5, 5, 1, 2, 3, 4, 5, 1, 2, 3, 4, 5, 4, 5, 1, 2, 3, 4, 5, 3, 1, 2, 3, 4, 5, 1, 1, 2, 3, 4, 5, 1, 2, 3, 4, 5, 1, 2, 3, 5, 2, 1, 2, 3, 4, 5, 1, 4, 2, 5, 4, 5, 1, 3, 4, 5, 4, 1, 2, 3, 4, 5, 1, 3, 4, 1, 5, 1, 2, 4, 1, 2, 3, 4, 5, 1, 4, 1, 2, 3, 4, 1, 1, 3, 2, 3, 4, 1, 3, 5, 1, 3, 4, 4, 1, 3, 4, 5, 1, 5, 1, 2, 1, 5, 1, 2, 3, 4, 5, 2, 3, 4, 1, 4, 1, 2, 3, 4, 5, 1, 2, 3, 4, 5, 1, 2, 3, 4, 5, 1, 1, 3, 5, 1, 2, 3, 4, 5, 1, 2, 3, 1, 1, 4, 4, 5, 1, 2, 3, 4, 5, 2, 1, 2, 3, 4, 5, 4, 5, 1, 2, 4, 1, 2, 2, 1, 2, 3, 4, 5, 1, 4, 1, 2, 3, 4, 5, 3, 2, 1, 2, 3, 2, 3, 4, 2, 3, 4, 4, 1, 2, 1, 1, 1, 4, 5, 1, 2, 3, 4, 5, 1, 1, 5, 2, 1, 3, 3, 1, 2, 3, 4, 5, 1, 2, 3, 4, 5, 1, 2, 3, 4, 5, 4, 1, 3, 4, 5, 1, 2, 3, 4, 5, 1, 3, 4, 5, 1, 2, 3, 4, 5, 1, 2, 4, 5, 4, 1, 2, 3, 4, 4, 1, 2, 3, 4, 5, 1, 2, 3, 4, 5, 5, 2, 3, 4, 5, 4, 5, 1, 2, 3, 4, 5, 1, 2, 1, 2, 3, 4, 5, 1, 3, 4, 1, 2, 3, 4, 5, 1, 2, 3, 5, 1, 4, 5, 2, 5, 3, 4, 3, 1, 2, 3, 5, 3, 1, 2, 3, 4, 5, 3, 3, 1, 1, 2, 3, 4, 5, 3, 1, 2, 3, 4, 5, 4, 2, 1, 2, 3, 4, 5, 2, 3, 4, 5, 1, 3, 4, 1, 2, 3, 5, 1, 4, 5, 1, 4, 4, 1, 2, 3, 4, 5, 4, 3, 5, 3, 4, 5, 1, 4, 1, 2, 3, 4, 5, 2, 3, 4, 2, 4, 5, 1, 2, 3, 4, 5, 1, 2, 5, 2, 1, 2, 3, 5, 2, 1, 2, 3, 4, 5, 1, 2, 3, 4, 5, 1, 2, 3, 4, 2, 3, 4, 1, 2, 3, 4, 5, 1, 2, 3, 4, 5, 1, 2, 3, 4, 5, 1, 5, 1, 2, 3, 4, 5, 1, 2, 3, 4, 5, 2, 1, 2, 3, 4, 5, 3, 3, 5, 2, 3, 2, 3, 1, 2, 3, 1, 2, 3, 4, 5, 2, 1, 2, 3, 4, 5, 4, 1, 2, 3, 4, 5, 4, 1, 2, 3, 4, 2, 3, 2, 3, 4, 1, 1, 2, 3, 4, 5, 3, 4, 5, 1, 2, 3, 4, 3, 1, 3, 4, 5, 2, 1, 2, 3, 4, 5, 3, 4, 5, 1, 2, 3, 4, 5, 2, 3, 4, 5, 2, 4, 1, 2, 3, 4, 5, 1, 1, 4, 1, 2, 3, 4, 5, 1, 2, 3, 4, 5, 1, 3, 1, 2, 3, 4, 5, 3, 1, 2, 3, 4, 5, 5, 1, 5, 2, 3, 4, 5, 1, 2, 3, 4, 5, 2, 1, 2, 3, 4, 1, 2, 3, 4, 5, 2, 1, 1, 2, 3, 4, 5, 1, 1, 1, 2, 3, 4, 5, 1, 2, 4, 5, 1, 3, 4, 3, 4, 3, 1, 2, 3, 4, 1, 2, 3, 4, 1, 2, 3, 4, 4, 2, 3, 4, 1, 2, 1, 3, 4, 5, 4, 1, 5, 1, 3, 5, 1, 5, 1, 2, 3, 5, 4, 1, 2, 3, 4, 5, 1, 2, 3, 2, 4, 5, 2, 1, 1, 4, 1, 2, 4, 5, 1, 2, 3, 4, 5, 1, 2, 3, 5, 5, 2, 3, 4, 5, 4, 5, 1, 3, 4, 5, 1, 2, 4, 5, 1, 2, 4, 1, 2, 3, 4, 2, 3, 4, 3, 1, 4, 1, 2, 3, 4, 5, 4, 2, 4, 5, 2, 3, 2, 3, 4, 5, 3, 2, 1, 2, 3, 4, 1, 2, 5, 2, 5, 4, 5, 1, 3, 4, 5, 2, 1, 3, 4, 5, 1, 2, 3, 4, 5, 1, 3, 4, 1, 3, 4, 2, 3, 2, 3, 5, 1, 2, 3, 4, 5, 1, 4, 5, 2, 4, 3, 1, 3, 1, 2, 3, 4, 5, 1, 2, 3, 4, 5, 1, 2, 3, 4, 4, 2, 1, 2, 3, 4, 5, 1, 2, 3, 4, 5, 1, 2, 3, 4, 5, 1, 1, 2, 3, 4, 5, 1, 2, 3, 4, 5, 1, 5, 1, 4, 5, 1, 3, 4, 1, 2, 3, 4, 1, 4, 3, 1, 2, 3, 4, 5, 2, 3, 4, 5, 1, 2, 3, 4, 5, 5, 2, 3, 2, 4, 1, 2, 3, 4, 5, 3, 2, 2, 3, 5, 1, 2, 3, 4, 5, 1, 2, 3, 4, 5, 1, 2, 3, 4, 5, 1, 3, 4, 5, 1, 3, 4, 1, 2, 3, 4, 5, 1, 2, 3, 4, 5, 1, 2, 3, 4, 5, 1, 2, 3, 4, 5, 1, 2, 3, 4, 5], \"Freq\": [0.9603317404929406, 0.029854872761438566, 0.004975812126906428, 0.14064767397843594, 0.5944354522862197, 0.12207156609449156, 0.07165070183807114, 0.06899697214036479, 0.9655274908282742, 0.048852839957160964, 0.9282039591860584, 0.02665083080217533, 0.0066627077005438325, 0.9594299088783119, 0.0066627077005438325, 0.9855962897412436, 0.06686164323829114, 0.8190551296690664, 0.11282902296461629, 0.9600647913707588, 0.01246837391390596, 0.01246837391390596, 0.01246837391390596, 0.9566790708632211, 0.7806226254415639, 0.07482005994647578, 0.03741002997323789, 0.10474808392506609, 0.004988003996431719, 0.8443545750505911, 0.005518657353271837, 0.018395524510906123, 0.1195709093208898, 0.011037314706543674, 0.9627160443974367, 0.034382715871337025, 0.8802564960619124, 0.07404026602389917, 0.013711160374796142, 0.030164552824551515, 0.9759522298907274, 0.12004539564121267, 0.8634844247876701, 0.008424238290611416, 0.006318178717958561, 0.1592775511111946, 0.8282432657782118, 0.10727450429991997, 0.053637252149959985, 0.8581960343993598, 0.04954482877279318, 0.16102069351157783, 0.755558638785096, 0.02477241438639659, 0.006193103596599148, 0.08513088299973973, 0.05675392199982648, 0.32633505149900227, 0.5391622589983516, 0.005810430234773596, 0.9006166863899074, 0.011620860469547191, 0.08134602328683034, 0.6518417964071294, 0.08827024326346544, 0.0950602619760397, 0.13987438547902986, 0.024444067365267354, 0.8276251652254727, 0.003711323610876559, 0.014845294443506235, 0.07051514860665462, 0.08536044305016086, 0.024821748355446746, 0.1308783095105374, 0.5528480315531321, 0.178265283643663, 0.11056960631062641, 0.9682183096706942, 0.8660226687289894, 0.011395035114855123, 0.10255531603369611, 0.005697517557427562, 0.011395035114855123, 0.03743447799642175, 0.8850580154868286, 0.026738912854586967, 0.029412804140045663, 0.02406502156912827, 0.9796035950932318, 0.9554618403658746, 0.047130305449034134, 0.16024303852671606, 0.5019377530322136, 0.23565152724517066, 0.05419985126638925, 0.9773321622672165, 0.3529984265059872, 0.04094781747469451, 0.34029048315177163, 0.16379126989877804, 0.10307554053974825, 0.9651509045655176, 0.1872800027294974, 0.00936400013647487, 0.18259800266125997, 0.2528280036848215, 0.36519600532251995, 0.7765056604376216, 0.05871140359406407, 0.10479669888832942, 0.04482268446428547, 0.01515132995975847, 0.7832421752601919, 0.12238158988440498, 0.030595397471101245, 0.06119079494220249, 0.9890286789011018, 0.015184392394868095, 0.12147513915894476, 0.33405663268709807, 0.03796098098717023, 0.485900556635779, 0.06314901831076604, 0.931448020083799, 0.06789297806612234, 0.8826087148595904, 0.9772927001402741, 0.9852063803598976, 0.0794416390897307, 0.024177890157744127, 0.8911279515282835, 0.003453984308249161, 0.9641708270041827, 0.8326366487050183, 0.06623246069244464, 0.0615015706429843, 0.023654450247301655, 0.01655811517311116, 0.043611118731384, 0.843148295473424, 0.101759277039896, 0.9945003105875907, 0.9840387267316358, 0.028506073763943377, 0.014253036881971689, 0.9549534710921032, 0.16690767925131042, 0.3544637311935046, 0.06538651352113192, 0.3923190811267915, 0.022369070415124075, 0.9679817795463237, 0.9854077523410626, 0.8904221781253298, 0.027064503894386922, 0.02435805350494823, 0.05683545817821254, 0.9907530138729771, 0.05808915408498205, 0.9294264653597129, 0.02280258479073224, 0.02280258479073224, 0.9577085612107541, 0.9467084503590246, 0.04080639872237175, 0.00816127974447435, 0.9759492110190414, 0.06576191734034766, 0.9338192262329367, 0.9748892416877373, 0.09779420710491696, 0.06157413039939216, 0.7932196798509932, 0.043464092046629765, 0.9643972270154586, 0.02795354281204228, 0.9620384701474959, 0.03477247482460828, 0.9786692624337755, 0.9592116364671527, 0.021275127207594603, 0.5432249147005822, 0.2865050463956073, 0.13616081412860548, 0.012765076324556762, 0.8147246179100072, 0.15214736840488086, 0.02944787775578339, 0.14814934446893852, 0.8547077565515684, 0.27589575043650943, 0.08133342931943341, 0.253568926701763, 0.14193480802803085, 0.24718983420612115, 0.01042202638968195, 0.4481471347563239, 0.12923312723205618, 0.36685532891680467, 0.04377251083666419, 0.16240545670345372, 0.3485775656074129, 0.150522130603201, 0.3300923916736864, 0.00924258696686322, 0.9795041839188264, 0.02479527078234887, 0.9174250189469082, 0.02479527078234887, 0.06611771565720202, 0.15627823700793206, 0.7453269764993683, 0.02404280569352801, 0.012021402846764005, 0.10252586035737694, 0.8934396402571418, 0.007323275739812638, 0.9786703487563118, 0.005158670209276752, 0.9956233503904132, 0.9773671029058536, 0.9681931031848995, 0.002711865843378296, 0.024406792590404663, 0.385084949759718, 0.24135606006066834, 0.3498306937958002, 0.979096764795851, 0.1398332145720729, 0.04394758172265148, 0.3635663578873895, 0.11586180635971755, 0.3395949496750342, 0.26258750004471476, 0.7002333334525727, 0.039288184203386485, 0.9373038231379347, 0.022450390973363706, 0.011739343097732344, 0.9861048202095168, 0.9790963217678426, 0.16207733096505347, 0.7085504557233311, 0.007171563317037764, 0.024383315277928398, 0.09753326111171359, 0.9911852942310043, 0.9773491960213873, 0.6832152166364879, 0.06720149671834307, 0.15456344245218906, 0.04480099781222872, 0.05152114748406302, 0.9772956023578057, 0.9736784625457631, 0.1387624565048606, 0.8563625887157111, 0.003964641614424589, 0.8049856741722357, 0.04820273498037339, 0.14460820494112017, 0.873432014922433, 0.08391049925019008, 0.04195524962509504, 0.9691599217448472, 0.27301489772523924, 0.7242478536877874, 0.9749651237950968, 0.985149344020932, 0.26627328343649487, 0.7100620891639863, 0.02420666213059044, 0.016786838627296078, 0.817758853129709, 0.03836991686239104, 0.12230410999887142, 0.00239811980389944, 0.9859404059179632, 0.9749644012837485, 0.9512131370124929, 0.9824062850552534, 0.9923752948644156, 0.9825336008212772, 0.9801194328306316, 0.09099964259939318, 0.11430442911874997, 0.4816322547333736, 0.25968190692997567, 0.05326808347281552, 0.22225894869325655, 0.6826524852721452, 0.04127666190017622, 0.025401022707800747, 0.025401022707800747, 0.033285096122928154, 0.2588840809561079, 0.4585946576936768, 0.2200514688126917, 0.02958675210926947, 0.9878167028219511, 0.009087506739917926, 0.7815255796329416, 0.1090500808790151, 0.09087506739917925, 0.9248662982410091, 0.026220436290337885, 0.009534704105577413, 0.030987788343126592, 0.00715102807918306, 0.48477901059717865, 0.010099562720774556, 0.04039825088309822, 0.46457988515562954, 0.005004857225259151, 0.2669257186804881, 0.35868143447690587, 0.2802720046145125, 0.08841914431291167, 0.06792946011895269, 0.06792946011895269, 0.045286306745968466, 0.8151535214274324, 0.9816325365244425, 0.16316920466629659, 0.6803847968160669, 0.0985172556475753, 0.05849462054074783, 0.9601462132588229, 0.011316764532594949, 0.08374405754120262, 0.5545214620971525, 0.22859864355841797, 0.11995770404550646, 0.28762222281445166, 0.41583935828595414, 0.19405836720011194, 0.0571779117643187, 0.0450492638143117, 0.9264874912032878, 0.012610606735466406, 0.2332962246061285, 0.4098447189026582, 0.34679168522532616, 0.08866233951547184, 0.8866233951547183, 0.014845845393810987, 0.0835078803401868, 0.3934149029359912, 0.2041303741649011, 0.30433983057312525, 0.026998855444245694, 0.971958795992845, 0.06776302373294478, 0.03986060219584987, 0.2511217938338542, 0.30294057668845903, 0.3388151186647239, 0.011423504285935105, 0.9595743600185487, 0.03427051285780531, 0.5683077416692164, 0.25910687310146646, 0.0880963368544986, 0.048366616312273736, 0.0362749622342053, 0.1478908041604195, 0.23107938150065543, 0.12940445364036704, 0.48988828878138957, 0.9894073491854497, 0.9491896242354565, 0.02565377362798531, 0.979096932537547, 0.9512100740259722, 0.9139050346721055, 0.08741700331646227, 0.9909892884732376, 0.06787889266848114, 0.06787889266848114, 0.13575778533696228, 0.7466678193532926, 0.9656275404210747, 0.06785436231898297, 0.19150008921135192, 0.6287837574892421, 0.09348823252837653, 0.016586621900195834, 0.9722600719223152, 0.9757783912761804, 0.9692905538240947, 0.870463033615687, 0.08882275853221297, 0.017764551706442592, 0.01639804772902393, 0.005466015909674644, 0.9757717472374395, 0.057895725939752896, 0.18776992196676615, 0.4850722984141459, 0.13926269212535156, 0.12987419602701325, 0.9869925557428497, 0.9781505539571296, 0.5068270496448626, 0.3187034722657651, 0.0165991391805086, 0.04647758970542408, 0.11176753714875791, 0.004697745878116117, 0.6952663899611853, 0.3006557361994315, 0.9342145274699907, 0.9795039245583388, 0.9903388642602287, 0.955561939259346, 0.9717226634643636, 0.06366719114004372, 0.06366719114004372, 0.8276734848205684, 0.9430592174364534, 0.0077299935855447005, 0.0386499679277235, 0.055976627466107536, 0.9391634163758042, 0.9751030225981687, 0.01651843233582214, 0.00825921616791107, 0.4253496326474201, 0.27668374162502085, 0.2725541335410653, 0.9709229481975374, 0.9860169883919967, 0.9916435690415724, 0.09465073127490169, 0.8676317033532654, 0.03155024375830056, 0.09433955012818447, 0.8962257262177524, 0.09940194542268002, 0.09629563462822127, 0.3396233135274901, 0.19673301698238754, 0.2681781652549388, 0.03473031632309351, 0.016029376764504694, 0.948404791899861, 0.03418842242855342, 0.9230874055709423, 0.03418842242855342, 0.04269860451663724, 0.8865043604406588, 0.03049900322616946, 0.004066533763489261, 0.03863207075314798, 0.00507489480000582, 0.9540802224010942, 0.04059915840004656, 0.9921705403473096, 0.016828397938221235, 0.9760470804168316, 0.9463934826464985, 0.03505161046838883, 0.9837638617164544, 0.18473344767513894, 0.11567421489938608, 0.3401167214205829, 0.17782752439756366, 0.1812804860363513, 0.003554181576884015, 0.1634923525366647, 0.47803742209090005, 0.27367198142006915, 0.08174617626833235, 0.1695396477276671, 0.774665775001802, 0.02086641818186672, 0.03390792954553342, 0.8779076095108247, 0.09938576711443298, 0.016564294519072164, 0.01564778070195909, 0.05215926900653031, 0.6989342046875061, 0.04694334210587728, 0.18255744152285608, 0.24683085734313862, 0.09151728710722525, 0.4830290008314959, 0.11658011262206701, 0.06227732400657651, 0.25025554379045, 0.08753794741641256, 0.29144987198640887, 0.2358375289218644, 0.13491142484176524, 0.9405674065917496, 0.055796371577476675, 0.24446258564565082, 0.042148721663043245, 0.18123950315108595, 0.1938841196499989, 0.33929720938749813, 0.18194039879305104, 0.3838012792057792, 0.22974955468027614, 0.1261630502579551, 0.07835389437073001, 0.9816250513387956, 0.060731450709296524, 0.030039212178791828, 0.8600357052058443, 0.03199829123393043, 0.016978685144534513, 0.9757720286481794, 0.019599547769386414, 0.9799773884693207, 0.019927703840902457, 0.9764574882042203, 0.993788180086794, 0.9927593439855895, 0.022796700666646016, 0.8358790244436872, 0.14057965411098378, 0.03857902223402545, 0.7630073286285034, 0.0771580444680509, 0.004286558026002828, 0.11573706670207635, 0.9823760066060794, 0.1968926751452997, 0.16480646141791752, 0.34565602969952613, 0.15751414011623976, 0.13563717621120647, 0.9640943728147947, 0.15770175786956742, 0.21649407988234473, 0.3534456064532849, 0.25384449621987387, 0.017983533792143652, 0.972180406354721, 0.09777945110733087, 0.045630410516754406, 0.8083101291539352, 0.045630410516754406, 0.02903365463979168, 0.9581106031131255, 0.9901793176443286, 0.04663127732069263, 0.9326255464138526, 0.973918374556501, 0.25051505539299906, 0.3510303553963629, 0.11597919231157365, 0.24123672000807317, 0.041752509232166515, 0.9702404676880068, 0.13786816261797988, 0.8272089757078792, 0.8619099156874316, 0.0031687864547332045, 0.07921966136833011, 0.053869369730464474, 0.9788598843506464, 0.2627100945202786, 0.2575589161963516, 0.15968652804173797, 0.31937305608347594, 0.9761170070835089, 0.022854276274905168, 0.06602346479417048, 0.6678527400333399, 0.2183853066268716, 0.022854276274905168, 0.10732418809018011, 0.10732418809018011, 0.7781003636538059, 0.007199857738283696, 0.08159838770054856, 0.01919962063542319, 0.8639829285940436, 0.026399478373706885, 0.1841977613074433, 0.01364427861536617, 0.798190298998921, 0.01364427861536617, 0.021157957894149825, 0.962687084183817, 0.11350894045989075, 0.13498360487122144, 0.16566169688740812, 0.546070037888123, 0.039881519621042694, 0.9795028930350058, 0.935660069413585, 0.0607571473645185, 0.37156375912604706, 0.17872687147835176, 0.17915444772590763, 0.20737448006459475, 0.06285370839071222, 0.013132968981437291, 0.13570734614151866, 0.5209411029303459, 0.18823922206726784, 0.14227383063223734, 0.9636174881584927, 0.9740780364740864, 0.6331209837956933, 0.021281377606577924, 0.13513674780176982, 0.14896964324604547, 0.06065192617874709, 0.9680817507085787, 0.08018560891093575, 0.2044168339842165, 0.30154306449605417, 0.3038018140428411, 0.10954935301916575, 0.9342110219497687, 0.035145320016845324, 0.9489236404548237, 0.06792374575042244, 0.022641248583474147, 0.04528249716694829, 0.8603674461720175, 0.018487935829093766, 0.055463807487281296, 0.7764933048219381, 0.055463807487281296, 0.1016836470600157, 0.9844673361345632, 0.1637263373739502, 0.038318930023690474, 0.7524444441015584, 0.045286008209816014, 0.09670170212894486, 0.17705945460229341, 0.521644393174449, 0.17705945460229341, 0.027239916092660525, 0.9781502411639852, 0.9705369498715875, 0.46236064799298154, 0.24841745341728175, 0.09328328863016294, 0.13079939384011977, 0.06489272252533074, 0.9884545681871595, 0.9717371449749329, 0.2278792946912477, 0.26323987490195855, 0.18662528444541837, 0.16698051766169014, 0.15322918091308035, 0.1721744301954173, 0.716965164545096, 0.010279070459427898, 0.10022093697942201, 0.15930921463822045, 0.8210551831354439, 0.012254554972170805, 0.01710728235795766, 0.9793919149930761, 0.965624711284739, 0.21682932018685797, 0.5814968132283918, 0.13059038602163037, 0.07022313210597105, 0.2738547966707925, 0.4820594708520114, 0.1819446251853895, 0.06377440470415714, 0.04230425643946992, 0.9118917499174627, 0.00940094587543776, 0.03760378350175104, 0.9835212767205798, 0.01865630195393349, 0.9234869467197078, 0.05596890586180047, 0.9651504609067313, 0.989908407289256, 0.9517736148623788, 0.009812099122292564, 0.02943629736687769, 0.009812099122292564, 0.9796044602697792, 0.9711354907783509, 0.024585708627300022, 0.9576691277623967, 0.007366685598172282, 0.033150085191775265, 0.9838721502785349, 0.01821985463478768, 0.00513219973870544, 0.8006231592380487, 0.12317279372893057, 0.07185079634187616, 0.9825207525228495, 0.7024776203990034, 0.0700143807706648, 0.0723481934630203, 0.1026877584636417, 0.053677691924176346, 0.06143688585249602, 0.914726967137163, 0.020478961950832007, 0.9876692331629093, 0.03185747417034631, 0.9557242251103893, 0.9790962453332046, 0.9651509242056563, 0.10717566144184619, 0.8727161003121762, 0.8589966884615645, 0.031236243216784167, 0.06767852696969903, 0.03644228375291486, 0.07465555883371888, 0.046659724271074295, 0.7885493401811556, 0.0793215312608263, 0.00933194485421486, 0.037403672714221396, 0.9537936542126456, 0.1358463603589485, 0.815078162153691, 0.9840531962552488, 0.5484736312241016, 0.20342449233194382, 0.175099563019901, 0.07209982006701805, 0.13599697679066428, 0.8159818607439857, 0.0389283696061149, 0.5839255440917235, 0.3166174061297345, 0.06228539136978384, 0.9592544459433137, 0.017440989926242066, 0.021801237407802584, 0.0021801237407802583, 0.9715630033551896, 0.020819207214754065, 0.006939735738251355, 0.06989024317939622, 0.26101866330264306, 0.31949825453438274, 0.3480248844035241, 0.024202695929220062, 0.9439051412395825, 0.024202695929220062, 0.9656242317107758, 0.2585497180309575, 0.73871348008845, 0.27790658235137544, 0.3799229227082095, 0.1495067056953602, 0.16885463231475978, 0.022865731459290387, 0.9749018002837215, 0.8270351094079608, 0.04470460050853842, 0.12852572646204796, 0.9942709821533579, 0.9846475465037515, 0.1588116572410424, 0.7033087677817592, 0.10436194618697073, 0.03176233144820848, 0.9547508152129766, 0.9885754877086943, 0.08616737630635415, 0.2734877595810371, 0.5956788188134917, 0.044956891985923904, 0.24525149989526276, 0.41002985138739245, 0.34488492172771323, 0.1769976431803967, 0.7964893943117851, 0.050979614241332835, 0.9176330563439911, 0.006337892371699904, 0.3168946185849952, 0.27886726435479575, 0.39294932704539404, 0.979991994216318, 0.8834258011470094, 0.03418016492533072, 0.005258486911589342, 0.07624806021804545, 0.6003492197551845, 0.051093550617462506, 0.18450448834083683, 0.11779901947914967, 0.046126122085209206, 0.04553539537378119, 0.17455234893282792, 0.7816909539165772, 0.015171719742712591, 0.9709900635336058, 0.015171719742712591, 0.9405513030383251, 0.04950270015991185, 0.9866804918957515, 0.962955567432915, 0.934202238203398, 0.06330405613803798, 0.20347732330083637, 0.049738901251315554, 0.642083997971528, 0.040695464660167276, 0.056641913431176485, 0.056641913431176485, 0.8496287014676474, 0.09178147390194674, 0.8872209143854852, 0.9846486342384178, 0.9480446445080416, 0.04121933236991485, 0.027188512647357728, 0.06948175454324752, 0.5226236319992097, 0.13292161738708222, 0.24469661382621954, 0.18863850691522166, 0.022048656652428507, 0.4189244763961416, 0.1494408950886821, 0.22048656652428505, 0.02642777642129848, 0.008809258807099492, 0.004404629403549746, 0.9602092099738447, 0.9622236061925871, 0.9919444905787744, 0.3289508777980362, 0.22239805109132768, 0.25585068273180595, 0.1548732946318438, 0.03778908389016988, 0.5143256556557497, 0.19311111978152687, 0.09559956424828062, 0.19502311106649248, 0.0038239825699312247, 0.8302860359158464, 0.05139865936621906, 0.02767620119719488, 0.06721363147890186, 0.023722458169024182, 0.9666018190922773, 0.092394616115245, 0.08212854765799556, 0.7904872712082073, 0.02053213691449889, 0.010266068457249445, 0.020022202725299976, 0.002502775340662497, 0.4780300900665369, 0.44549401063792443, 0.05255828215391243, 0.08493047447650309, 0.934235219241534, 0.9845208474076335, 0.9622160982067026, 0.9463587365747191, 0.9473892221693482, 0.04048671889612599, 0.016194687558450396, 0.017070215288468492, 0.09388618408657672, 0.059745753509639725, 0.8193703338464877, 0.12309327849089706, 0.8719107226438542, 0.9722416798396071, 0.07684933526918207, 0.03341275446486177, 0.46777856250806477, 0.19713525134268445, 0.22386545491457385, 0.0244203980152012, 0.6764450250210733, 0.17582686570944864, 0.12454402987752612, 0.30661919951581856, 0.6528021667110976, 0.00899176538169556, 0.030572002297764904, 0.0017983530763391118, 0.9655281586739585, 0.9776994136030638, 0.015940751308745605, 0.9254979640782265, 0.06382744579849838, 0.27099910779976344, 0.18281685843634835, 0.25809438838072707, 0.18926921814586653, 0.09893618221261205, 0.9566733428921553, 0.9816246608698197, 0.1403510601473233, 0.12865513846837967, 0.7368430657734473, 0.04258113698133988, 0.12649102456221553, 0.5472928488483979, 0.23294386701556521, 0.050095455272164566, 0.6715910398935834, 0.0303201372412453, 0.11976454210291894, 0.125828569551168, 0.05306024017217927, 0.3859765633371549, 0.3880369364510543, 0.12671294650481332, 0.08275832007495937, 0.016139589392211995, 0.85395384435775, 0.015158943982681954, 0.07579471991340976, 0.05558279460316716, 0.9211265898588272, 0.026507239995937473, 0.046387669992890575, 0.9100236430949065, 0.021448368692472543, 0.01838431602211932, 0.0459607900552983, 0.0030640526703532203, 0.18097554673385244, 0.08586431049416356, 0.30250657081789933, 0.2813707405424129, 0.14927180132062282, 0.3041655159706764, 0.2422349083374717, 0.2375313178843169, 0.1387559183680663, 0.07760924247705403, 0.38306656792806193, 0.12273006545268003, 0.09855596165139457, 0.3663306499117874, 0.027893196693790916, 0.1325725070999385, 0.31335319859985467, 0.2601233283248794, 0.24807128222488495, 0.04519517287497904], \"Term\": [\"account\", \"account\", \"account\", \"adventure\", \"adventure\", \"adventure\", \"adventure\", \"adventure\", \"aged\", \"agency\", \"agency\", \"agent\", \"agent\", \"agent\", \"agent\", \"alanna\", \"alien\", \"alien\", \"alien\", \"alliance\", \"alliance\", \"alliance\", \"alliance\", \"alluring\", \"america\", \"america\", \"america\", \"america\", \"america\", \"american\", \"american\", \"american\", \"american\", \"american\", \"americans\", \"americans\", \"amp\", \"amp\", \"amp\", \"amp\", \"analysis\", \"ancient\", \"ancient\", \"ancient\", \"ancient\", \"anne\", \"anne\", \"annual\", \"annual\", \"annual\", \"apart\", \"apart\", \"apart\", \"apart\", \"apart\", \"aren\", \"aren\", \"aren\", \"aren\", \"army\", \"army\", \"army\", \"army\", \"author\", \"author\", \"author\", \"author\", \"author\", \"award\", \"award\", \"award\", \"award\", \"award\", \"away\", \"away\", \"away\", \"away\", \"away\", \"baseball\", \"based\", \"based\", \"based\", \"based\", \"based\", \"battle\", \"battle\", \"battle\", \"battle\", \"battle\", \"beatrice\", \"beats\", \"beautiful\", \"beautiful\", \"beautiful\", \"beautiful\", \"beautiful\", \"bella\", \"best\", \"best\", \"best\", \"best\", \"best\", \"bible\", \"big\", \"big\", \"big\", \"big\", \"big\", \"book\", \"book\", \"book\", \"book\", \"book\", \"books\", \"books\", \"books\", \"books\", \"bosch\", \"boys\", \"boys\", \"boys\", \"boys\", \"boys\", \"brian\", \"brian\", \"brick\", \"brick\", \"carre\", \"carter\", \"case\", \"case\", \"case\", \"case\", \"cassie\", \"century\", \"century\", \"century\", \"century\", \"century\", \"charming\", \"charming\", \"charming\", \"china\", \"chloe\", \"cia\", \"cia\", \"cia\", \"city\", \"city\", \"city\", \"city\", \"city\", \"clarity\", \"clary\", \"classic\", \"classic\", \"classic\", \"classic\", \"classics\", \"clay\", \"clay\", \"clue\", \"clue\", \"clue\", \"collection\", \"collection\", \"collection\", \"controversial\", \"cop\", \"cop\", \"cotton\", \"crime\", \"crime\", \"crime\", \"crime\", \"cultural\", \"cultural\", \"culture\", \"culture\", \"cultures\", \"cyborg\", \"dark\", \"dark\", \"dark\", \"dark\", \"dark\", \"darkness\", \"darkness\", \"darkness\", \"dating\", \"dating\", \"day\", \"day\", \"day\", \"day\", \"day\", \"dead\", \"dead\", \"dead\", \"dead\", \"dead\", \"death\", \"death\", \"death\", \"death\", \"death\", \"definitive\", \"deny\", \"deny\", \"deny\", \"desire\", \"desire\", \"desire\", \"desire\", \"desire\", \"destruction\", \"destruction\", \"destruction\", \"detailed\", \"detective\", \"detective\", \"detectives\", \"digging\", \"doesn\", \"doesn\", \"doesn\", \"doesn\", \"doesn\", \"dominion\", \"don\", \"don\", \"don\", \"don\", \"don\", \"doors\", \"doors\", \"dragon\", \"dragon\", \"dragon\", \"dragons\", \"dragons\", \"dune\", \"earth\", \"earth\", \"earth\", \"earth\", \"earth\", \"economic\", \"eddie\", \"edition\", \"edition\", \"edition\", \"edition\", \"edition\", \"ella\", \"elven\", \"empire\", \"empire\", \"empire\", \"enemies\", \"enemies\", \"enemies\", \"enemy\", \"enemy\", \"enemy\", \"enforcement\", \"epic\", \"epic\", \"essay\", \"essential\", \"evidence\", \"evidence\", \"evidence\", \"evil\", \"evil\", \"evil\", \"evil\", \"evil\", \"evolution\", \"examines\", \"exceptionally\", \"exiled\", \"explains\", \"fae\", \"faeries\", \"family\", \"family\", \"family\", \"family\", \"family\", \"fantasy\", \"fantasy\", \"fantasy\", \"fantasy\", \"fantasy\", \"father\", \"father\", \"father\", \"father\", \"father\", \"fbi\", \"feelings\", \"feelings\", \"feelings\", \"feelings\", \"fiction\", \"fiction\", \"fiction\", \"fiction\", \"fiction\", \"film\", \"film\", \"film\", \"film\", \"finds\", \"finds\", \"finds\", \"finds\", \"finds\", \"flat\", \"flat\", \"flat\", \"flat\", \"fledgling\", \"forces\", \"forces\", \"forces\", \"forces\", \"forensic\", \"friend\", \"friend\", \"friend\", \"friend\", \"friend\", \"future\", \"future\", \"future\", \"future\", \"future\", \"gangsters\", \"gets\", \"gets\", \"gets\", \"gets\", \"gibson\", \"gibson\", \"girl\", \"girl\", \"girl\", \"girl\", \"girl\", \"gods\", \"gods\", \"going\", \"going\", \"going\", \"going\", \"going\", \"gorgeous\", \"gorgeous\", \"gorgeous\", \"great\", \"great\", \"great\", \"great\", \"great\", \"green\", \"green\", \"green\", \"green\", \"groundbreaking\", \"gruesome\", \"gruesome\", \"guild\", \"guin\", \"handsome\", \"handsome\", \"happily\", \"harper\", \"harper\", \"harper\", \"harper\", \"hathaway\", \"heart\", \"heart\", \"heart\", \"heart\", \"heart\", \"heartache\", \"heartbreak\", \"historian\", \"history\", \"history\", \"history\", \"history\", \"history\", \"hogwarts\", \"home\", \"home\", \"home\", \"home\", \"home\", \"homicide\", \"horizon\", \"human\", \"human\", \"human\", \"human\", \"human\", \"husband\", \"husband\", \"husband\", \"idaho\", \"illustrations\", \"indy\", \"inspector\", \"intellectual\", \"interference\", \"interference\", \"interference\", \"introduction\", \"introduction\", \"introduction\", \"investigation\", \"investigation\", \"investigator\", \"isn\", \"isn\", \"isn\", \"isn\", \"isn\", \"jace\", \"jake\", \"jamie\", \"jason\", \"jason\", \"jason\", \"joe\", \"joe\", \"just\", \"just\", \"just\", \"just\", \"just\", \"killer\", \"killer\", \"killer\", \"killers\", \"killers\", \"killers\", \"king\", \"king\", \"king\", \"king\", \"king\", \"kingdom\", \"kingdom\", \"kingdom\", \"kingdoms\", \"kings\", \"kings\", \"kiss\", \"kiss\", \"knights\", \"know\", \"know\", \"know\", \"know\", \"know\", \"knows\", \"knows\", \"knows\", \"knows\", \"knows\", \"land\", \"land\", \"land\", \"land\", \"lands\", \"lands\", \"lands\", \"let\", \"let\", \"let\", \"let\", \"let\", \"life\", \"life\", \"life\", \"life\", \"life\", \"like\", \"like\", \"like\", \"like\", \"like\", \"literary\", \"literary\", \"little\", \"little\", \"little\", \"little\", \"little\", \"long\", \"long\", \"long\", \"long\", \"long\", \"lords\", \"love\", \"love\", \"love\", \"love\", \"love\", \"lucinda\", \"lucy\", \"lucy\", \"mac\", \"mac\", \"mage\", \"maggie\", \"magic\", \"magic\", \"magic\", \"magical\", \"magical\", \"magical\", \"magical\", \"magical\", \"magician\", \"make\", \"make\", \"make\", \"make\", \"make\", \"malone\", \"man\", \"man\", \"man\", \"man\", \"man\", \"manhunt\", \"marriage\", \"marriage\", \"marriage\", \"marriage\", \"marry\", \"marry\", \"mcelhaney\", \"melanie\", \"melanie\", \"memoir\", \"men\", \"men\", \"men\", \"men\", \"men\", \"mess\", \"mia\", \"mia\", \"modern\", \"modern\", \"modern\", \"modern\", \"molly\", \"money\", \"money\", \"money\", \"money\", \"mortals\", \"mother\", \"mother\", \"mother\", \"mother\", \"mother\", \"mouse\", \"mouse\", \"mouse\", \"murder\", \"murder\", \"murder\", \"murder\", \"murder\", \"murdered\", \"murdered\", \"murdered\", \"murdered\", \"murders\", \"murders\", \"mystery\", \"mystery\", \"mystery\", \"mystery\", \"mystery\", \"myths\", \"narrative\", \"narrative\", \"new\", \"new\", \"new\", \"new\", \"new\", \"night\", \"night\", \"night\", \"night\", \"night\", \"nineteenth\", \"nobleman\", \"novel\", \"novel\", \"novel\", \"novel\", \"novel\", \"nurse\", \"old\", \"old\", \"old\", \"old\", \"old\", \"outsiders\", \"owen\", \"owen\", \"pack\", \"pack\", \"pack\", \"pack\", \"pain\", \"pain\", \"pain\", \"pain\", \"pain\", \"palace\", \"passion\", \"passion\", \"passion\", \"passion\", \"past\", \"past\", \"past\", \"past\", \"past\", \"patch\", \"penguin\", \"people\", \"people\", \"people\", \"people\", \"people\", \"perspective\", \"philosophical\", \"place\", \"place\", \"place\", \"place\", \"place\", \"planet\", \"planet\", \"planet\", \"planet\", \"pleasure\", \"pleasure\", \"pleasure\", \"police\", \"police\", \"potter\", \"power\", \"power\", \"power\", \"power\", \"powerful\", \"powerful\", \"powerful\", \"powerful\", \"powers\", \"powers\", \"powers\", \"powers\", \"preston\", \"pretty\", \"pretty\", \"pretty\", \"produced\", \"prophecy\", \"provides\", \"provides\", \"provides\", \"provides\", \"psychopath\", \"publication\", \"publication\", \"published\", \"published\", \"published\", \"pulitzer\", \"pulitzer\", \"queen\", \"queen\", \"queen\", \"queen\", \"reacher\", \"readers\", \"readers\", \"readers\", \"readers\", \"readers\", \"realm\", \"realm\", \"realm\", \"realms\", \"rebecca\", \"rebecca\", \"reborn\", \"recounts\", \"reporter\", \"reporter\", \"research\", \"research\", \"research\", \"research\", \"romance\", \"romance\", \"romance\", \"romance\", \"romance\", \"ruler\", \"ruler\", \"safely\", \"safely\", \"sara\", \"save\", \"save\", \"save\", \"save\", \"scared\", \"scared\", \"school\", \"school\", \"school\", \"school\", \"science\", \"science\", \"science\", \"science\", \"scientific\", \"scientific\", \"scientific\", \"secret\", \"secret\", \"secret\", \"secret\", \"sensual\", \"sensual\", \"sensual\", \"sensuality\", \"serial\", \"serial\", \"series\", \"series\", \"series\", \"series\", \"series\", \"sheriff\", \"ship\", \"ship\", \"ship\", \"ships\", \"siblings\", \"sister\", \"sister\", \"sister\", \"sister\", \"sophia\", \"sorcery\", \"soul\", \"soul\", \"soul\", \"soul\", \"space\", \"space\", \"space\", \"spaceship\", \"spaceship\", \"statue\", \"statue\", \"stay\", \"stay\", \"stay\", \"stay\", \"stones\", \"stories\", \"stories\", \"stories\", \"stories\", \"story\", \"story\", \"story\", \"story\", \"story\", \"suspense\", \"suspense\", \"suspense\", \"sweet\", \"sweet\", \"sweet\", \"sword\", \"sword\", \"swords\", \"swore\", \"tame\", \"team\", \"team\", \"team\", \"team\", \"team\", \"teeth\", \"teeth\", \"teeth\", \"terrorist\", \"terrorist\", \"tesha\", \"text\", \"text\", \"thing\", \"thing\", \"thing\", \"thing\", \"thing\", \"things\", \"things\", \"things\", \"things\", \"things\", \"thriller\", \"thriller\", \"thriller\", \"thriller\", \"thrillers\", \"throne\", \"time\", \"time\", \"time\", \"time\", \"time\", \"times\", \"times\", \"times\", \"times\", \"times\", \"today\", \"today\", \"today\", \"today\", \"today\", \"tolkien\", \"touch\", \"touch\", \"touch\", \"touch\", \"touch\", \"town\", \"town\", \"town\", \"town\", \"town\", \"traders\", \"traders\", \"translation\", \"tris\", \"trusting\", \"understanding\", \"understanding\", \"understanding\", \"victim\", \"victim\", \"victim\", \"victim\", \"victims\", \"victims\", \"vorkosigan\", \"want\", \"want\", \"want\", \"want\", \"want\", \"wants\", \"wants\", \"wants\", \"wants\", \"war\", \"war\", \"war\", \"war\", \"war\", \"warden\", \"warrior\", \"warrior\", \"warriors\", \"warriors\", \"way\", \"way\", \"way\", \"way\", \"way\", \"widowed\", \"wizards\", \"wolf\", \"wolf\", \"wolf\", \"woman\", \"woman\", \"woman\", \"woman\", \"woman\", \"work\", \"work\", \"work\", \"work\", \"work\", \"world\", \"world\", \"world\", \"world\", \"world\", \"writer\", \"writer\", \"writer\", \"writer\", \"writing\", \"writing\", \"writing\", \"written\", \"written\", \"written\", \"written\", \"written\", \"year\", \"year\", \"year\", \"year\", \"year\", \"years\", \"years\", \"years\", \"years\", \"years\", \"york\", \"york\", \"york\", \"york\", \"york\", \"young\", \"young\", \"young\", \"young\", \"young\"]}, \"R\": 30, \"lambda.step\": 0.01, \"plot.opts\": {\"xlab\": \"PC1\", \"ylab\": \"PC2\"}, \"topic.order\": [3, 2, 5, 4, 1]};\n",
       "\n",
       "function LDAvis_load_lib(url, callback){\n",
       "  var s = document.createElement('script');\n",
       "  s.src = url;\n",
       "  s.async = true;\n",
       "  s.onreadystatechange = s.onload = callback;\n",
       "  s.onerror = function(){console.warn(\"failed to load library \" + url);};\n",
       "  document.getElementsByTagName(\"head\")[0].appendChild(s);\n",
       "}\n",
       "\n",
       "if(typeof(LDAvis) !== \"undefined\"){\n",
       "   // already loaded: just create the visualization\n",
       "   !function(LDAvis){\n",
       "       new LDAvis(\"#\" + \"ldavis_el315531123072277688521298739\", ldavis_el315531123072277688521298739_data);\n",
       "   }(LDAvis);\n",
       "}else if(typeof define === \"function\" && define.amd){\n",
       "   // require.js is available: use it to load d3/LDAvis\n",
       "   require.config({paths: {d3: \"https://cdnjs.cloudflare.com/ajax/libs/d3/3.5.5/d3.min\"}});\n",
       "   require([\"d3\"], function(d3){\n",
       "      window.d3 = d3;\n",
       "      LDAvis_load_lib(\"https://cdn.rawgit.com/bmabey/pyLDAvis/files/ldavis.v1.0.0.js\", function(){\n",
       "        new LDAvis(\"#\" + \"ldavis_el315531123072277688521298739\", ldavis_el315531123072277688521298739_data);\n",
       "      });\n",
       "    });\n",
       "}else{\n",
       "    // require.js not available: dynamically load d3 & LDAvis\n",
       "    LDAvis_load_lib(\"https://cdnjs.cloudflare.com/ajax/libs/d3/3.5.5/d3.min.js\", function(){\n",
       "         LDAvis_load_lib(\"https://cdn.rawgit.com/bmabey/pyLDAvis/files/ldavis.v1.0.0.js\", function(){\n",
       "                 new LDAvis(\"#\" + \"ldavis_el315531123072277688521298739\", ldavis_el315531123072277688521298739_data);\n",
       "            })\n",
       "         });\n",
       "}\n",
       "</script>"
      ],
      "text/plain": [
       "PreparedData(topic_coordinates=              x         y  topics  cluster       Freq\n",
       "topic                                                \n",
       "2      0.061872 -0.184822       1        1  29.672994\n",
       "1      0.159670  0.093630       2        1  22.770171\n",
       "4     -0.051687  0.065541       3        1  22.364866\n",
       "3     -0.020599  0.028772       4        1  17.941399\n",
       "0     -0.149256 -0.003121       5        1   7.250570, topic_info=     Category         Freq       Term        Total  loglift  logprob\n",
       "3463  Default  1531.000000       love  1531.000000  30.0000  30.0000\n",
       "3211  Default   965.000000       just   965.000000  29.0000  29.0000\n",
       "6320  Default  1112.000000        war  1112.000000  28.0000  28.0000\n",
       "3380  Default  2633.000000       life  2633.000000  27.0000  27.0000\n",
       "3241  Default   374.000000     killer   374.000000  26.0000  26.0000\n",
       "2492  Default   538.000000       girl   538.000000  25.0000  25.0000\n",
       "634   Default  1584.000000       book  1584.000000  24.0000  24.0000\n",
       "1755  Default   697.000000      earth   697.000000  23.0000  23.0000\n",
       "3515  Default   526.000000      magic   526.000000  22.0000  22.0000\n",
       "3415  Default   474.000000     little   474.000000  21.0000  21.0000\n",
       "218   Default   474.000000    ancient   474.000000  20.0000  20.0000\n",
       "3802  Default   416.000000     murder   416.000000  19.0000  19.0000\n",
       "3252  Default   491.000000       king   491.000000  18.0000  18.0000\n",
       "2757  Default   731.000000    history   731.000000  17.0000  17.0000\n",
       "1393  Default   627.000000        day   627.000000  16.0000  16.0000\n",
       "1654  Default   368.000000      doesn   368.000000  15.0000  15.0000\n",
       "5051  Default   458.000000    science   458.000000  14.0000  14.0000\n",
       "2821  Default   903.000000      human   903.000000  13.0000  13.0000\n",
       "808   Default   289.000000       case   289.000000  12.0000  12.0000\n",
       "4290  Default   233.000000     police   233.000000  11.0000  11.0000\n",
       "3389  Default   971.000000       like   971.000000  10.0000  10.0000\n",
       "5856  Default   227.000000   thriller   227.000000   9.0000   9.0000\n",
       "1989  Default   416.000000       evil   416.000000   8.0000   8.0000\n",
       "481   Default   373.000000     battle   373.000000   7.0000   7.0000\n",
       "6513  Default   757.000000       year   757.000000   6.0000   6.0000\n",
       "5379  Default   260.000000      space   260.000000   5.0000   5.0000\n",
       "205   Default   543.000000   american   543.000000   4.0000   4.0000\n",
       "1538  Default   193.000000  detective   193.000000   3.0000   3.0000\n",
       "6319  Default   409.000000      wants   409.000000   2.0000   2.0000\n",
       "2218  Default   419.000000    fiction   419.000000   1.0000   1.0000\n",
       "...       ...          ...        ...          ...      ...      ...\n",
       "5379   Topic5    90.095130      space   260.956610   1.5606  -5.6758\n",
       "563    Topic5    78.207660        big   213.583935   1.6194  -5.8173\n",
       "1393   Topic5   154.975348        day   627.048440   1.2263  -5.1334\n",
       "2515   Topic5    84.950279      going   250.874283   1.5412  -5.7346\n",
       "1670   Topic5    84.664788        don   250.298186   1.5401  -5.7380\n",
       "5479   Topic5    62.094988       stay   157.781158   1.6915  -6.0480\n",
       "2238   Topic5    45.791069       film    99.014188   1.8529  -6.3526\n",
       "287    Topic5    37.508400       aren    70.479711   1.9933  -6.5521\n",
       "5826   Topic5    90.293078     things   408.188133   1.1154  -5.6736\n",
       "5825   Topic5    80.971586      thing   331.022153   1.2160  -5.7826\n",
       "3756   Topic5    61.578373      money   194.130340   1.4759  -6.0564\n",
       "3266   Topic5   104.544325       know   579.212922   0.9120  -5.5271\n",
       "3389   Topic5   130.738312       like   971.007460   0.6190  -5.3035\n",
       "6513   Topic5   113.233436       year   757.008350   0.7242  -5.4472\n",
       "3122   Topic5    66.420216        isn   242.153730   1.3305  -5.9807\n",
       "2480   Topic5    55.120502       gets   158.596651   1.5672  -6.1672\n",
       "3380   Topic5   164.144238       life  2633.382256  -0.1512  -5.0759\n",
       "3879   Topic5   146.910781        new  2338.764152  -0.1435  -5.1869\n",
       "3532   Topic5    93.079001       make   685.652729   0.6272  -5.6432\n",
       "2821   Topic5   101.440269      human   903.661319   0.4371  -5.5572\n",
       "3984   Topic5    96.939115        old   885.445667   0.4121  -5.6026\n",
       "6316   Topic5    66.827923       want   299.286909   1.1248  -5.9746\n",
       "4234   Topic5    77.962407      place   509.041421   0.7478  -5.8204\n",
       "2775   Topic5    82.880447       home   639.079991   0.5815  -5.7593\n",
       "6354   Topic5    91.658795        way   929.892360   0.3071  -5.6586\n",
       "6517   Topic5    98.676560      years  1275.621264   0.0647  -5.5848\n",
       "546    Topic5    72.666908       best   708.218454   0.3472  -5.8908\n",
       "1755   Topic5    67.980696      earth   697.198056   0.2962  -5.9575\n",
       "3893   Topic5    64.830330      night   456.865466   0.6715  -6.0049\n",
       "5518   Topic5    64.991476      story  1409.179811  -0.4524  -6.0024\n",
       "\n",
       "[423 rows x 6 columns], token_table=      Topic      Freq       Term\n",
       "term                            \n",
       "41        1  0.960332    account\n",
       "41        2  0.029855    account\n",
       "41        4  0.004976    account\n",
       "101       1  0.140648  adventure\n",
       "101       2  0.594435  adventure\n",
       "101       3  0.122072  adventure\n",
       "101       4  0.071651  adventure\n",
       "101       5  0.068997  adventure\n",
       "129       5  0.965527       aged\n",
       "132       3  0.048853     agency\n",
       "132       4  0.928204     agency\n",
       "134       2  0.026651      agent\n",
       "134       3  0.006663      agent\n",
       "134       4  0.959430      agent\n",
       "134       5  0.006663      agent\n",
       "156       2  0.985596     alanna\n",
       "167       1  0.066862      alien\n",
       "167       2  0.819055      alien\n",
       "167       5  0.112829      alien\n",
       "176       2  0.960065   alliance\n",
       "176       3  0.012468   alliance\n",
       "176       4  0.012468   alliance\n",
       "176       5  0.012468   alliance\n",
       "185       3  0.956679   alluring\n",
       "204       1  0.780623    america\n",
       "204       2  0.074820    america\n",
       "204       3  0.037410    america\n",
       "204       4  0.104748    america\n",
       "204       5  0.004988    america\n",
       "205       1  0.844355   american\n",
       "...     ...       ...        ...\n",
       "6502      4  0.075795     writer\n",
       "6502      5  0.055583     writer\n",
       "6505      1  0.921127    writing\n",
       "6505      3  0.026507    writing\n",
       "6505      4  0.046388    writing\n",
       "6507      1  0.910024    written\n",
       "6507      2  0.021448    written\n",
       "6507      3  0.018384    written\n",
       "6507      4  0.045961    written\n",
       "6507      5  0.003064    written\n",
       "6513      1  0.180976       year\n",
       "6513      2  0.085864       year\n",
       "6513      3  0.302507       year\n",
       "6513      4  0.281371       year\n",
       "6513      5  0.149272       year\n",
       "6517      1  0.304166      years\n",
       "6517      2  0.242235      years\n",
       "6517      3  0.237531      years\n",
       "6517      4  0.138756      years\n",
       "6517      5  0.077609      years\n",
       "6521      1  0.383067       york\n",
       "6521      2  0.122730       york\n",
       "6521      3  0.098556       york\n",
       "6521      4  0.366331       york\n",
       "6521      5  0.027893       york\n",
       "6523      1  0.132573      young\n",
       "6523      2  0.313353      young\n",
       "6523      3  0.260123      young\n",
       "6523      4  0.248071      young\n",
       "6523      5  0.045195      young\n",
       "\n",
       "[956 rows x 3 columns], R=30, lambda_step=0.01, plot_opts={'xlab': 'PC1', 'ylab': 'PC2'}, topic_order=[3, 2, 5, 4, 1])"
      ]
     },
     "execution_count": 22,
     "metadata": {},
     "output_type": "execute_result"
    }
   ],
   "source": [
    "pyLDAvis.sklearn.prepare(lda_tf, dtm_tf, tf_vectorizer)"
   ]
  }
 ],
 "metadata": {
  "kernelspec": {
   "display_name": "Python 3",
   "language": "python",
   "name": "python3"
  },
  "language_info": {
   "codemirror_mode": {
    "name": "ipython",
    "version": 3
   },
   "file_extension": ".py",
   "mimetype": "text/x-python",
   "name": "python",
   "nbconvert_exporter": "python",
   "pygments_lexer": "ipython3",
   "version": "3.6.8"
  }
 },
 "nbformat": 4,
 "nbformat_minor": 2
}
