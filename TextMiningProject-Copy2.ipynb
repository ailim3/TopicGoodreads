{
 "cells": [
  {
   "cell_type": "markdown",
   "metadata": {},
   "source": [
    "Import packages"
   ]
  },
  {
   "cell_type": "code",
   "execution_count": 1,
   "metadata": {},
   "outputs": [
    {
     "name": "stdout",
     "output_type": "stream",
     "text": [
      "[nltk_data] Downloading package stopwords to /Users/Amy/nltk_data...\n",
      "[nltk_data]   Package stopwords is already up-to-date!\n"
     ]
    }
   ],
   "source": [
    "import pandas as pd\n",
    "import numpy as np  \n",
    "import re #for datacleaning\n",
    "import nltk  \n",
    "nltk.download('stopwords')  \n",
    "from nltk.corpus import stopwords\n",
    "from nltk.stem import WordNetLemmatizer\n",
    "from sklearn.metrics import accuracy_score #for measuring accuracy in text category models\n",
    "from sklearn.model_selection import train_test_split #to divide in train and test set\n",
    "from sklearn.feature_extraction.text import TfidfVectorizer  #for tfidf vectorize\n",
    "from sklearn import naive_bayes, svm #for text categorization models\n",
    "from sklearn.feature_extraction.text import CountVectorizer #for vectorizing\n",
    "from sklearn.decomposition import LatentDirichletAllocation #for the topic mining model"
   ]
  },
  {
   "cell_type": "markdown",
   "metadata": {},
   "source": [
    "The packages <b> langdetect </b> and <b> pyLDAvis </b> need to be downloaded and installed using pip. "
   ]
  },
  {
   "cell_type": "code",
   "execution_count": 2,
   "metadata": {},
   "outputs": [],
   "source": [
    "from langdetect import detect\n",
    "import pyLDAvis.sklearn"
   ]
  },
  {
   "cell_type": "markdown",
   "metadata": {},
   "source": [
    "# Text Categorization"
   ]
  },
  {
   "cell_type": "markdown",
   "metadata": {},
   "source": [
    "Import datasets. The datasets are webscraped from the lists on Goodreads: <br>\n",
    "for non-fiction: https://www.goodreads.com/list/show/134.Best_Non_Fiction_no_biographies_ <br>\n",
    "for fiction: https://www.goodreads.com/list/show/2522.Cult_Classics"
   ]
  },
  {
   "cell_type": "code",
   "execution_count": 3,
   "metadata": {},
   "outputs": [],
   "source": [
    "nf = pd.read_csv('booksSummaryNF.txt', sep=\"|\", header=None)\n",
    "f = pd.read_csv(\"booksSummaryCult_Classics.txt\",sep=\"|\", header=None)"
   ]
  },
  {
   "cell_type": "markdown",
   "metadata": {},
   "source": [
    "I rename datasets' columns and add a new column specifing the genre original dataset"
   ]
  },
  {
   "cell_type": "code",
   "execution_count": 4,
   "metadata": {},
   "outputs": [],
   "source": [
    "f = f.rename(columns={0: \"title\", 1: \"rating\",2:\"summary\"})\n",
    "nf = nf.rename(columns={0: \"title\", 1: \"rating\",2:\"summary\"})\n",
    "f[\"genre\"]=\"fiction\"\n",
    "nf[\"genre\"]=\"non fiction\""
   ]
  },
  {
   "cell_type": "markdown",
   "metadata": {},
   "source": [
    "I append the two datasets."
   ]
  },
  {
   "cell_type": "code",
   "execution_count": 5,
   "metadata": {},
   "outputs": [],
   "source": [
    "df=f.append(nf,ignore_index = True)"
   ]
  },
  {
   "cell_type": "markdown",
   "metadata": {},
   "source": [
    "I define the target value. "
   ]
  },
  {
   "cell_type": "code",
   "execution_count": 6,
   "metadata": {},
   "outputs": [],
   "source": [
    "X=df[\"summary\"]\n",
    "y=df[\"genre\"]"
   ]
  },
  {
   "cell_type": "markdown",
   "metadata": {},
   "source": [
    "Perform data cleaning on the dataset."
   ]
  },
  {
   "cell_type": "code",
   "execution_count": 8,
   "metadata": {},
   "outputs": [],
   "source": [
    "documents = []\n",
    "stemmer = WordNetLemmatizer()\n",
    "\n",
    "for i in range(0, len(X)):  \n",
    "    document = re.sub(r'\\W', ' ', str(X[i])) #remove all the special characters\n",
    "    document = re.sub(r'\\s+[a-zA-Z]\\s+', ' ', document) #remove all single characters\n",
    "    document = re.sub(r'\\^[a-zA-Z]\\s+', ' ', document) #remove single characters from the start\n",
    "    document = re.sub(r'\\s+', ' ', document, flags=re.I)  # substitute multiple spaces with single space\n",
    "    document = document.lower() #converte to Lowercase\n",
    "    document = document.split() #lemmatization\n",
    "    document = [stemmer.lemmatize(word) for word in document]\n",
    "    document = ' '.join(document)\n",
    "    documents.append(document)"
   ]
  },
  {
   "cell_type": "markdown",
   "metadata": {},
   "source": [
    "I divide the dataset in test and train."
   ]
  },
  {
   "cell_type": "code",
   "execution_count": 9,
   "metadata": {},
   "outputs": [],
   "source": [
    "Train_X, Test_X, Train_Y, Test_Y = train_test_split(documents,y,test_size=0.3)"
   ]
  },
  {
   "cell_type": "markdown",
   "metadata": {},
   "source": [
    "I apply TfidfVectorizer"
   ]
  },
  {
   "cell_type": "code",
   "execution_count": 10,
   "metadata": {},
   "outputs": [],
   "source": [
    "Tfidf_vect = TfidfVectorizer(max_features=5000)\n",
    "Tfidf_vect.fit(documents)\n",
    "Train_X_Tfidf = Tfidf_vect.transform(Train_X)\n",
    "Test_X_Tfidf = Tfidf_vect.transform(Test_X)"
   ]
  },
  {
   "cell_type": "markdown",
   "metadata": {},
   "source": [
    "<b> Naive Bayes classifier</b> model, first fit the model on the train set then predict the values of the test set and calculate the accuracy:"
   ]
  },
  {
   "cell_type": "code",
   "execution_count": 11,
   "metadata": {},
   "outputs": [
    {
     "name": "stdout",
     "output_type": "stream",
     "text": [
      "Naive Bayes Accuracy Score ->  84.95726495726495\n"
     ]
    }
   ],
   "source": [
    "Naive = naive_bayes.MultinomialNB()\n",
    "Naive.fit(Train_X_Tfidf,Train_Y)\n",
    "predictions_NB = Naive.predict(Test_X_Tfidf)\n",
    "print(\"Naive Bayes Accuracy Score -> \",accuracy_score(y_pred=predictions_NB, y_true=Test_Y)*100)"
   ]
  },
  {
   "cell_type": "markdown",
   "metadata": {},
   "source": [
    "<b> SVM</b> model, first fit the model on the train set then predict the values of the test set and calculate the accuracy:"
   ]
  },
  {
   "cell_type": "code",
   "execution_count": 12,
   "metadata": {},
   "outputs": [
    {
     "name": "stdout",
     "output_type": "stream",
     "text": [
      "SVM Accuracy Score ->  84.61538461538461\n"
     ]
    }
   ],
   "source": [
    "SVM = svm.SVC(C=1.0, kernel='linear', degree=3, gamma='auto')\n",
    "SVM.fit(Train_X_Tfidf,Train_Y)\n",
    "predictions_SVM = SVM.predict(Test_X_Tfidf)\n",
    "print(\"SVM Accuracy Score -> \",accuracy_score(y_pred=predictions_SVM,y_true= Test_Y)*100)"
   ]
  },
  {
   "cell_type": "markdown",
   "metadata": {},
   "source": [
    "# Topic Mining"
   ]
  },
  {
   "cell_type": "markdown",
   "metadata": {},
   "source": [
    "Import datasets. The datasets are webscraped from the lists on Goodreads: <br>\n",
    "for non-fiction: https://www.goodreads.com/list/show/134.Best_Non_Fiction_no_biographies_ <br>\n",
    "for fiction: https://www.goodreads.com/list/show/2522.Cult_Classics <br>\n",
    "for young adult: https://www.goodreads.com/list/show/43.Best_Young_Adult_Books <br>\n",
    "for sci-fi: https://www.goodreads.com/list/show/19341.Best_Science_Fiction <br>\n",
    "for fantasy: https://www.goodreads.com/list/show/50.The_Best_Epic_Fantasy_fiction_ <br>\n",
    "for thriller: https://www.goodreads.com/list/show/348.Thrillers <br>\n",
    "for romance: https://www.goodreads.com/list/show/12362.All_Time_Favorite_Romance_Novels"
   ]
  },
  {
   "cell_type": "code",
   "execution_count": 13,
   "metadata": {},
   "outputs": [],
   "source": [
    "ya= pd.read_csv(\"booksSummaryYoung_Adult.txt\", sep=\"|\",header=None)\n",
    "f = pd.read_csv(\"booksSummaryCult_Classics.txt\", sep=\"|\", header=None)\n",
    "nf = pd.read_csv('booksSummaryNF.txt', sep=\"|\", header=None)\n",
    "rom=pd.read_csv(\"booksSummaryRomance_Novels.txt\", sep=\"|\", header=None)\n",
    "thr=pd.read_csv(\"booksSummaryThrillers.txt\", sep=\"|\", header=None)\n",
    "sifi=pd.read_csv(\"booksSummaryScience_Fiction.txt\", sep=\"|\", header=None)\n",
    "fan=pd.read_csv(\"booksSummaryEpic_Fantasy.txt\", sep=\"|\", header=None)\n",
    "f = f.rename(columns={0: \"title\", 1: \"rating\",2:\"summary\"})\n",
    "ya = ya.rename(columns={0: \"title\", 1: \"rating\",2:\"summary\"})\n",
    "nf = nf.rename(columns={0: \"title\", 1: \"rating\",2:\"summary\"})\n",
    "rom = rom.rename(columns={0: \"title\", 1: \"rating\",2:\"summary\"})\n",
    "thr = thr.rename(columns={0: \"title\", 1: \"rating\",2:\"summary\"})\n",
    "sifi = sifi.rename(columns={0: \"title\", 1: \"rating\",2:\"summary\"})\n",
    "fan=fan.drop(columns=[0])\n",
    "fan = fan.rename(columns={1: \"title\", 2: \"rating\", 3:\"summary\"})"
   ]
  },
  {
   "cell_type": "markdown",
   "metadata": {},
   "source": [
    "I unite the datasets."
   ]
  },
  {
   "cell_type": "code",
   "execution_count": 14,
   "metadata": {},
   "outputs": [],
   "source": [
    "fic=f.append(ya,ignore_index = True)\n",
    "fic=fic.append(nf,ignore_index=True)\n",
    "fic=fic.append(rom,ignore_index=True)\n",
    "fic=fic.append(thr,ignore_index=True)\n",
    "fic=fic.append(sifi,ignore_index=True)\n",
    "fic=fic.append(fan,ignore_index=True)"
   ]
  },
  {
   "cell_type": "markdown",
   "metadata": {},
   "source": [
    "For <b>Data Cleaning</b>, I detect the language of each summary using library langdetect"
   ]
  },
  {
   "cell_type": "code",
   "execution_count": 15,
   "metadata": {},
   "outputs": [],
   "source": [
    "fic[\"language\"]=\"\"\n",
    "for i in range(0,len(fic)):\n",
    "    fic.at[i,\"language\"]=detect(fic.loc[i,\"summary\"])"
   ]
  },
  {
   "cell_type": "markdown",
   "metadata": {},
   "source": [
    "I drop the duplicated titles."
   ]
  },
  {
   "cell_type": "code",
   "execution_count": 16,
   "metadata": {},
   "outputs": [],
   "source": [
    "fic_clean=fic.drop_duplicates(['title'])"
   ]
  },
  {
   "cell_type": "markdown",
   "metadata": {},
   "source": [
    "I take only the summaries in English."
   ]
  },
  {
   "cell_type": "code",
   "execution_count": 17,
   "metadata": {},
   "outputs": [
    {
     "name": "stdout",
     "output_type": "stream",
     "text": [
      "The dataset has  5700 summaries.\n"
     ]
    }
   ],
   "source": [
    "fic_final=fic_clean.loc[fic_clean['language'] == \"en\"]\n",
    "print(\"The dataset has \", fic_final.shape[0], \"summaries.\")"
   ]
  },
  {
   "cell_type": "markdown",
   "metadata": {},
   "source": [
    "I create a vector for the words in the data set and a LDA model, with 6 topics."
   ]
  },
  {
   "cell_type": "code",
   "execution_count": 18,
   "metadata": {},
   "outputs": [
    {
     "name": "stdout",
     "output_type": "stream",
     "text": [
      "(5700, 6530)\n"
     ]
    },
    {
     "data": {
      "text/plain": [
       "LatentDirichletAllocation(batch_size=128, doc_topic_prior=None,\n",
       "             evaluate_every=-1, learning_decay=0.7,\n",
       "             learning_method='batch', learning_offset=10.0,\n",
       "             max_doc_update_iter=100, max_iter=10, mean_change_tol=0.001,\n",
       "             n_components=6, n_jobs=None, n_topics=None, perp_tol=0.1,\n",
       "             random_state=0, topic_word_prior=None,\n",
       "             total_samples=1000000.0, verbose=0)"
      ]
     },
     "execution_count": 18,
     "metadata": {},
     "output_type": "execute_result"
    }
   ],
   "source": [
    "tf_vectorizer = CountVectorizer(strip_accents = 'unicode',\n",
    "                                stop_words = 'english',\n",
    "                                lowercase = True,\n",
    "                                token_pattern = r'\\b[a-zA-Z]{3,}\\b',\n",
    "                                max_df = 0.5, \n",
    "                                min_df = 10)\n",
    "dtm_tf = tf_vectorizer.fit_transform(fic_final[\"summary\"])\n",
    "print(dtm_tf.shape)\n",
    "lda_tf = LatentDirichletAllocation(n_components=6, random_state=0)\n",
    "lda_tf.fit(dtm_tf)"
   ]
  },
  {
   "cell_type": "markdown",
   "metadata": {},
   "source": [
    "Visualizing the topics"
   ]
  },
  {
   "cell_type": "code",
   "execution_count": 19,
   "metadata": {},
   "outputs": [],
   "source": [
    "pyLDAvis.enable_notebook()"
   ]
  },
  {
   "cell_type": "code",
   "execution_count": 20,
   "metadata": {
    "scrolled": false
   },
   "outputs": [
    {
     "name": "stderr",
     "output_type": "stream",
     "text": [
      "/Users/Amy/anaconda3/lib/python3.6/site-packages/pyLDAvis/_prepare.py:257: FutureWarning: Sorting because non-concatenation axis is not aligned. A future version\n",
      "of pandas will change to not sort by default.\n",
      "\n",
      "To accept the future behavior, pass 'sort=False'.\n",
      "\n",
      "To retain the current behavior and silence the warning, pass 'sort=True'.\n",
      "\n",
      "  return pd.concat([default_term_info] + list(topic_dfs))\n"
     ]
    },
    {
     "data": {
      "text/html": [
       "\n",
       "<link rel=\"stylesheet\" type=\"text/css\" href=\"https://cdn.rawgit.com/bmabey/pyLDAvis/files/ldavis.v1.0.0.css\">\n",
       "\n",
       "\n",
       "<div id=\"ldavis_el315531122040457928402276246\"></div>\n",
       "<script type=\"text/javascript\">\n",
       "\n",
       "var ldavis_el315531122040457928402276246_data = {\"mdsDat\": {\"x\": [-0.02679783308292015, -0.008706107132172142, 0.038630368629750084, 0.20133603258910832, -0.05139758138746308, -0.15306487961630322], \"y\": [0.19592708694362615, -0.10223409043990293, 0.034716808613563944, -0.028604752112644124, -0.06391675513059557, -0.03588829787404756], \"topics\": [1, 2, 3, 4, 5, 6], \"cluster\": [1, 1, 1, 1, 1, 1], \"Freq\": [27.265408782604766, 19.84835218014731, 17.884263403034574, 17.52243222087291, 13.012540118695487, 4.467003294644957]}, \"tinfo\": {\"Category\": [\"Default\", \"Default\", \"Default\", \"Default\", \"Default\", \"Default\", \"Default\", \"Default\", \"Default\", \"Default\", \"Default\", \"Default\", \"Default\", \"Default\", \"Default\", \"Default\", \"Default\", \"Default\", \"Default\", \"Default\", \"Default\", \"Default\", \"Default\", \"Default\", \"Default\", \"Default\", \"Default\", \"Default\", \"Default\", \"Default\", \"Topic1\", \"Topic1\", \"Topic1\", \"Topic1\", \"Topic1\", \"Topic1\", \"Topic1\", \"Topic1\", \"Topic1\", \"Topic1\", \"Topic1\", \"Topic1\", \"Topic1\", \"Topic1\", \"Topic1\", \"Topic1\", \"Topic1\", \"Topic1\", \"Topic1\", \"Topic1\", \"Topic1\", \"Topic1\", \"Topic1\", \"Topic1\", \"Topic1\", \"Topic1\", \"Topic1\", \"Topic1\", \"Topic1\", \"Topic1\", \"Topic1\", \"Topic1\", \"Topic1\", \"Topic1\", \"Topic1\", \"Topic1\", \"Topic1\", \"Topic1\", \"Topic1\", \"Topic1\", \"Topic1\", \"Topic1\", \"Topic1\", \"Topic1\", \"Topic1\", \"Topic1\", \"Topic1\", \"Topic1\", \"Topic1\", \"Topic1\", \"Topic1\", \"Topic1\", \"Topic1\", \"Topic1\", \"Topic1\", \"Topic1\", \"Topic1\", \"Topic1\", \"Topic1\", \"Topic1\", \"Topic1\", \"Topic1\", \"Topic1\", \"Topic1\", \"Topic1\", \"Topic1\", \"Topic1\", \"Topic1\", \"Topic1\", \"Topic1\", \"Topic1\", \"Topic1\", \"Topic1\", \"Topic1\", \"Topic1\", \"Topic1\", \"Topic1\", \"Topic1\", \"Topic1\", \"Topic1\", \"Topic1\", \"Topic2\", \"Topic2\", \"Topic2\", \"Topic2\", \"Topic2\", \"Topic2\", \"Topic2\", \"Topic2\", \"Topic2\", \"Topic2\", \"Topic2\", \"Topic2\", \"Topic2\", \"Topic2\", \"Topic2\", \"Topic2\", \"Topic2\", \"Topic2\", \"Topic2\", \"Topic2\", \"Topic2\", \"Topic2\", \"Topic2\", \"Topic2\", \"Topic2\", \"Topic2\", \"Topic2\", \"Topic2\", \"Topic2\", \"Topic2\", \"Topic2\", \"Topic2\", \"Topic2\", \"Topic2\", \"Topic2\", \"Topic2\", \"Topic2\", \"Topic2\", \"Topic2\", \"Topic2\", \"Topic2\", \"Topic2\", \"Topic2\", \"Topic2\", \"Topic2\", \"Topic2\", \"Topic2\", \"Topic2\", \"Topic2\", \"Topic2\", \"Topic2\", \"Topic2\", \"Topic2\", \"Topic2\", \"Topic2\", \"Topic2\", \"Topic2\", \"Topic2\", \"Topic2\", \"Topic2\", \"Topic2\", \"Topic2\", \"Topic2\", \"Topic2\", \"Topic2\", \"Topic2\", \"Topic2\", \"Topic2\", \"Topic2\", \"Topic2\", \"Topic2\", \"Topic2\", \"Topic2\", \"Topic2\", \"Topic2\", \"Topic2\", \"Topic2\", \"Topic2\", \"Topic2\", \"Topic2\", \"Topic2\", \"Topic2\", \"Topic2\", \"Topic2\", \"Topic2\", \"Topic3\", \"Topic3\", \"Topic3\", \"Topic3\", \"Topic3\", \"Topic3\", \"Topic3\", \"Topic3\", \"Topic3\", \"Topic3\", \"Topic3\", \"Topic3\", \"Topic3\", \"Topic3\", \"Topic3\", \"Topic3\", \"Topic3\", \"Topic3\", \"Topic3\", \"Topic3\", \"Topic3\", \"Topic3\", \"Topic3\", \"Topic3\", \"Topic3\", \"Topic3\", \"Topic3\", \"Topic3\", \"Topic3\", \"Topic3\", \"Topic3\", \"Topic3\", \"Topic3\", \"Topic3\", \"Topic3\", \"Topic3\", \"Topic3\", \"Topic3\", \"Topic3\", \"Topic3\", \"Topic3\", \"Topic3\", \"Topic3\", \"Topic3\", \"Topic3\", \"Topic3\", \"Topic3\", \"Topic3\", \"Topic3\", \"Topic3\", \"Topic3\", \"Topic3\", \"Topic3\", \"Topic3\", \"Topic3\", \"Topic3\", \"Topic3\", \"Topic3\", \"Topic3\", \"Topic3\", \"Topic3\", \"Topic3\", \"Topic3\", \"Topic3\", \"Topic3\", \"Topic3\", \"Topic3\", \"Topic3\", \"Topic3\", \"Topic3\", \"Topic3\", \"Topic3\", \"Topic3\", \"Topic3\", \"Topic3\", \"Topic3\", \"Topic3\", \"Topic4\", \"Topic4\", \"Topic4\", \"Topic4\", \"Topic4\", \"Topic4\", \"Topic4\", \"Topic4\", \"Topic4\", \"Topic4\", \"Topic4\", \"Topic4\", \"Topic4\", \"Topic4\", \"Topic4\", \"Topic4\", \"Topic4\", \"Topic4\", \"Topic4\", \"Topic4\", \"Topic4\", \"Topic4\", \"Topic4\", \"Topic4\", \"Topic4\", \"Topic4\", \"Topic4\", \"Topic4\", \"Topic4\", \"Topic4\", \"Topic4\", \"Topic4\", \"Topic4\", \"Topic4\", \"Topic4\", \"Topic4\", \"Topic4\", \"Topic4\", \"Topic4\", \"Topic4\", \"Topic4\", \"Topic4\", \"Topic4\", \"Topic4\", \"Topic4\", \"Topic4\", \"Topic4\", \"Topic4\", \"Topic4\", \"Topic4\", \"Topic4\", \"Topic4\", \"Topic4\", \"Topic4\", \"Topic4\", \"Topic4\", \"Topic4\", \"Topic4\", \"Topic4\", \"Topic4\", \"Topic4\", \"Topic4\", \"Topic4\", \"Topic4\", \"Topic4\", \"Topic4\", \"Topic4\", \"Topic4\", \"Topic4\", \"Topic4\", \"Topic4\", \"Topic4\", \"Topic4\", \"Topic4\", \"Topic4\", \"Topic4\", \"Topic4\", \"Topic4\", \"Topic4\", \"Topic5\", \"Topic5\", \"Topic5\", \"Topic5\", \"Topic5\", \"Topic5\", \"Topic5\", \"Topic5\", \"Topic5\", \"Topic5\", \"Topic5\", \"Topic5\", \"Topic5\", \"Topic5\", \"Topic5\", \"Topic5\", \"Topic5\", \"Topic5\", \"Topic5\", \"Topic5\", \"Topic5\", \"Topic5\", \"Topic5\", \"Topic5\", \"Topic5\", \"Topic5\", \"Topic5\", \"Topic5\", \"Topic5\", \"Topic5\", \"Topic5\", \"Topic5\", \"Topic5\", \"Topic5\", \"Topic5\", \"Topic5\", \"Topic5\", \"Topic5\", \"Topic5\", \"Topic5\", \"Topic5\", \"Topic5\", \"Topic5\", \"Topic5\", \"Topic5\", \"Topic5\", \"Topic5\", \"Topic5\", \"Topic5\", \"Topic5\", \"Topic5\", \"Topic5\", \"Topic5\", \"Topic5\", \"Topic5\", \"Topic5\", \"Topic5\", \"Topic5\", \"Topic5\", \"Topic5\", \"Topic5\", \"Topic5\", \"Topic5\", \"Topic5\", \"Topic5\", \"Topic5\", \"Topic5\", \"Topic5\", \"Topic5\", \"Topic5\", \"Topic5\", \"Topic5\", \"Topic5\", \"Topic5\", \"Topic5\", \"Topic5\", \"Topic5\", \"Topic5\", \"Topic5\", \"Topic5\", \"Topic5\", \"Topic5\", \"Topic5\", \"Topic5\", \"Topic6\", \"Topic6\", \"Topic6\", \"Topic6\", \"Topic6\", \"Topic6\", \"Topic6\", \"Topic6\", \"Topic6\", \"Topic6\", \"Topic6\", \"Topic6\", \"Topic6\", \"Topic6\", \"Topic6\", \"Topic6\", \"Topic6\", \"Topic6\", \"Topic6\", \"Topic6\", \"Topic6\", \"Topic6\", \"Topic6\", \"Topic6\", \"Topic6\", \"Topic6\", \"Topic6\", \"Topic6\", \"Topic6\", \"Topic6\", \"Topic6\", \"Topic6\", \"Topic6\", \"Topic6\", \"Topic6\", \"Topic6\", \"Topic6\", \"Topic6\", \"Topic6\", \"Topic6\", \"Topic6\", \"Topic6\", \"Topic6\", \"Topic6\", \"Topic6\", \"Topic6\", \"Topic6\", \"Topic6\", \"Topic6\", \"Topic6\", \"Topic6\", \"Topic6\", \"Topic6\", \"Topic6\", \"Topic6\", \"Topic6\", \"Topic6\", \"Topic6\", \"Topic6\", \"Topic6\", \"Topic6\", \"Topic6\", \"Topic6\", \"Topic6\", \"Topic6\", \"Topic6\", \"Topic6\", \"Topic6\", \"Topic6\", \"Topic6\", \"Topic6\"], \"Freq\": [1533.0, 535.0, 490.0, 1110.0, 524.0, 473.0, 2635.0, 755.0, 963.0, 902.0, 733.0, 968.0, 415.0, 472.0, 387.0, 883.0, 694.0, 382.0, 2913.0, 625.0, 372.0, 377.0, 1586.0, 422.0, 367.0, 797.0, 810.0, 238.0, 704.0, 2339.0, 102.46405646321755, 84.75413196928692, 70.98529931511287, 67.05242950382728, 64.09935458860443, 55.24823997412453, 55.24719999565409, 70.62638938142757, 48.362593556865384, 48.36213722301364, 48.360363904836674, 47.37706984633792, 47.3764700844748, 44.42689095177691, 43.44254601014323, 43.43963751144317, 40.491296316429114, 41.45356503580843, 39.49294091664737, 37.54136482507105, 36.55758152112312, 36.55556311708082, 35.57447368755144, 34.58957111378378, 33.607870993384985, 33.606248138060295, 32.62354798351523, 56.54039426738636, 71.85214635571259, 30.657146106601793, 194.2373111142409, 96.97004906100506, 158.57801063608022, 78.96035502066572, 123.96948284062522, 66.61772818874876, 162.48295915734676, 118.90672244339262, 83.67242610443645, 248.58331314893533, 92.477311535761, 339.8779457555283, 628.5842807121055, 129.0945474053764, 115.0970876305429, 289.690041727506, 86.73297287189163, 454.4915372956737, 316.914511161084, 82.74591431874943, 312.5090873152223, 272.64355975584414, 371.4184395041379, 85.9395182129087, 335.86321129780237, 1068.8476644575894, 134.14412097015475, 168.69525880299346, 320.52490700993644, 258.05005502678665, 305.7635214205147, 112.00414473860272, 200.59688938911842, 148.47237457600178, 432.76167061772924, 466.6187031100068, 777.2319658134287, 539.952383003517, 279.4785738030987, 285.5986850180822, 1015.6737650490388, 832.0031378425508, 311.78130814474383, 403.54359239938174, 193.38059190943187, 402.22552552289625, 481.8708299818809, 584.1505387698705, 268.0095512196837, 348.7734423626471, 356.17795079452003, 68.24918379246147, 50.49059170727481, 50.41747006951402, 41.60754479506817, 41.60603462516819, 31.720189306140234, 26.806491597891565, 24.832656685441577, 23.84714448561681, 23.846365173273707, 55.29908411698124, 22.855096613038594, 18.910979637339402, 17.923883773158632, 38.50211831988011, 15.949222221089991, 15.948150557391129, 15.944743028877951, 18.723791764125, 14.964368595561028, 14.961515926727815, 37.29772428114996, 13.974994694617344, 13.973207895244858, 21.37955179113, 12.989375500763295, 18.513336853163697, 19.419633999955003, 13.870747517053012, 13.863033625670255, 45.05757285151094, 19.37966570110875, 28.50237898868302, 25.77293038985826, 1278.2273292940574, 56.10292201894485, 45.95363500207786, 26.443904022611743, 50.940664712371806, 106.4858032005849, 31.38883577007869, 165.41953938047644, 56.02971267759269, 86.9768934780639, 117.67714227300826, 204.773894136268, 122.06751664924737, 148.80046178544526, 389.4131166871653, 250.8502654719526, 402.9802085175547, 1154.8729825963512, 64.37444455671547, 144.79237917351045, 228.15190761834776, 243.2453057375605, 215.1910844706473, 402.7005675789063, 363.1833169240777, 296.1093306664829, 228.57437455861742, 221.83073163344702, 106.98882422272663, 237.6729416873128, 116.70915770394043, 242.54425725251713, 199.28766672935885, 452.262962287048, 182.7982939529579, 155.14426756896566, 224.24135511060388, 279.01596416960797, 213.22812218597733, 356.49824562764996, 248.30963002434575, 285.3121844296793, 204.32832102106465, 351.93799114197907, 217.40197341873932, 220.63521010745848, 313.53087274557885, 247.90685959455882, 209.7105207093395, 218.86460225686287, 207.18229075609165, 70.05757398975503, 68.10079509991733, 55.29916680624524, 60.13049942322223, 50.3787616535568, 47.42453640064019, 36.51336277314963, 28.716907436270088, 29.663186725274954, 26.745733340978077, 25.760678188688455, 24.777861871141724, 49.54228499758032, 25.721073288066016, 41.82135093160692, 22.8071480726683, 100.57561526599275, 21.82305855596179, 21.81887635389053, 20.836407921630045, 19.853939886983746, 19.850685300713682, 74.69385344179432, 21.735739788498122, 63.29388421308145, 18.870770159477072, 18.869866481484546, 18.86986159357, 228.32364993634928, 17.88643711690481, 42.35083793927779, 90.5888494028796, 39.11538712916835, 69.93463050778612, 136.79028881573382, 51.24102722227914, 137.54612358710358, 144.20011568179314, 92.50130997375355, 67.6126832508277, 319.09177234446156, 152.24176621191043, 297.1438355961878, 53.91948709276424, 230.99263205751143, 173.98939995278664, 177.47183783444726, 93.77186579058932, 119.32582723040355, 414.3513355931212, 179.8173977385634, 161.0480159861344, 87.48164024546058, 136.34120575284507, 229.1492817947607, 169.59874236299078, 154.1871890278491, 163.76902512174755, 145.23586985183226, 155.6985513528381, 113.94724298973661, 251.16409206138383, 116.3530798690069, 310.78219914566245, 224.3222747114498, 446.29108625423413, 230.1377142914865, 188.95496141373002, 287.72874948248943, 330.316482903735, 161.4206710578617, 201.09201355489273, 219.14894832661943, 222.69441334449098, 239.69332018883028, 188.39428733683724, 174.93385195449878, 112.71404160819591, 100.86561312784546, 84.04817215923194, 62.36243218041992, 56.438810271761, 46.56556705562922, 44.589287200217306, 42.61578375837113, 40.64247604271528, 37.67626356295484, 38.64239343653091, 34.71783685760685, 34.71763077000791, 98.24567900106139, 32.731354757002315, 31.75668585041531, 179.98117887985498, 30.76756458698449, 26.820816534883956, 26.814273015855864, 35.38905618743484, 23.858274262726155, 23.847016998627307, 22.871151787328298, 22.87075268866937, 21.880669763014573, 20.89635895237181, 24.68910663018341, 35.12931606533949, 24.66014950461569, 170.3004187708318, 187.30431624028117, 441.78422074650024, 172.41001737649978, 134.70317330321774, 85.77212734344344, 87.44197947407653, 189.75774787186023, 444.9636711523091, 55.40456837641232, 393.78643182283975, 88.10297334404359, 346.6064867096344, 311.60576168445647, 109.73260919632716, 203.88747122011094, 161.43823369819222, 168.1700538893851, 297.0393261931596, 140.78452892799558, 103.23208402968677, 79.75846115700116, 158.76205694229466, 174.47584929036034, 171.57619873153857, 600.0148538685513, 218.96393756248838, 442.63804930866087, 392.1041484888422, 183.06527403863748, 160.90659566971442, 927.2163901403198, 155.7809725464663, 199.67449762767598, 175.6891362779268, 187.11841175481516, 306.82935813078876, 230.2189959083645, 197.12487598057774, 332.10494057568394, 232.49279813581435, 277.61457746897673, 254.2181079872496, 209.87947822367852, 201.8991464477128, 196.69333992952014, 202.71535036449436, 187.00999537261657, 187.28323209638822, 47.800693197294095, 37.10668539096583, 35.16081479911693, 30.3010924115319, 30.295363522701344, 22.520822928892397, 22.51815276086552, 20.57589695372016, 21.501875152527234, 20.56441877460232, 19.603777485781695, 19.602599998026907, 23.202436012711154, 14.740409718450277, 14.73633569580904, 26.52982235094519, 59.430805935067255, 11.828485729643129, 11.814849121379781, 11.812431751732804, 33.58191125307327, 10.839494056578372, 14.442331551765383, 25.219701240434894, 11.692665772550603, 9.884036867940006, 9.882987136925756, 9.880780962724772, 9.879440497594, 9.878781040790045, 49.977867765408206, 49.898638600438154, 28.48585723847136, 39.08256967055465, 15.223499287243413, 36.34029173273458, 37.07488387207398, 36.061491653277166, 76.67753531963423, 26.32912440642526, 25.441075854830576, 61.16221329920403, 89.39219399590927, 56.693424549410814, 140.90468970905644, 26.855520108316288, 52.536941091641, 112.66557354531191, 42.570635533257814, 379.573748091737, 75.67641657793703, 170.81948140791465, 66.67402121430256, 64.19404504653777, 114.06329504532094, 155.26919281687984, 261.54156060537997, 232.7686847592756, 140.59591386316984, 104.95819871573792, 420.21444260807334, 389.5402189317406, 218.0954552209903, 129.78446301578296, 190.4576844740465, 262.794597234542, 168.41240836692668, 151.45772101315916, 141.4085511290374, 130.0070206492626, 140.18712751353993, 157.54911302971487, 143.0601995855697, 172.81403611038087, 156.34055128268804, 129.3389163248451, 206.21196522964814, 159.12979437386892, 209.21374175914028, 128.02512166707496, 127.02203518348455, 149.75501081925643, 133.95982546151865, 137.98426593617177, 54.640581741292614, 51.77397797918729, 34.568169962931464, 48.25131498846906, 26.67725800311493, 20.229406534779432, 13.539731693860915, 13.53931441666082, 13.53872503793077, 11.624832574336686, 10.670662028224204, 10.660433828235469, 9.71601866369236, 10.577694039311755, 16.449229382758773, 23.081942708365794, 38.348512446482154, 19.407276323218984, 14.334137491281874, 13.399987567981158, 51.95109836441346, 10.499315236941861, 18.51591047641081, 13.621551445234369, 8.683363810857303, 11.824272095644016, 9.44947832919052, 16.265082915657988, 14.693328941446557, 10.396204445295643, 45.88965818243815, 62.907357505157016, 27.511649921585857, 31.87471587526573, 16.65957102370417, 23.39823599822601, 21.341966249030886, 55.57461351863153, 18.097966746324907, 137.09079260737826, 20.328557540147948, 40.21291776982849, 21.89777077452357, 20.77579816436539, 104.01703595643794, 35.76673023123673, 36.909192857539416, 19.841907336950424, 73.41541952707608, 82.4314370320908, 30.16971250739902, 70.69016066974918, 30.512293888086305, 89.45853841674746, 61.90985575996624, 80.32180026559912, 54.94706203056002, 103.24202046245377, 71.01427177610422, 59.7432352129501, 64.19498740915807, 34.688292775027534, 61.10951612182289, 43.00066882249723, 48.61550272921801, 42.90661736140616, 49.20108342973182, 42.09240992162875, 41.762507508353366, 41.766274131979365, 39.094541899378314], \"Term\": [\"love\", \"girl\", \"king\", \"war\", \"magic\", \"ancient\", \"life\", \"year\", \"just\", \"human\", \"history\", \"like\", \"evil\", \"little\", \"planet\", \"old\", \"earth\", \"land\", \"world\", \"day\", \"battle\", \"killer\", \"book\", \"boy\", \"doesn\", \"woman\", \"power\", \"alien\", \"dark\", \"new\", \"economic\", \"essential\", \"explains\", \"classics\", \"groundbreaking\", \"translation\", \"insights\", \"cultural\", \"definitive\", \"illustrations\", \"myths\", \"detailed\", \"cultures\", \"analysis\", \"examines\", \"essay\", \"intellectual\", \"japanese\", \"penguin\", \"shakespeare\", \"achievement\", \"tolkien\", \"recounts\", \"nineteenth\", \"comprehensive\", \"european\", \"jesus\", \"astounding\", \"authors\", \"economics\", \"account\", \"writers\", \"narrative\", \"publication\", \"introduction\", \"moral\", \"culture\", \"literary\", \"americans\", \"published\", \"text\", \"stories\", \"history\", \"historical\", \"collection\", \"written\", \"portrait\", \"american\", \"classic\", \"evolution\", \"amp\", \"modern\", \"science\", \"era\", \"century\", \"book\", \"writing\", \"writer\", \"fiction\", \"books\", \"america\", \"understanding\", \"today\", \"based\", \"work\", \"author\", \"story\", \"novel\", \"readers\", \"edition\", \"world\", \"new\", \"great\", \"human\", \"award\", \"people\", \"time\", \"life\", \"times\", \"war\", \"years\", \"marry\", \"ella\", \"ender\", \"maggie\", \"aunt\", \"smile\", \"faeries\", \"bella\", \"lucinda\", \"hogwarts\", \"pants\", \"nobleman\", \"hathaway\", \"swore\", \"deny\", \"dexter\", \"widowed\", \"alluring\", \"strict\", \"rake\", \"blond\", \"happily\", \"realizing\", \"ranch\", \"heartache\", \"cullen\", \"sensuality\", \"nurse\", \"manor\", \"enticing\", \"cole\", \"katherine\", \"julie\", \"rescues\", \"love\", \"librarian\", \"sarah\", \"percy\", \"kiss\", \"handsome\", \"clay\", \"romance\", \"sweet\", \"pain\", \"marriage\", \"passion\", \"apart\", \"husband\", \"heart\", \"wants\", \"past\", \"life\", \"pleasure\", \"sister\", \"mother\", \"away\", \"school\", \"family\", \"woman\", \"home\", \"night\", \"friend\", \"desire\", \"father\", \"let\", \"knows\", \"beautiful\", \"man\", \"secrets\", \"determined\", \"girl\", \"just\", \"finds\", \"time\", \"old\", \"years\", \"know\", \"new\", \"best\", \"year\", \"world\", \"story\", \"make\", \"young\", \"way\", \"cia\", \"reacher\", \"interstellar\", \"aliens\", \"mcelhaney\", \"bosch\", \"operative\", \"colonization\", \"lock\", \"holes\", \"lindsay\", \"covert\", \"homicide\", \"engineer\", \"espionage\", \"operatives\", \"fbi\", \"files\", \"eden\", \"entrepreneurs\", \"carre\", \"eddie\", \"mars\", \"spaceship\", \"terrorist\", \"starship\", \"file\", \"terran\", \"alien\", \"lapd\", \"sci\", \"computer\", \"agency\", \"amazon\", \"agent\", \"planets\", \"crew\", \"investigation\", \"conspiracy\", \"fleet\", \"planet\", \"ship\", \"killer\", \"solar\", \"case\", \"team\", \"thriller\", \"galaxy\", \"technology\", \"earth\", \"space\", \"police\", \"serial\", \"detective\", \"murder\", \"crime\", \"jack\", \"mission\", \"humanity\", \"race\", \"intelligence\", \"death\", \"military\", \"years\", \"secret\", \"world\", \"human\", \"future\", \"time\", \"new\", \"truth\", \"people\", \"man\", \"book\", \"life\", \"just\", \"way\", \"throne\", \"prophecy\", \"dragons\", \"mage\", \"kingdoms\", \"sorcery\", \"realms\", \"swords\", \"alanna\", \"knights\", \"apprentice\", \"wizards\", \"lords\", \"sword\", \"stones\", \"reborn\", \"gods\", \"patch\", \"elven\", \"rider\", \"exiled\", \"sorceress\", \"wield\", \"minions\", \"horde\", \"treason\", \"elf\", \"wrath\", \"tempus\", \"iran\", \"dragon\", \"kingdom\", \"king\", \"warrior\", \"realm\", \"allies\", \"warriors\", \"powers\", \"magic\", \"kings\", \"ancient\", \"royal\", \"evil\", \"battle\", \"legend\", \"empire\", \"queen\", \"darkness\", \"land\", \"army\", \"lands\", \"heir\", \"enemies\", \"magical\", \"lord\", \"war\", \"fantasy\", \"power\", \"dark\", \"enemy\", \"destiny\", \"world\", \"prince\", \"blood\", \"epic\", \"forces\", \"young\", \"powerful\", \"adventure\", \"new\", \"long\", \"man\", \"time\", \"men\", \"city\", \"series\", \"death\", \"save\", \"life\", \"clary\", \"indy\", \"jace\", \"tesha\", \"dogs\", \"shark\", \"preston\", \"beatrice\", \"jail\", \"tucker\", \"piper\", \"cage\", \"tips\", \"counting\", \"scarlet\", \"chloe\", \"brian\", \"certified\", \"heartless\", \"abound\", \"lucky\", \"tame\", \"spider\", \"dante\", \"noise\", \"carrot\", \"masking\", \"aching\", \"ass\", \"polished\", \"nick\", \"gabriel\", \"dad\", \"melanie\", \"habit\", \"julia\", \"max\", \"mike\", \"dating\", \"lots\", \"yoga\", \"isaac\", \"pretty\", \"girlfriend\", \"bad\", \"lauren\", \"chicago\", \"sex\", \"asimov\", \"like\", \"feel\", \"town\", \"lot\", \"happy\", \"isn\", \"things\", \"just\", \"old\", \"friends\", \"going\", \"life\", \"new\", \"family\", \"doesn\", \"woman\", \"man\", \"men\", \"york\", \"little\", \"murder\", \"help\", \"make\", \"city\", \"way\", \"year\", \"good\", \"time\", \"young\", \"world\", \"knows\", \"finds\", \"story\", \"people\", \"book\", \"sara\", \"lily\", \"jamie\", \"lucy\", \"owen\", \"travis\", \"exceptionally\", \"guin\", \"ursula\", \"repair\", \"idaho\", \"rejected\", \"mannered\", \"farms\", \"aged\", \"district\", \"pack\", \"bryson\", \"cyborg\", \"rocked\", \"anne\", \"sally\", \"capitol\", \"cameron\", \"needing\", \"brick\", \"mild\", \"ford\", \"annual\", \"imaginations\", \"christmas\", \"wolf\", \"mouse\", \"odd\", \"gibson\", \"taylor\", \"june\", \"girls\", \"debt\", \"girl\", \"rebecca\", \"film\", \"museum\", \"billy\", \"year\", \"sam\", \"green\", \"wolves\", \"little\", \"day\", \"academy\", \"place\", \"woods\", \"just\", \"boy\", \"human\", \"doesn\", \"new\", \"old\", \"best\", \"young\", \"boys\", \"story\", \"thing\", \"novel\", \"set\", \"life\", \"woman\", \"way\", \"like\", \"home\"], \"Total\": [1533.0, 535.0, 490.0, 1110.0, 524.0, 473.0, 2635.0, 755.0, 963.0, 902.0, 733.0, 968.0, 415.0, 472.0, 387.0, 883.0, 694.0, 382.0, 2913.0, 625.0, 372.0, 377.0, 1586.0, 422.0, 367.0, 797.0, 810.0, 238.0, 704.0, 2339.0, 103.28036356660792, 85.57423304373619, 71.80283337501564, 67.86815244888042, 64.91712120703625, 56.064077463252055, 56.064053693927605, 71.80315652443704, 49.17835749487591, 49.17836499596195, 49.178361843241476, 48.194676056416434, 48.19470162847736, 45.243663757515286, 44.259998193288645, 44.2599514117735, 41.30897954341911, 42.29271120885624, 40.32510946276526, 38.35796182948567, 37.37429388510629, 37.3742834033135, 36.3906187234959, 35.406927936089396, 34.42327624059326, 34.42327415713046, 33.43960613079031, 58.02948762653216, 73.74706435116232, 31.472252929592358, 201.66306241239315, 100.278636624786, 165.18397533131315, 81.58743452903894, 129.69667269383797, 68.83534444854173, 173.1304108641042, 125.73013128425781, 87.53515760183625, 272.2120771719762, 97.39127221647955, 381.2586222385151, 733.6353251490381, 138.7080211404746, 122.96613681578582, 327.3399100851294, 91.43067851737128, 545.3216496326482, 370.4500968201906, 87.5453030387167, 365.86635714372517, 316.47783611458954, 460.39801852366526, 91.47788878403617, 423.96666999035693, 1586.986782756452, 151.35885898825924, 198.29313354850547, 420.92262040095346, 327.66187226449756, 402.00844936960766, 123.95969013806328, 253.28715513632238, 176.1012794073015, 661.196534533599, 738.5494446808314, 1411.0540169201774, 941.4495136189703, 429.1444134282524, 447.13809896346703, 2913.0030669797634, 2339.144791858143, 579.2804763122757, 902.0894748264658, 269.91433471408277, 986.6273909349906, 1615.2424239625818, 2635.415599689245, 523.6076697747736, 1110.7208335133596, 1276.1435287365052, 69.06729373565697, 51.304987081705406, 51.30501894702562, 42.423804086928975, 42.42378452751455, 32.55577919093277, 27.621888104508326, 25.64829975192676, 24.661501702767442, 24.66150324137401, 57.22221242980403, 23.67469348677047, 19.72748029961059, 18.740711461691667, 40.44687345083898, 16.767117541285934, 16.767116920046806, 16.76709976762954, 19.72606042663918, 15.780327801139276, 15.780300371514562, 39.443507122689205, 14.793491717464084, 14.79349292109958, 22.68061757320469, 13.806737522354513, 19.7216078830404, 20.708521598341786, 14.79354218169691, 14.791831592399472, 48.34014350137945, 20.706681315860227, 30.579395550092467, 27.618601746925325, 1533.7899249027716, 61.161897347048495, 50.30103192022565, 28.604394048904133, 57.145005311997764, 126.02177266098411, 34.51177956126272, 214.6013122400893, 65.97353192139796, 108.3646009192506, 153.70299891917335, 287.64270574102545, 161.7575883207532, 213.43654059228143, 663.5588228590524, 409.38819197957156, 735.910438162889, 2635.415599689245, 81.7852106144402, 220.24736099856335, 393.7991787723243, 443.1326581943464, 385.1932640692892, 901.4179570453093, 797.8578879727995, 638.3641020606558, 456.3457760788808, 441.18024164854637, 166.49411041200523, 540.9601694933838, 191.39682216957976, 562.6161672400907, 424.24616290974285, 1447.0078243251921, 375.7782773591275, 296.18141073315184, 535.7343512418124, 963.5720972991818, 599.2512415132796, 1615.2424239625818, 883.9380002273325, 1276.1435287365052, 578.9555377169988, 2339.144791858143, 708.0891525862727, 755.4634775477369, 2913.0030669797634, 1411.0540169201774, 684.9596741466173, 994.634439766917, 929.5441644850598, 70.88521109759104, 68.91600182097584, 56.11616334255725, 61.03647391195697, 51.19315639945886, 48.23934374344782, 37.408910656577525, 29.531887807284107, 30.515443002263225, 27.56267598333029, 26.578072955112713, 25.59348070209605, 51.18264801532246, 26.57813091573375, 43.31387479055782, 23.624256294422118, 104.32437982536383, 22.63965809501905, 22.63966634497191, 21.655047093957855, 20.670452740227862, 20.670443299071756, 77.78209253137679, 22.637091011542886, 65.95987265420726, 19.685858504926184, 19.68586093955942, 19.68586215471595, 238.28536033942413, 18.70125951991971, 44.28754989854874, 96.4287118951543, 41.3334929974065, 75.76419574936313, 151.51272240634142, 55.0911140196405, 154.33159369301958, 162.2598284326619, 102.4014041380364, 73.85376939642977, 387.8507007785895, 178.20326253838627, 377.3457464491566, 59.06587885658018, 291.80926907839176, 221.97672983279978, 228.90525208341023, 113.91925178147609, 154.5544283723551, 694.7713210376801, 260.10744768389424, 235.38703285613155, 109.21821139925004, 195.23681446510247, 418.5674278605526, 277.93991471152384, 243.12403639767425, 265.7730841364039, 249.0917092891881, 283.4665647319577, 172.27805787800932, 758.5582831079058, 186.95608480856023, 1276.1435287365052, 702.2478811047781, 2913.0030669797634, 902.0894748264658, 576.4224405468426, 1615.2424239625818, 2339.144791858143, 467.30748386781573, 986.6273909349906, 1447.0078243251921, 1586.986782756452, 2635.415599689245, 963.5720972991818, 929.5441644850598, 113.52929203749513, 101.68181945329329, 84.8977929533143, 63.177575600999546, 57.25385032971085, 47.38095485609303, 45.40635000754085, 43.431790325761575, 41.45722206075296, 38.49533860983461, 39.48252775747828, 35.53349373018785, 35.53349578026766, 100.69370511021118, 33.558786241531315, 32.57163558266087, 184.60009248536272, 31.58433698418033, 27.635194751718426, 27.635143264568725, 36.51986320919061, 24.673324870430278, 24.673197699882962, 23.686038157760397, 23.686026458137494, 22.698739346408527, 21.711459794123062, 25.660529963102565, 36.518678938846215, 25.6598924304919, 177.67849703644762, 196.20733258517495, 490.02417558394313, 187.53740890952295, 146.0745760518913, 91.72930600621868, 93.69922107685915, 212.14021149722342, 524.3991123945417, 59.217404277945796, 473.58612504122954, 96.72686591748698, 415.9920633075113, 372.7637714118069, 123.31195037340237, 251.5893075578981, 194.21039918925266, 203.25378213122036, 382.5946281166894, 171.6892235094365, 120.41820347347266, 89.80569179954992, 206.98771711285286, 232.2174879825244, 230.95520279338774, 1110.7208335133596, 314.41360011307376, 810.5082196349821, 704.4098453897464, 261.4548158456584, 222.93856746369553, 2913.0030669797634, 213.57792906250614, 322.9271467316923, 263.2824675748834, 324.4242337643714, 994.634439766917, 533.094026651225, 375.7783468253801, 2339.144791858143, 752.3385457093799, 1447.0078243251921, 1615.2424239625818, 645.4641395162821, 581.2720748092465, 568.7221105439502, 758.5582831079058, 387.62144153328836, 2635.415599689245, 48.617566799998265, 37.92305594671664, 35.97862246365291, 31.1174629585267, 31.11751104970109, 23.339668504562095, 23.33970478027044, 21.395216343168567, 22.366719037093407, 21.39537718136603, 20.422990276017952, 20.423003217523103, 24.315562795101982, 15.561871188406377, 15.56194294665016, 28.186495944950675, 63.2357430018592, 12.645141152086188, 12.64534322854808, 12.645327679575315, 36.00223655417947, 11.673097638963696, 15.565588964563448, 27.242595034539534, 12.64678559095777, 10.70068728306857, 10.70070056774924, 10.700717564745375, 10.700668784860833, 10.700715553101558, 54.49744652599899, 54.50108528017401, 31.086987823031166, 42.827421762599926, 16.539876091442164, 39.871362460855146, 40.88397423838182, 39.91288843737086, 87.62527154076932, 29.20186518514208, 28.22365739404248, 71.08474441818085, 106.21181781154577, 66.9942092501036, 217.41653519105884, 30.18225262126632, 70.20829319789519, 191.3416194056238, 54.58116331657598, 968.9947282873839, 124.1537055377653, 399.2725612302954, 107.11623561966694, 102.6119504365445, 241.36989340483333, 407.0097587299948, 963.5720972991818, 883.9380002273325, 393.1782052032722, 250.12843638820152, 2635.415599689245, 2339.144791858143, 901.4179570453093, 367.1926182825613, 797.8578879727995, 1447.0078243251921, 645.4641395162821, 538.0074629747529, 472.6831702883938, 418.5674278605526, 502.0317461549235, 684.9596741466173, 581.2720748092465, 929.5441644850598, 755.4634775477369, 478.87262830779764, 1615.2424239625818, 994.634439766917, 2913.0030669797634, 562.6161672400907, 599.2512415132796, 1411.0540169201774, 986.6273909349906, 1586.986782756452, 55.46264345510044, 52.59502821960098, 35.38951735343832, 49.748634197499236, 27.74885361400609, 21.051594785876294, 14.360524930113387, 14.360543559678694, 14.360561737793, 12.44889614485492, 11.492974530172441, 11.49329723878234, 10.537082714014893, 11.49488411566798, 18.213092339723264, 25.888840375000495, 43.13165553370178, 22.059191322929884, 16.30584087951404, 15.335171507829468, 61.44293697985688, 12.468125526417365, 22.08563824505739, 16.307836415326168, 10.55560895187261, 14.412104550942756, 11.532499765913057, 20.147278349540883, 18.263996051785384, 13.476515150566268, 60.56585988378372, 83.81713059150337, 36.59603437706766, 48.29880577104595, 22.14353047109597, 34.65042130673364, 30.8559670468658, 127.14790764315546, 24.977684751326038, 535.7343512418124, 30.772203987737, 98.13499279368699, 35.76841188642046, 32.70898137166925, 755.4634775477369, 95.38223262838552, 107.2672602939709, 30.937213616465414, 472.6831702883938, 625.8880745113383, 75.93547262043455, 507.2608838653518, 78.60518612063109, 963.5720972991818, 422.8086799437664, 902.0894748264658, 367.1926182825613, 2339.144791858143, 883.9380002273325, 708.0891525862727, 994.634439766917, 130.98458932809814, 1411.0540169201774, 330.2154301356569, 941.4495136189703, 516.6708213184426, 2635.415599689245, 797.8578879727995, 929.5441644850598, 968.9947282873839, 638.3641020606558], \"loglift\": [30.0, 29.0, 28.0, 27.0, 26.0, 25.0, 24.0, 23.0, 22.0, 21.0, 20.0, 19.0, 18.0, 17.0, 16.0, 15.0, 14.0, 13.0, 12.0, 11.0, 10.0, 9.0, 8.0, 7.0, 6.0, 5.0, 4.0, 3.0, 2.0, 1.0, 1.2916, 1.2899, 1.2881, 1.2875, 1.2869, 1.2849, 1.2849, 1.283, 1.2828, 1.2828, 1.2828, 1.2824, 1.2824, 1.2813, 1.2809, 1.2808, 1.2796, 1.2795, 1.2787, 1.278, 1.2775, 1.2774, 1.2769, 1.2762, 1.2756, 1.2755, 1.2748, 1.2736, 1.2735, 1.2733, 1.262, 1.266, 1.2587, 1.2668, 1.2544, 1.2668, 1.2361, 1.2438, 1.2544, 1.2087, 1.2478, 1.1847, 1.145, 1.2277, 1.2334, 1.1774, 1.2468, 1.1174, 1.1435, 1.2432, 1.1419, 1.1505, 1.0848, 1.2371, 1.0666, 0.9043, 1.1788, 1.1379, 1.0271, 1.0607, 1.0259, 1.1981, 1.0663, 1.1289, 0.8757, 0.8404, 0.7032, 0.7436, 0.8707, 0.8513, 0.2459, 0.2658, 0.6801, 0.4951, 0.9661, 0.4023, 0.09, -0.2071, 0.6298, 0.1412, 0.0234, 1.6051, 1.601, 1.5996, 1.5976, 1.5976, 1.591, 1.5871, 1.5847, 1.5835, 1.5834, 1.5829, 1.5818, 1.5748, 1.5725, 1.5678, 1.567, 1.567, 1.5668, 1.5649, 1.564, 1.5638, 1.5611, 1.5601, 1.56, 1.558, 1.556, 1.5538, 1.5528, 1.5526, 1.5522, 1.5467, 1.5508, 1.5467, 1.5479, 1.4348, 1.5307, 1.5267, 1.5385, 1.5021, 1.4486, 1.5222, 1.3568, 1.4537, 1.3972, 1.35, 1.2772, 1.3355, 1.2563, 1.0841, 1.1272, 1.0148, 0.792, 1.3777, 1.1976, 1.0712, 1.0173, 1.0348, 0.8113, 0.83, 0.8489, 0.9257, 0.9295, 1.1748, 0.7946, 1.1224, 0.7756, 0.8615, 0.4541, 0.8964, 0.9704, 0.7461, 0.3777, 0.5837, 0.1061, 0.3473, 0.119, 0.5756, -0.277, 0.4362, 0.3862, -0.612, -0.122, 0.4334, 0.1031, 0.116, 1.7095, 1.7093, 1.7066, 1.7063, 1.7052, 1.7042, 1.697, 1.6933, 1.6929, 1.6912, 1.69, 1.6889, 1.6887, 1.6885, 1.6862, 1.686, 1.6847, 1.6845, 1.6843, 1.6827, 1.6809, 1.6808, 1.6807, 1.6806, 1.68, 1.679, 1.6789, 1.6789, 1.6785, 1.6767, 1.6765, 1.6588, 1.6661, 1.6412, 1.619, 1.6488, 1.6061, 1.6033, 1.6196, 1.633, 1.5261, 1.5638, 1.4823, 1.6301, 1.4875, 1.4777, 1.4668, 1.5266, 1.4626, 1.2044, 1.3521, 1.3417, 1.4993, 1.3622, 1.1188, 1.2273, 1.2658, 1.2371, 1.1818, 1.1221, 1.3079, 0.6159, 1.247, 0.3087, 0.58, -0.1547, 0.3552, 0.6059, -0.004, -0.2362, 0.6583, 0.1307, -0.1663, -0.2425, -0.6762, 0.0891, 0.051, 1.7345, 1.7336, 1.7316, 1.7287, 1.7274, 1.7243, 1.7235, 1.7227, 1.7218, 1.7202, 1.7202, 1.7185, 1.7185, 1.7171, 1.7167, 1.7163, 1.7163, 1.7155, 1.7118, 1.7115, 1.7102, 1.7081, 1.7076, 1.7067, 1.7067, 1.705, 1.7034, 1.7031, 1.7029, 1.7019, 1.6993, 1.6953, 1.6381, 1.6576, 1.6606, 1.6745, 1.6726, 1.6302, 1.5774, 1.6751, 1.5572, 1.6483, 1.5592, 1.5625, 1.625, 1.5315, 1.5569, 1.5522, 1.4886, 1.5432, 1.5877, 1.623, 1.4764, 1.4558, 1.4445, 1.1259, 1.3799, 1.1368, 1.1559, 1.3853, 1.4156, 0.5969, 1.4261, 1.261, 1.3372, 1.1914, 0.5656, 0.902, 1.0965, -0.2104, 0.5674, 0.0907, -0.1074, 0.6183, 0.6842, 0.6799, 0.4221, 1.0128, -0.9025, 2.0223, 2.0175, 2.0163, 2.0127, 2.0125, 2.0035, 2.0034, 2.0002, 1.9998, 1.9996, 1.9983, 1.9983, 1.9924, 1.985, 1.9847, 1.9787, 1.9772, 1.9725, 1.9713, 1.9711, 1.9697, 1.9652, 1.9644, 1.9621, 1.9608, 1.9599, 1.9598, 1.9595, 1.9594, 1.9593, 1.9527, 1.951, 1.9519, 1.9478, 1.9563, 1.9465, 1.9415, 1.9378, 1.9058, 1.9357, 1.9355, 1.8889, 1.8669, 1.8723, 1.6055, 1.9225, 1.7493, 1.5096, 1.7907, 1.102, 1.5442, 1.1902, 1.5652, 1.5702, 1.2897, 1.0756, 0.7352, 0.7049, 1.0109, 1.1708, 0.2032, 0.2467, 0.6202, 0.9992, 0.6068, 0.3334, 0.6957, 0.7717, 0.8325, 0.87, 0.7636, 0.5696, 0.6373, 0.3568, 0.464, 0.7303, -0.0191, 0.2066, -0.5943, 0.5589, 0.4879, -0.2038, 0.0425, -0.4032, 3.0935, 3.0927, 3.085, 3.0779, 3.0691, 3.0686, 3.0496, 3.0496, 3.0495, 3.04, 3.0342, 3.0332, 3.0273, 3.0253, 3.0066, 2.9937, 2.9909, 2.9804, 2.9796, 2.9736, 2.9406, 2.9366, 2.9322, 2.9285, 2.9132, 2.9105, 2.9092, 2.8944, 2.8909, 2.8489, 2.831, 2.8215, 2.8231, 2.6929, 2.8239, 2.7158, 2.7398, 2.2808, 2.7863, 1.7455, 2.6939, 2.2163, 2.6178, 2.6546, 1.1257, 2.1276, 2.0416, 2.6643, 1.2462, 1.0812, 2.1854, 1.1377, 2.1621, 0.7316, 1.1872, 0.6898, 1.2089, -0.012, 0.5869, 0.6359, 0.368, 1.7798, -0.031, 1.0699, 0.145, 0.6201, -0.8724, 0.1664, 0.0058, -0.0357, 0.3155], \"logprob\": [30.0, 29.0, 28.0, 27.0, 26.0, 25.0, 24.0, 23.0, 22.0, 21.0, 20.0, 19.0, 18.0, 17.0, 16.0, 15.0, 14.0, 13.0, 12.0, 11.0, 10.0, 9.0, 8.0, 7.0, 6.0, 5.0, 4.0, 3.0, 2.0, 1.0, -6.8717, -7.0615, -7.2387, -7.2957, -7.3408, -7.4894, -7.4894, -7.2438, -7.6225, -7.6225, -7.6225, -7.6431, -7.6431, -7.7074, -7.7298, -7.7298, -7.8001, -7.7766, -7.8251, -7.8758, -7.9023, -7.9024, -7.9296, -7.9577, -7.9865, -7.9865, -8.0162, -7.4663, -7.2266, -8.0783, -6.2321, -6.9268, -6.435, -7.1323, -6.6812, -7.3022, -6.4106, -6.7229, -7.0743, -5.9854, -6.9743, -5.6726, -5.0577, -6.6407, -6.7554, -5.8324, -7.0384, -5.382, -5.7426, -7.0854, -5.7566, -5.893, -5.5839, -7.0476, -5.6845, -4.5269, -6.6023, -6.3731, -5.7313, -5.9481, -5.7784, -6.7827, -6.1999, -6.5008, -5.431, -5.3557, -4.8455, -5.2097, -5.8683, -5.8466, -4.5779, -4.7774, -5.7589, -5.5009, -6.2366, -5.5042, -5.3235, -5.1311, -5.9102, -5.6468, -5.6258, -6.9606, -7.2619, -7.2634, -7.4554, -7.4555, -7.7268, -7.8951, -7.9716, -8.0121, -8.0121, -7.171, -8.0545, -8.244, -8.2976, -7.533, -8.4143, -8.4144, -8.4146, -8.2539, -8.478, -8.4782, -7.5648, -8.5464, -8.5466, -8.1213, -8.6196, -8.2652, -8.2174, -8.5539, -8.5545, -7.3758, -8.2195, -7.8337, -7.9344, -4.0305, -7.1565, -7.3561, -7.9087, -7.2531, -6.5157, -7.7373, -6.0752, -7.1578, -6.7181, -6.4158, -5.8618, -6.3791, -6.1811, -5.2191, -5.6589, -5.1848, -4.132, -7.019, -6.2084, -5.7537, -5.6896, -5.8122, -5.1855, -5.2888, -5.493, -5.7519, -5.7818, -6.511, -5.7128, -6.424, -5.6925, -5.889, -5.0695, -5.9753, -6.1394, -5.771, -5.5524, -5.8214, -5.3074, -5.669, -5.5301, -5.864, -5.3203, -5.802, -5.7872, -5.4358, -5.6707, -5.838, -5.7953, -5.8501, -6.8302, -6.8585, -7.0668, -6.983, -7.1599, -7.2204, -7.4818, -7.722, -7.6896, -7.7931, -7.8307, -7.8696, -7.1767, -7.8322, -7.3461, -7.9524, -6.4686, -7.9965, -7.9967, -8.0428, -8.0911, -8.0913, -6.7661, -8.0006, -6.9317, -8.1419, -8.142, -8.142, -5.6488, -8.1955, -7.3335, -6.5732, -7.413, -6.832, -6.1611, -7.143, -6.1556, -6.1083, -6.5523, -6.8657, -5.314, -6.054, -5.3853, -7.092, -5.6371, -5.9205, -5.9007, -6.5387, -6.2977, -5.0528, -5.8876, -5.9978, -6.6081, -6.1644, -5.6451, -5.9461, -6.0413, -5.9811, -6.1012, -6.0316, -6.3438, -5.5534, -6.3229, -5.3404, -5.6664, -4.9785, -5.6408, -5.838, -5.4175, -5.2795, -5.9955, -5.7758, -5.6898, -5.6737, -5.6002, -5.841, -5.9151, -6.3342, -6.4453, -6.6277, -6.9261, -7.0259, -7.2182, -7.2616, -7.3069, -7.3543, -7.43, -7.4047, -7.5118, -7.5118, -6.4716, -7.5707, -7.601, -5.8662, -7.6326, -7.7699, -7.7701, -7.4927, -7.8869, -7.8874, -7.9292, -7.9292, -7.9735, -8.0195, -7.8527, -7.5, -7.8539, -5.9215, -5.8263, -4.9683, -5.9092, -6.156, -6.6074, -6.5881, -5.8133, -4.9611, -7.0444, -5.0833, -6.5806, -5.2109, -5.3173, -6.361, -5.7415, -5.975, -5.9341, -5.3652, -6.1118, -6.4221, -6.6801, -5.9917, -5.8973, -5.9141, -4.6621, -5.6702, -4.9663, -5.0876, -5.8492, -5.9783, -4.2269, -6.0106, -5.7624, -5.8904, -5.8273, -5.3328, -5.62, -5.7752, -5.2536, -5.6102, -5.4328, -5.5209, -5.7125, -5.7513, -5.7774, -5.7473, -5.8279, -5.8265, -6.8945, -7.1477, -7.2016, -7.3503, -7.3505, -7.6471, -7.6472, -7.7374, -7.6934, -7.7379, -7.7858, -7.7858, -7.6173, -8.0709, -8.0712, -7.4832, -6.6767, -8.291, -8.2922, -8.2924, -7.2475, -8.3783, -8.0913, -7.5339, -8.3025, -8.4706, -8.4707, -8.4709, -8.4711, -8.4711, -6.8499, -6.8515, -7.4121, -7.0958, -8.0387, -7.1686, -7.1486, -7.1763, -6.4219, -7.4908, -7.5251, -6.648, -6.2685, -6.7239, -5.8134, -7.471, -6.8, -6.0371, -7.0103, -4.8225, -6.435, -5.6209, -6.5617, -6.5996, -6.0248, -5.7163, -5.1949, -5.3115, -5.8156, -6.1079, -4.7207, -4.7965, -5.3766, -5.8956, -5.5121, -5.1901, -5.6351, -5.7412, -5.8099, -5.8939, -5.8185, -5.7018, -5.7982, -5.6093, -5.7095, -5.8991, -5.4326, -5.6918, -5.4182, -5.9093, -5.9171, -5.7525, -5.864, -5.8344, -5.6915, -5.7454, -6.1494, -5.8159, -6.4085, -6.6852, -7.0867, -7.0867, -7.0868, -7.2392, -7.3248, -7.3258, -7.4185, -7.3336, -6.892, -6.5533, -6.0456, -6.7267, -7.0297, -7.0971, -5.742, -7.341, -6.7737, -7.0807, -7.5309, -7.2222, -7.4464, -6.9033, -7.0049, -7.3509, -5.8661, -5.5507, -6.3777, -6.2305, -6.8793, -6.5397, -6.6316, -5.6746, -6.7965, -4.7717, -6.6803, -5.9981, -6.6059, -6.6585, -5.0478, -6.1153, -6.0839, -6.7045, -5.3962, -5.2803, -6.2855, -5.434, -6.2742, -5.1985, -5.5666, -5.3063, -5.6859, -5.0552, -5.4294, -5.6023, -5.5304, -6.1459, -5.5796, -5.9311, -5.8084, -5.9333, -5.7964, -5.9524, -5.9603, -5.9602, -6.0263]}, \"token.table\": {\"Topic\": [5, 1, 2, 3, 6, 1, 3, 4, 1, 5, 1, 2, 3, 4, 5, 6, 2, 6, 3, 5, 2, 3, 5, 4, 1, 3, 4, 3, 4, 5, 2, 1, 3, 5, 6, 1, 2, 3, 4, 5, 6, 1, 2, 3, 4, 5, 6, 1, 4, 6, 1, 2, 3, 5, 6, 1, 1, 2, 3, 4, 5, 1, 6, 2, 5, 6, 1, 2, 3, 4, 5, 4, 1, 2, 3, 4, 6, 1, 5, 5, 1, 3, 2, 1, 2, 3, 4, 5, 6, 1, 6, 1, 2, 3, 6, 1, 2, 3, 4, 5, 6, 1, 2, 3, 5, 6, 1, 2, 3, 4, 5, 1, 2, 3, 4, 5, 6, 5, 1, 2, 3, 4, 5, 6, 2, 1, 2, 3, 4, 5, 6, 5, 6, 2, 1, 2, 3, 4, 5, 6, 1, 2, 3, 4, 5, 6, 1, 2, 3, 4, 5, 3, 1, 2, 3, 4, 5, 6, 1, 2, 3, 4, 5, 6, 1, 5, 3, 6, 1, 6, 5, 5, 6, 1, 3, 6, 3, 5, 1, 3, 5, 1, 2, 3, 4, 5, 6, 5, 1, 3, 5, 5, 6, 2, 5, 6, 3, 1, 2, 3, 4, 5, 6, 5, 1, 2, 3, 4, 5, 6, 1, 1, 2, 5, 2, 3, 4, 1, 2, 5, 3, 1, 1, 3, 6, 3, 4, 5, 5, 3, 2, 3, 4, 6, 1, 2, 3, 5, 2, 1, 3, 1, 3, 1, 3, 6, 5, 6, 1, 5, 1, 2, 3, 4, 5, 6, 1, 2, 3, 4, 5, 1, 3, 5, 1, 2, 3, 4, 5, 6, 1, 2, 3, 4, 5, 6, 5, 6, 1, 1, 2, 1, 2, 3, 4, 5, 6, 1, 2, 3, 4, 5, 1, 1, 2, 3, 5, 1, 2, 3, 4, 5, 6, 2, 3, 6, 2, 3, 4, 5, 6, 5, 1, 4, 4, 1, 2, 3, 4, 5, 6, 1, 1, 3, 3, 1, 2, 3, 4, 5, 6, 4, 2, 4, 1, 2, 3, 4, 2, 2, 3, 4, 5, 1, 2, 3, 4, 3, 2, 3, 1, 3, 4, 1, 3, 1, 3, 1, 1, 1, 1, 2, 3, 4, 5, 6, 1, 3, 1, 6, 4, 1, 2, 1, 2, 3, 4, 5, 6, 1, 2, 3, 4, 5, 6, 6, 1, 2, 3, 4, 5, 6, 3, 5, 1, 2, 3, 4, 5, 1, 2, 3, 4, 5, 6, 3, 3, 1, 2, 5, 6, 1, 2, 3, 4, 5, 6, 3, 4, 1, 2, 3, 4, 5, 6, 5, 6, 1, 2, 3, 4, 5, 6, 1, 2, 3, 4, 5, 6, 1, 2, 3, 4, 5, 6, 2, 5, 1, 3, 4, 6, 3, 6, 1, 2, 3, 4, 5, 6, 3, 5, 6, 1, 2, 3, 4, 5, 6, 1, 4, 1, 2, 3, 4, 5, 6, 1, 2, 3, 4, 5, 6, 1, 2, 3, 4, 5, 1, 2, 3, 4, 6, 1, 6, 1, 5, 2, 5, 2, 5, 1, 2, 3, 5, 2, 1, 2, 3, 4, 5, 6, 2, 5, 5, 2, 4, 5, 1, 2, 3, 4, 5, 6, 1, 2, 3, 6, 1, 2, 3, 4, 5, 6, 2, 3, 1, 2, 3, 4, 5, 6, 3, 5, 4, 1, 2, 3, 4, 5, 6, 1, 3, 4, 6, 2, 3, 4, 5, 6, 1, 4, 6, 5, 1, 1, 1, 2, 3, 4, 3, 1, 6, 1, 3, 5, 4, 1, 5, 2, 3, 5, 6, 5, 1, 2, 3, 5, 6, 5, 6, 1, 1, 1, 5, 6, 2, 3, 1, 6, 1, 2, 3, 4, 5, 6, 2, 5, 2, 3, 4, 5, 1, 2, 4, 5, 6, 1, 4, 6, 4, 1, 4, 2, 5, 4, 1, 2, 3, 4, 5, 6, 1, 2, 3, 4, 5, 6, 1, 2, 4, 5, 1, 2, 3, 4, 3, 2, 5, 1, 4, 6, 1, 2, 3, 4, 5, 6, 1, 2, 3, 1, 2, 3, 4, 5, 6, 1, 2, 3, 4, 5, 6, 6, 3, 1, 6, 1, 2, 3, 4, 5, 6, 3, 1, 2, 3, 4, 5, 6, 1, 2, 3, 4, 4, 2, 3, 5, 6, 2, 3, 5, 1, 2, 3, 4, 5, 6, 2, 2, 5, 2, 6, 4, 2, 1, 2, 4, 5, 1, 2, 4, 5, 6, 1, 2, 3, 4, 5, 6, 1, 2, 3, 4, 5, 6, 6, 2, 1, 2, 3, 4, 5, 2, 1, 3, 4, 5, 2, 5, 3, 2, 5, 1, 2, 3, 4, 5, 6, 4, 5, 2, 6, 1, 2, 3, 4, 6, 4, 1, 2, 3, 4, 5, 1, 2, 3, 4, 5, 1, 5, 1, 2, 3, 4, 5, 6, 2, 3, 6, 1, 2, 3, 4, 5, 6, 1, 3, 6, 1, 1, 5, 5, 6, 1, 2, 3, 4, 5, 6, 3, 5, 1, 2, 3, 4, 5, 6, 1, 2, 5, 1, 2, 3, 4, 5, 6, 2, 5, 2, 3, 6, 1, 2, 3, 4, 5, 6, 3, 3, 6, 4, 5, 6, 1, 2, 3, 4, 5, 1, 2, 1, 2, 4, 5, 6, 1, 2, 3, 4, 5, 6, 4, 1, 1, 2, 3, 4, 5, 6, 1, 2, 5, 1, 2, 3, 4, 5, 6, 1, 3, 4, 5, 6, 3, 4, 6, 1, 2, 5, 2, 3, 5, 6, 5, 1, 5, 1, 2, 3, 4, 5, 1, 2, 3, 4, 5, 1, 2, 3, 4, 5, 5, 2, 3, 5, 1, 2, 4, 5, 6, 4, 1, 6, 1, 2, 3, 6, 1, 2, 4, 6, 1, 2, 3, 4, 5, 6, 2, 2, 3, 1, 2, 3, 4, 5, 6, 2, 1, 3, 4, 4, 5, 6, 4, 1, 6, 6, 1, 2, 4, 5, 6, 1, 2, 4, 5, 6, 1, 2, 4, 5, 6, 2, 3, 5, 6, 6, 1, 2, 5, 2, 3, 4, 5, 6, 5, 1, 2, 3, 5, 6, 3, 5, 1, 3, 5, 1, 2, 3, 4, 5, 1, 2, 3, 4, 5, 6, 2, 5, 1, 3, 5, 1, 2, 3, 4, 5, 6, 1, 2, 3, 4, 5, 6, 1, 2, 5, 6, 1, 5, 3, 4, 5, 2, 3, 4, 5, 6, 2, 1, 3, 4, 4, 1, 3, 4, 6, 3, 5, 3, 4, 1, 2, 3, 5, 6, 1, 2, 3, 4, 5, 6, 2, 2, 5, 2, 4, 4, 2, 5, 2, 3, 5, 6, 1, 2, 3, 4, 5, 6, 1, 3, 4, 5, 1, 4, 3, 3, 4, 5, 5, 1, 2, 1, 2, 3, 4, 5, 6, 1, 2, 3, 4, 5, 6, 1, 2, 3, 4, 5, 6, 4, 1, 2, 3, 4, 5, 6, 1, 2, 3, 4, 5, 6, 5, 1, 2, 3, 4, 5, 6, 1, 1, 2, 3, 4, 5, 6, 1, 6, 4, 1, 2, 3, 4, 5, 6, 5, 1, 2, 3, 6, 2, 3, 4, 5, 6, 1, 2, 3, 4, 5, 6, 3, 4, 4, 5, 1, 2, 3, 4, 5, 6, 2, 4, 4, 2, 4, 6, 4, 6, 1, 2, 3, 4, 5, 6, 1, 2, 3, 4, 5, 6, 1, 2, 3, 4, 5, 6, 1, 2, 3, 4, 5, 6, 4, 1, 2, 3, 5, 6, 1, 5, 6, 1, 2, 5, 1, 2, 3, 4, 5, 6, 1, 2, 3, 4, 5, 6, 1, 2, 3, 4, 5, 6, 1, 5, 1, 2, 3, 4, 5, 6, 1, 2, 3, 4, 5, 6], \"Freq\": [0.9489671050108377, 0.11852168281070345, 0.3160578208285425, 0.15802891041427125, 0.3950722760356781, 0.9620006642727538, 0.004958766310684298, 0.029752597864105786, 0.9899852586845675, 0.9345167685713002, 0.13837944745699732, 0.12773487457568983, 0.09580115593176737, 0.5242452144043938, 0.05056172118621056, 0.06120629406751805, 0.0549055581198022, 0.8784889299168352, 0.9435447423339489, 0.024193454931639716, 0.03300052906838093, 0.9042144964736374, 0.05940095232308566, 0.9889712325615322, 0.008393297838990663, 0.9568359536449356, 0.02937654243646732, 0.9830187780268558, 0.9375411604462562, 0.05450820700268932, 0.9542497045845402, 0.03959653990024989, 0.923919264339164, 0.02639769326683326, 0.01319884663341663, 0.7611780311579043, 0.03482513868042699, 0.09701288632404662, 0.06218774764361963, 0.007462529717234356, 0.037312648586171775, 0.8325361743951182, 0.02934048191700857, 0.0770187650321475, 0.0036675602396260714, 0.02200536143775643, 0.03667560239626071, 0.9596144258068704, 0.0342719437788168, 0.0114239812596056, 0.8555036392073694, 0.07379743852587531, 0.04919829235058354, 0.010932953855685231, 0.010932953855685231, 0.9725118689728415, 0.11824670749195776, 0.0021115483480706743, 0.04011941861334281, 0.8319500491398456, 0.006334645044212023, 0.1464773730290678, 0.8463137108346138, 0.10950506090393572, 0.05475253045196786, 0.8212879567795179, 0.055638811714685515, 0.7542150032435148, 0.01854627057156184, 0.14837016457249472, 0.01854627057156184, 0.987778701494438, 0.01747343216235766, 0.02329790954981021, 0.1339629799114087, 0.8212513116308099, 0.0058244773874525525, 0.20153472977845754, 0.7878175800430613, 0.9345210286433564, 0.9822592328721259, 0.017232618120563613, 0.9900106854625452, 0.6323205621010478, 0.10832043890381976, 0.16518866932832513, 0.03385013715744367, 0.050098202993016636, 0.009478038404084229, 0.9763100488604766, 0.013559861789728843, 0.715041682408023, 0.022229275100767557, 0.17783420080614046, 0.08521222121960896, 0.015796624036971754, 0.5483685201405909, 0.14893959806287652, 0.08349644133827927, 0.14893959806287652, 0.05415985384104601, 0.03679572941850927, 0.19777704562448734, 0.05059412795045025, 0.6485247310012259, 0.06899199265970489, 0.8404254670841628, 0.10221390815888466, 0.034071302719628216, 0.005678550453271369, 0.017035651359814108, 0.04828795441098456, 0.01609598480366152, 0.07243193161647683, 0.836991209790399, 0.005365328267887173, 0.021461313071548693, 0.9815278173948094, 0.04007107544215244, 0.4690672948816668, 0.10371337173262984, 0.1343559588354523, 0.21214098763492467, 0.042428197526984936, 0.9747234803789261, 0.320581100799087, 0.30645858534538273, 0.10733111744815249, 0.03389403708889026, 0.14828641226389488, 0.08473509272222565, 0.3362990695126814, 0.6420254963423918, 0.9505522484905863, 0.021676715850141984, 0.15173701095099387, 0.06812682124330337, 0.6193347385754853, 0.12696362140797446, 0.01548336846438713, 0.6736035936879349, 0.03843762321324979, 0.1405178684681099, 0.04536899789104894, 0.08695724595784379, 0.01512299929701631, 0.7873970755795944, 0.04272697309346636, 0.12207706598133247, 0.039675046443933056, 0.006103853299066623, 0.9743084451969528, 0.04493758264973889, 0.40680337977658365, 0.0023651359289336257, 0.16792465095428744, 0.2294181851065617, 0.1466384275938848, 0.030537943589535998, 0.412262238458736, 0.15268971794768, 0.106882802563376, 0.03817242948692, 0.26720700640844, 0.04744152369510068, 0.9330166326703133, 0.138772237804032, 0.8326334268241921, 0.09066515497878014, 0.8613189722984114, 0.9792879033011088, 0.12264042568641369, 0.8584829798048959, 0.09055658604059523, 0.045278293020297615, 0.8602875673856547, 0.9675646804328064, 0.9345194131429997, 0.04454964724409653, 0.7916129625681769, 0.16106410926711826, 0.7925151286247154, 0.06604292738539295, 0.09198836314394018, 0.030662787714646728, 0.007076027934149244, 0.01179337989024874, 0.9489811031504577, 0.15667664742959134, 0.08545998950704982, 0.75489657397894, 0.9579055180442455, 0.03547798214978687, 0.09906571146703849, 0.13208761528938467, 0.7595037879139618, 0.987512048227206, 0.1857993952925433, 0.051610943136817584, 0.1531124646392255, 0.3475136837879051, 0.24601216228549716, 0.017203647712272528, 0.9872974556184847, 0.8557157974070276, 0.026994189192650717, 0.026994189192650717, 0.021595351354120572, 0.040491283788976075, 0.026994189192650717, 0.9872082498557135, 0.0579512278249735, 0.8982440312870893, 0.02897561391248675, 0.9309033184544822, 0.041373480820199204, 0.020686740410099602, 0.9352168245496743, 0.056926241494328, 0.008132320213475428, 0.981989373291845, 0.9877037781751257, 0.03111106579191747, 0.9437023290214966, 0.020740710527944982, 0.9081906716302115, 0.07812392874238379, 0.009765491092797974, 0.9638943683825778, 0.9768112548268026, 0.03239777339399139, 0.8941785456741624, 0.019438664036394836, 0.05831599210918451, 0.107936997934022, 0.07915379848494947, 0.6116429882927913, 0.20148239614350774, 0.9415692866581752, 0.988814467729372, 0.013926964334216507, 0.9357108274129793, 0.05775992761808514, 0.9752109342290972, 0.061327717312411476, 0.8585880423737607, 0.9006983937908537, 0.06433559955648956, 0.036707222595062976, 0.9176805648765743, 0.015615908937095784, 0.23991714639719888, 0.09227582553738418, 0.5564942093946862, 0.08375805702624103, 0.012776652766714733, 0.004919957648583392, 0.1229989412145848, 0.014759872945750176, 0.8265528849620098, 0.029519745891500353, 0.10271009540680943, 0.011412232822978825, 0.8787419273693696, 0.23965946326284038, 0.2508435715484396, 0.1837389218348443, 0.05751827118308169, 0.13740475893736182, 0.13101383991701943, 0.15160338046646984, 0.1542399609963215, 0.33089085649638206, 0.26761292377994245, 0.0685510937761429, 0.026365805298516495, 0.2402144177787121, 0.7206432533361363, 0.976039104295041, 0.02472378986760118, 0.9642278048364461, 0.048049747707010496, 0.6426653755812654, 0.04204352924363418, 0.1681741169745367, 0.09009327695064467, 0.006006218463376312, 0.04036986557503383, 0.19287824663627276, 0.008971081238896407, 0.7221720397311607, 0.03588432495558563, 0.9752114516753271, 0.01536595446007051, 0.0051219848200235035, 0.6965899355231965, 0.2817091651012927, 0.003376309125966592, 0.5233279145248217, 0.13842867416463026, 0.2059548566839621, 0.08778403727513139, 0.0405157095115991, 0.9542486930507257, 0.07725336365128567, 0.8884136819897852, 0.3376974204437296, 0.14706177987065644, 0.01089346517560418, 0.35403761820713586, 0.14978514616455746, 0.9640873896399942, 0.039397001419727636, 0.9567843201933856, 0.9894250142190623, 0.11946376813026022, 0.00431796752278049, 0.5958795181437077, 0.225973633692179, 0.03454374018224392, 0.020150515106308952, 0.9876030300204919, 0.9849946258804907, 0.9675651223647505, 0.9717457697818954, 0.6396234198405163, 0.1632605232460059, 0.08722137543279768, 0.042492464954439896, 0.015655118667425225, 0.05367469257402934, 0.9672311396437911, 0.9745641280519737, 0.9770150072244768, 0.1430903417535554, 0.003974731715376539, 0.03974731715376539, 0.8108452699368139, 0.9745635227545066, 0.028987227279426965, 0.12078011366427902, 0.7681615229048145, 0.08213047729170973, 0.00382475265091433, 0.0764950530182866, 0.21801090110211682, 0.6999297351173225, 0.9782478716217208, 0.946468320204082, 0.9697508349385846, 0.3114525655859609, 0.01899101009670493, 0.6684835554040136, 0.9401178923469852, 0.054658016996917747, 0.02308729026981429, 0.9696661913322002, 0.9715329237474413, 0.9932896501281794, 0.9877038379557286, 0.021635028150397632, 0.03365448823395187, 0.026442812183819327, 0.8341505297986642, 0.08173232856816882, 0.002403892016710848, 0.9480805607959739, 0.04569062943595055, 0.9715318968657413, 0.9748947248190502, 0.9583825601841761, 0.9888189178994852, 0.9774856772225203, 0.08653033744265577, 0.44707341012038815, 0.0854209741421089, 0.11093633005468688, 0.2418411995192174, 0.02773408251367172, 0.20037301178238814, 0.03816628795855012, 0.00954157198963753, 0.6965347552435397, 0.05406890794127934, 0.0031805239965458434, 0.956947446299747, 0.03512273374543221, 0.4399584542848877, 0.05175981815116326, 0.27543617516154734, 0.18670505833098178, 0.012939954537790815, 0.9681341999738818, 0.02875646138536283, 0.0724907884224395, 0.22552689731425624, 0.016109064093875445, 0.0724907884224395, 0.6121444355672669, 0.7626104762301172, 0.009502934283241336, 0.19005868566482673, 0.007127200712431002, 0.02850880284972401, 0.002375733570810334, 0.9651597183549561, 0.9717461238886915, 0.48912216359879157, 0.0407601802998993, 0.05095022537487412, 0.40760180299899296, 0.0033374983002946008, 0.35544356898137497, 0.17688740991561383, 0.22027488781944363, 0.21193114206870714, 0.03170623385279871, 0.9207383801223726, 0.08124162177550347, 0.1325425030709352, 0.08938912997807258, 0.19419017891788182, 0.5764057691689508, 0.0030823837923473303, 0.0030823837923473303, 0.14890348700961706, 0.7941519307179576, 0.011333236459812058, 0.5031956988156554, 0.07253271334279718, 0.08839924438653406, 0.23799796565605322, 0.08613259709457165, 0.035607263614121316, 0.35607263614121315, 0.010173503889748949, 0.20855682973985343, 0.3586160121136504, 0.03306388764168408, 0.192567103901604, 0.17521871616272078, 0.32788452826489334, 0.22205936305770552, 0.039901291799431464, 0.04163613057331979, 0.07339303390817227, 0.9174129238521535, 0.07022518033515425, 0.8251458689380624, 0.017556295083788562, 0.08778147541894281, 0.2257995854150953, 0.767718590411324, 0.009332983760347241, 0.4181176724635564, 0.04853151555380565, 0.07653046683484738, 0.1903928687110837, 0.2557237550335144, 0.029853326464882594, 0.8508198042491539, 0.10448664262708908, 0.02359456837008748, 0.3539185255513122, 0.015729712246724988, 0.007864856123362494, 0.16516197859061235, 0.4404319429082996, 0.021668461516708978, 0.9750807682519039, 0.047975352875815745, 0.21189114186818622, 0.21988703401415552, 0.007995892145969291, 0.4197843376633878, 0.09195275967864684, 0.14408841917698817, 0.2568532689676746, 0.1858531783587239, 0.12111780162703353, 0.2693826967221953, 0.022970617549954636, 0.538599198071037, 0.03452558961993826, 0.06041978183489196, 0.258941922149537, 0.10875560730280553, 0.12119261706109484, 0.13983763507049404, 0.19577268909869167, 0.18645018009399206, 0.34493283317388534, 0.9858724294918851, 0.9748934601130961, 0.060459945072829556, 0.9068991760924433, 0.8411244958849656, 0.15076759831900327, 0.9380504599885435, 0.0253527151348255, 0.019490907165211766, 0.2241454323999353, 0.1266908965738765, 0.6237090292867765, 0.9631235064710747, 0.0648020921713126, 0.586232880340479, 0.05123886357731693, 0.17330792092327788, 0.11001285415129813, 0.01356322859399566, 0.9259007137799369, 0.04409051017999699, 0.9489659381414689, 0.08908121344754336, 0.8908121344754335, 0.02227030336188584, 0.06174908307578146, 0.2111420260010592, 0.21910964962374066, 0.17927153151033326, 0.2788668267938518, 0.04979764764175924, 0.9300111049047196, 0.057675107280912845, 0.007209388410114106, 0.007209388410114106, 0.8573742000117274, 0.017719975516935542, 0.042255326232692444, 0.06133837678939226, 0.0013630750397642724, 0.019083050556699815, 0.9731766861533314, 0.979585582195626, 0.05639414854906639, 0.46368522140343477, 0.12375382598267347, 0.13471935486721415, 0.1613499250153844, 0.061093660928155255, 0.9768935750458161, 0.019537871500916324, 0.9710366591310715, 0.44784914498389106, 0.015519524826174441, 0.2549636221442944, 0.1585208607244961, 0.03325612462751666, 0.0886829990067111, 0.22481679602987373, 0.5821149182916373, 0.1806563539525771, 0.012043756930171807, 0.6980997704822636, 0.08901943381988596, 0.009370466717882733, 0.2061502677934201, 0.9571064454307945, 0.9760389554215821, 0.14840631852188896, 0.7420315926094448, 0.9756597688748089, 0.9810207499490381, 0.9683124696400871, 0.27281477733676834, 0.05224112757512585, 0.6617209492849274, 0.011609139461139078, 0.9801097709452496, 0.9560769557497782, 0.03855149015120074, 0.012325909741917442, 0.8874655014180558, 0.09244432306438082, 0.9742831178158898, 0.12660944445483768, 0.8581306790827886, 0.30244037054597384, 0.14914867588568573, 0.4723041403046715, 0.07457433794284286, 0.9727998906950494, 0.037018141576420846, 0.28380575208589315, 0.6334215336409789, 0.02467876105094723, 0.02056563420912269, 0.9836042543170845, 0.9889934256647759, 0.9694341844751362, 0.9868537288067657, 0.050161315705315, 0.9029036826956699, 0.0250806578526575, 0.9483509885764341, 0.03270175822677359, 0.29167778103762837, 0.6805814890877996, 0.07783537963606378, 0.28954761224615727, 0.19510735162106654, 0.07368415938880704, 0.27190492619531614, 0.09236465050146235, 0.9175782304355552, 0.04829359107555554, 0.02120071598866669, 0.7870765810792507, 0.029150984484416696, 0.16430554891216684, 0.04081431283704883, 0.020407156418524416, 0.9019963136987791, 0.0020407156418524417, 0.034692165911491504, 0.005096649482077297, 0.9530734531484546, 0.04077319585661838, 0.978100157063844, 0.05066078185256227, 0.9287810006303083, 0.8924664495444958, 0.10499605288758775, 0.9871325041492669, 0.15027060686398816, 0.3523586643707309, 0.14681611015447119, 0.08808966609268272, 0.20899705092577664, 0.053544698997513025, 0.0017774107077396875, 0.43191080198074405, 0.2008474099745847, 0.10308982104890188, 0.22750857059068, 0.037325624862533435, 0.17250634261354642, 0.013068662319208061, 0.7762785417609588, 0.03659225449378257, 0.008304392285841513, 0.10795709971593967, 0.02491317685752454, 0.8553524054416758, 0.9625020165528017, 0.09939615964536092, 0.8945654368082483, 0.08920465507755551, 0.8920465507755551, 0.016219028195919184, 0.010449494287987589, 0.611295415847274, 0.06269696572792553, 0.057472218583931735, 0.177641402895789, 0.07837120715990692, 0.03270009739317733, 0.9156027270089653, 0.049050146089765996, 0.2215969276606173, 0.4382610470000222, 0.09106723054545916, 0.07095655046667027, 0.15936765345455353, 0.018592892903031247, 0.20536747434293648, 0.1723435588707055, 0.1341596566059384, 0.05366386264237536, 0.39215899623274303, 0.04334388905730317, 0.9886866070854351, 0.9782500049537447, 0.9464716117328952, 0.04772125773443169, 0.24117634636842736, 0.21155819856879593, 0.06981420552770266, 0.021155819856879594, 0.2982970599820023, 0.15443748495522103, 0.9831087819296939, 0.1674777940311361, 0.21665778116726336, 0.1727945493972039, 0.30837181123193314, 0.09570159658922063, 0.03721728756247469, 0.038968596035705634, 0.21216235619439733, 0.004329844003967293, 0.7447331686823743, 0.984986116098267, 0.1960487117430434, 0.05601391764086954, 0.6254887469897099, 0.121363488221884, 0.06848877588194609, 0.034244387940973044, 0.8903540864652991, 0.04824650286100356, 0.8332301440048993, 0.00391187861035164, 0.029991069346029235, 0.06650193637597787, 0.018255433514974318, 0.9731767468688571, 0.055552104297470976, 0.9443857730570067, 0.02010105435317193, 0.9648506089522527, 0.9813608611948554, 0.9900102290199961, 0.013348611457475954, 0.04004583437242786, 0.8485902997966857, 0.09725416919018195, 0.03445046309605262, 0.10335138928815786, 0.7492975723391445, 0.01722523154802631, 0.08612615774013155, 0.14307411618369648, 0.30658739182220673, 0.14015423626158022, 0.13577441637840584, 0.2306705138471841, 0.043798198831743816, 0.1499646348499859, 0.31236873249858815, 0.1513467973831655, 0.19212059211196353, 0.18175437311311657, 0.012439462798616343, 0.9490292779707856, 0.9463588793035174, 0.1040968628622126, 0.767714363608818, 0.006506053928888288, 0.03903632357332972, 0.07807264714665944, 0.984547045671981, 0.012856429641522006, 0.9642322231141505, 0.025712859283044013, 0.9345182529580282, 0.0733783849512263, 0.9050000810651243, 0.9766930487710371, 0.07004857814298367, 0.9106315158587877, 0.26337636685347054, 0.05267527337069411, 0.05887236435548165, 0.32534727670134594, 0.26027782136107674, 0.03873181865492214, 0.07516369066366713, 0.9019642879640056, 0.08671146935166034, 0.780403224164943, 0.27279133520699855, 0.005348849709941148, 0.6204665663531731, 0.08558159535905836, 0.02139539883976459, 0.9710361794914348, 0.015050433015056793, 0.04515129904517038, 0.6170677536173285, 0.2445695364946729, 0.07901477332904816, 0.8626196492987673, 0.03791734722192384, 0.0157988946758016, 0.00315977893516032, 0.08215425231416833, 0.9733371792754846, 0.029054841172402528, 0.01777555763783617, 0.5789753059180923, 0.04316921140617355, 0.0660234997976772, 0.2767908260748775, 0.01777555763783617, 0.13662682542273413, 0.1093014603381873, 0.7651102223673111, 0.01911281066682817, 0.023891013333535212, 0.5471042053379563, 0.07645124266731268, 0.31058317333595775, 0.023891013333535212, 0.08387288788572006, 0.2795762929524002, 0.6150678444952804, 0.9760390179933695, 0.9625631038427922, 0.036323135994067626, 0.09473636287204404, 0.8526272658483963, 0.3556855492212115, 0.15048234774743563, 0.1410772010132209, 0.14193221435269496, 0.16672760119744287, 0.044033186982914405, 0.07339793430673358, 0.9174741788341698, 0.02191320819472528, 0.501812467659209, 0.03506113311156045, 0.1490098157241319, 0.232280006864088, 0.061356982945230794, 0.9885071097717397, 0.9715014900975385, 0.9488577088378718, 0.5735835986830754, 0.15401781816489987, 0.11577891158602818, 0.008497534795304821, 0.09665945829659234, 0.05204740062124203, 0.9174966889727852, 0.04828929941962028, 0.2691577937066346, 0.06211333700922338, 0.662542261431716, 0.07579717127532569, 0.28056266382508616, 0.11878661170013727, 0.18100817020973298, 0.26359314786792365, 0.080322375530569, 0.989069164287316, 0.9735756213172514, 0.9730131693214126, 0.04636965530890091, 0.04636965530890091, 0.8810234508691173, 0.018456211558332852, 0.8028452027874792, 0.018456211558332852, 0.055368634674998564, 0.1015091635708307, 0.017475731145955357, 0.9611652130275445, 0.1494910148659023, 0.7126897220351157, 0.059101098900473006, 0.07300723981823136, 0.006953070458879177, 0.0869671045294156, 0.5476209863336639, 0.17801079208364753, 0.12229749074449067, 0.06250760638051746, 0.004076583024816356, 0.9814991530620698, 0.9671393461686987, 0.4074486515309892, 0.05473190841461049, 0.2037243257654946, 0.18345324857489811, 0.1358162171769964, 0.015203307892947358, 0.06991932765926298, 0.9089512595704187, 0.9792885238497785, 0.19910859128418348, 0.17150938061112836, 0.11236821488315306, 0.2168509410025761, 0.1596811474655333, 0.1399674255562082, 0.11344571483736489, 0.8224814325708955, 0.04898792231613484, 0.010313246803396807, 0.002578311700849202, 0.9257391306666629, 0.03630349532026129, 0.03630349532026129, 0.14672579442965022, 0.7825375702914679, 0.06113574767902092, 0.021241611907551413, 0.6839799034231555, 0.28463759956118895, 0.012744967144530849, 0.934516944252531, 0.9515405705260136, 0.04374899174832247, 0.19864079857513037, 0.06415727655842719, 0.09500212105767104, 0.546570644526601, 0.09500212105767104, 0.255114469870017, 0.1650740687394228, 0.10879881803280138, 0.4314435887507641, 0.03939267549463498, 0.04713863500664458, 0.004713863500664457, 0.032997044504651206, 0.895634065126247, 0.01885545400265783, 0.9854451980661897, 0.13181207410309598, 0.018830296300442282, 0.8379481853696815, 0.03277492215944919, 0.13109968863779675, 0.7304125509820105, 0.03277492215944919, 0.07491410779302672, 0.9932945785494478, 0.9682863599771848, 0.024513578733599616, 0.9147279672043668, 0.04408327552792129, 0.003673606293993441, 0.03673606293993441, 0.010298109721977634, 0.1184282618027428, 0.8289978326191996, 0.041192438887910535, 0.09172157578649624, 0.03174977623378716, 0.5503294547189774, 0.264581468614893, 0.04586078789324812, 0.0176387645743262, 0.9505505962250709, 0.9463620305676531, 0.9867084305999737, 0.6501307980947195, 0.09087849865840165, 0.11418067780158156, 0.034953268714769864, 0.05592522994363179, 0.0535950120293138, 0.9463621075660354, 0.04792072781723036, 0.02053745477881301, 0.9241854650465855, 0.9910508110105004, 0.3249685984138507, 0.6499371968277013, 0.9824498962844478, 0.9892659499289115, 0.9570795718118396, 0.9639408876392268, 0.036207481072474144, 0.9413945078843277, 0.9770168275051772, 0.06520957391897728, 0.8477244609467046, 0.06523725253057741, 0.7688676191103767, 0.04193823376965691, 0.09319607504368202, 0.023299018760920505, 0.05169194672621006, 0.04135355738096805, 0.909778262381297, 0.08020451814358204, 0.8020451814358205, 0.11532546153387509, 0.45081771326878445, 0.052420664333579586, 0.37742878320177303, 0.991658467280324, 0.05964092356510332, 0.9144941613315842, 0.01988030785503444, 0.1676893820498779, 0.18574823857832629, 0.4824294529742641, 0.1418910155806659, 0.023218529822290786, 0.9638899237340334, 0.03374929214146782, 0.5581613700319678, 0.044133689723457915, 0.29335923169122025, 0.06749858428293563, 0.9483477884012793, 0.02257970924764951, 0.8058244933148642, 0.18462286234976671, 0.006516101024109414, 0.052687948223911346, 0.287647717330543, 0.3189756865447606, 0.17230383067819657, 0.1680318348762578, 0.013305718561324795, 0.4869892993444875, 0.1676520538726924, 0.1676520538726924, 0.1490240478868377, 0.018628005985854713, 0.9634102915279568, 0.05070580481726088, 0.15565169747979166, 0.7965704518083455, 0.03662392881877451, 0.2514409011867477, 0.12484128660321041, 0.1687994861113831, 0.34639061212440075, 0.09319138295732608, 0.015824951822942166, 0.3174168024071965, 0.17806308427720777, 0.14516012305207157, 0.2283852602685926, 0.0464512393766629, 0.08322513721652103, 0.22472894362226858, 0.14633512607961674, 0.5905667588213105, 0.041810036022747646, 0.9906678610538033, 0.9854467296955952, 0.8529585700893557, 0.11223139080123101, 0.028057847700307753, 0.6583506805375335, 0.049943844730433576, 0.14075083514940373, 0.07718594185612462, 0.07264559233517612, 0.9829284015082779, 0.06772099353185844, 0.9142334126800888, 0.97271041199489, 0.9919597471758416, 0.17300542679842068, 0.6920217071936827, 0.030756520319719233, 0.0999586910390875, 0.9718563215027043, 0.899419869808482, 0.9651598377203333, 0.9833490330219459, 0.8917831103824748, 0.05770361302474837, 0.002622891501124926, 0.007868674503374778, 0.03934337251687389, 0.5506522008958318, 0.17575514262827063, 0.09638185240905164, 0.027638913558478043, 0.10630351368645402, 0.04323009556582463, 0.9631928316685745, 0.8488252541446378, 0.1364183444161025, 0.01986221480092486, 0.9732485252453182, 0.990058196484121, 0.9604758088717297, 0.9423377016296891, 0.057719355914767435, 0.028859677957383718, 0.23087742365906974, 0.6637725930198255, 0.018019906874981593, 0.009009953437490796, 0.7838659490616993, 0.02252488359372699, 0.14866423171859813, 0.02252488359372699, 0.18763616355354581, 0.7699552918231707, 0.03235106268164583, 0.0064702125363291655, 0.027383246849498284, 0.95841363973244, 0.9651596587781834, 0.9551261617843881, 0.030321465453472637, 0.015160732726736318, 0.9640888796102672, 0.9446431687996032, 0.04107144212172188, 0.024226608661846883, 0.44819226024416736, 0.2059261736256985, 0.036339912992770326, 0.15747295630200475, 0.130218021557427, 0.14741661277906423, 0.28746239491917525, 0.10564857249166269, 0.012284717731588686, 0.3808262496792492, 0.0663374757505789, 0.030580338093113245, 0.017474478910350425, 0.7732456917830064, 0.004368619727587606, 0.16600754964832903, 0.004368619727587606, 0.995337837240099, 0.2984072191575658, 0.22040035273878306, 0.17830140895721774, 0.1572519370664351, 0.12753503557356546, 0.01795396131860873, 0.511833602657651, 0.0649341137700005, 0.09358151690382424, 0.17188441880294247, 0.13368788129117748, 0.022917922507059, 0.9458962637966585, 0.7935657056585409, 0.019740440439267187, 0.03553279279068094, 0.04737705705424125, 0.051325145142094686, 0.05527323322994812, 0.9899855363305691, 0.022540992980504142, 0.42326975707835557, 0.070127533717124, 0.0025045547756115715, 0.4282788666295787, 0.052595650287843, 0.9810203340285137, 0.9500467875915122, 0.9692168214390688, 0.09201650194877498, 0.27818942449629647, 0.3445269026454133, 0.1711934919977209, 0.09201650194877498, 0.021399186499715114, 0.9815204388305724, 0.9035195221547999, 0.04840283154400714, 0.04840283154400714, 0.974892226057975, 0.6131100137165776, 0.11724813011313037, 0.01709868564149818, 0.19297088081119373, 0.06350940381127895, 0.3142103663402675, 0.016205692246775975, 0.11704111067115981, 0.5401897415591992, 0.007202529887455989, 0.0054018974155919915, 0.07465177257916725, 0.917150348829769, 0.9285029160342332, 0.06403468386442987, 0.2302203684087993, 0.22268979561038063, 0.18826431996046672, 0.12801973757311735, 0.1861127277323471, 0.04518343679051201, 0.9542487284066327, 0.9727154255369925, 0.9849861729263448, 0.11930735315596344, 0.11930735315596344, 0.7516363248825697, 0.32323531537041195, 0.6464706307408239, 0.03258725694379096, 0.45496824117677376, 0.09024163461357497, 0.13034902777516383, 0.23813764689693392, 0.05264095352458539, 0.012721806910619797, 0.03816542073185939, 0.03816542073185939, 0.22899252439115636, 0.2798797520336356, 0.39437601422921376, 0.654873365761715, 0.12250517927644092, 0.10889349269016971, 0.016636505827664815, 0.060496384827872056, 0.036297830896723234, 0.3487809578770547, 0.10779254013129447, 0.1531066015877622, 0.3182282952283757, 0.07174726397274059, 0.0003432883443671798, 0.9742589118754622, 0.8522735859568232, 0.020172155880634868, 0.020172155880634868, 0.05547342867174589, 0.050430389701587176, 0.9673047347357372, 0.00997221376016224, 0.00997221376016224, 0.8853132277536147, 0.03303407566244831, 0.07928178158987594, 0.8859292468326926, 0.018329570624124672, 0.033604212810895234, 0.018329570624124672, 0.0244394274988329, 0.018329570624124672, 0.14692967072387167, 0.29253565072050125, 0.17737455745043967, 0.03971072181726261, 0.2064957534497656, 0.13766383563317705, 0.2789654862352916, 0.22332911117151152, 0.24370299499768452, 0.1324302448701244, 0.09246608813416969, 0.029777214822868204, 0.07086253819188455, 0.8857817273985569, 0.3940465785136303, 0.06505485966026915, 0.08364196242034605, 0.13382713987255368, 0.28066525167716116, 0.04275033634817687, 0.14176062517304547, 0.2201813965453685, 0.1045610284964307, 0.3086561129654253, 0.1598577262589662, 0.06434524830549582], \"Term\": [\"abound\", \"academy\", \"academy\", \"academy\", \"academy\", \"account\", \"account\", \"account\", \"achievement\", \"aching\", \"adventure\", \"adventure\", \"adventure\", \"adventure\", \"adventure\", \"adventure\", \"aged\", \"aged\", \"agency\", \"agency\", \"agent\", \"agent\", \"agent\", \"alanna\", \"alien\", \"alien\", \"alien\", \"aliens\", \"allies\", \"allies\", \"alluring\", \"amazon\", \"amazon\", \"amazon\", \"amazon\", \"america\", \"america\", \"america\", \"america\", \"america\", \"america\", \"american\", \"american\", \"american\", \"american\", \"american\", \"american\", \"americans\", \"americans\", \"americans\", \"amp\", \"amp\", \"amp\", \"amp\", \"amp\", \"analysis\", \"ancient\", \"ancient\", \"ancient\", \"ancient\", \"ancient\", \"anne\", \"anne\", \"annual\", \"annual\", \"annual\", \"apart\", \"apart\", \"apart\", \"apart\", \"apart\", \"apprentice\", \"army\", \"army\", \"army\", \"army\", \"army\", \"asimov\", \"asimov\", \"ass\", \"astounding\", \"astounding\", \"aunt\", \"author\", \"author\", \"author\", \"author\", \"author\", \"author\", \"authors\", \"authors\", \"award\", \"award\", \"award\", \"award\", \"away\", \"away\", \"away\", \"away\", \"away\", \"away\", \"bad\", \"bad\", \"bad\", \"bad\", \"bad\", \"based\", \"based\", \"based\", \"based\", \"based\", \"battle\", \"battle\", \"battle\", \"battle\", \"battle\", \"battle\", \"beatrice\", \"beautiful\", \"beautiful\", \"beautiful\", \"beautiful\", \"beautiful\", \"beautiful\", \"bella\", \"best\", \"best\", \"best\", \"best\", \"best\", \"best\", \"billy\", \"billy\", \"blond\", \"blood\", \"blood\", \"blood\", \"blood\", \"blood\", \"blood\", \"book\", \"book\", \"book\", \"book\", \"book\", \"book\", \"books\", \"books\", \"books\", \"books\", \"books\", \"bosch\", \"boy\", \"boy\", \"boy\", \"boy\", \"boy\", \"boy\", \"boys\", \"boys\", \"boys\", \"boys\", \"boys\", \"boys\", \"brian\", \"brian\", \"brick\", \"brick\", \"bryson\", \"bryson\", \"cage\", \"cameron\", \"cameron\", \"capitol\", \"capitol\", \"capitol\", \"carre\", \"carrot\", \"case\", \"case\", \"case\", \"century\", \"century\", \"century\", \"century\", \"century\", \"century\", \"certified\", \"chicago\", \"chicago\", \"chicago\", \"chloe\", \"chloe\", \"christmas\", \"christmas\", \"christmas\", \"cia\", \"city\", \"city\", \"city\", \"city\", \"city\", \"city\", \"clary\", \"classic\", \"classic\", \"classic\", \"classic\", \"classic\", \"classic\", \"classics\", \"clay\", \"clay\", \"clay\", \"cole\", \"cole\", \"cole\", \"collection\", \"collection\", \"collection\", \"colonization\", \"comprehensive\", \"computer\", \"computer\", \"computer\", \"conspiracy\", \"conspiracy\", \"conspiracy\", \"counting\", \"covert\", \"crew\", \"crew\", \"crew\", \"crew\", \"crime\", \"crime\", \"crime\", \"crime\", \"cullen\", \"cultural\", \"cultural\", \"culture\", \"culture\", \"cultures\", \"cyborg\", \"cyborg\", \"dad\", \"dad\", \"dante\", \"dante\", \"dark\", \"dark\", \"dark\", \"dark\", \"dark\", \"dark\", \"darkness\", \"darkness\", \"darkness\", \"darkness\", \"darkness\", \"dating\", \"dating\", \"dating\", \"day\", \"day\", \"day\", \"day\", \"day\", \"day\", \"death\", \"death\", \"death\", \"death\", \"death\", \"death\", \"debt\", \"debt\", \"definitive\", \"deny\", \"deny\", \"desire\", \"desire\", \"desire\", \"desire\", \"desire\", \"desire\", \"destiny\", \"destiny\", \"destiny\", \"destiny\", \"destiny\", \"detailed\", \"detective\", \"detective\", \"detective\", \"detective\", \"determined\", \"determined\", \"determined\", \"determined\", \"determined\", \"determined\", \"dexter\", \"district\", \"district\", \"doesn\", \"doesn\", \"doesn\", \"doesn\", \"doesn\", \"dogs\", \"dragon\", \"dragon\", \"dragons\", \"earth\", \"earth\", \"earth\", \"earth\", \"earth\", \"earth\", \"economic\", \"economics\", \"eddie\", \"eden\", \"edition\", \"edition\", \"edition\", \"edition\", \"edition\", \"edition\", \"elf\", \"ella\", \"elven\", \"empire\", \"empire\", \"empire\", \"empire\", \"ender\", \"enemies\", \"enemies\", \"enemies\", \"enemies\", \"enemy\", \"enemy\", \"enemy\", \"enemy\", \"engineer\", \"enticing\", \"entrepreneurs\", \"epic\", \"epic\", \"epic\", \"era\", \"era\", \"espionage\", \"espionage\", \"essay\", \"essential\", \"european\", \"evil\", \"evil\", \"evil\", \"evil\", \"evil\", \"evil\", \"evolution\", \"evolution\", \"examines\", \"exceptionally\", \"exiled\", \"explains\", \"faeries\", \"family\", \"family\", \"family\", \"family\", \"family\", \"family\", \"fantasy\", \"fantasy\", \"fantasy\", \"fantasy\", \"fantasy\", \"fantasy\", \"farms\", \"father\", \"father\", \"father\", \"father\", \"father\", \"father\", \"fbi\", \"fbi\", \"feel\", \"feel\", \"feel\", \"feel\", \"feel\", \"fiction\", \"fiction\", \"fiction\", \"fiction\", \"fiction\", \"fiction\", \"file\", \"files\", \"film\", \"film\", \"film\", \"film\", \"finds\", \"finds\", \"finds\", \"finds\", \"finds\", \"finds\", \"fleet\", \"fleet\", \"forces\", \"forces\", \"forces\", \"forces\", \"forces\", \"forces\", \"ford\", \"ford\", \"friend\", \"friend\", \"friend\", \"friend\", \"friend\", \"friend\", \"friends\", \"friends\", \"friends\", \"friends\", \"friends\", \"friends\", \"future\", \"future\", \"future\", \"future\", \"future\", \"future\", \"gabriel\", \"gabriel\", \"galaxy\", \"galaxy\", \"galaxy\", \"galaxy\", \"gibson\", \"gibson\", \"girl\", \"girl\", \"girl\", \"girl\", \"girl\", \"girl\", \"girlfriend\", \"girlfriend\", \"girlfriend\", \"girls\", \"girls\", \"girls\", \"girls\", \"girls\", \"girls\", \"gods\", \"gods\", \"going\", \"going\", \"going\", \"going\", \"going\", \"going\", \"good\", \"good\", \"good\", \"good\", \"good\", \"good\", \"great\", \"great\", \"great\", \"great\", \"great\", \"green\", \"green\", \"green\", \"green\", \"green\", \"groundbreaking\", \"guin\", \"habit\", \"habit\", \"handsome\", \"handsome\", \"happily\", \"happily\", \"happy\", \"happy\", \"happy\", \"happy\", \"hathaway\", \"heart\", \"heart\", \"heart\", \"heart\", \"heart\", \"heart\", \"heartache\", \"heartache\", \"heartless\", \"heir\", \"heir\", \"heir\", \"help\", \"help\", \"help\", \"help\", \"help\", \"help\", \"historical\", \"historical\", \"historical\", \"historical\", \"history\", \"history\", \"history\", \"history\", \"history\", \"history\", \"hogwarts\", \"holes\", \"home\", \"home\", \"home\", \"home\", \"home\", \"home\", \"homicide\", \"homicide\", \"horde\", \"human\", \"human\", \"human\", \"human\", \"human\", \"human\", \"humanity\", \"humanity\", \"humanity\", \"humanity\", \"husband\", \"husband\", \"husband\", \"husband\", \"idaho\", \"illustrations\", \"imaginations\", \"imaginations\", \"indy\", \"insights\", \"intellectual\", \"intelligence\", \"intelligence\", \"intelligence\", \"intelligence\", \"interstellar\", \"introduction\", \"introduction\", \"investigation\", \"investigation\", \"investigation\", \"iran\", \"isaac\", \"isaac\", \"isn\", \"isn\", \"isn\", \"isn\", \"jace\", \"jack\", \"jack\", \"jack\", \"jack\", \"jack\", \"jail\", \"jamie\", \"japanese\", \"jesus\", \"julia\", \"julia\", \"julia\", \"julie\", \"julie\", \"june\", \"june\", \"just\", \"just\", \"just\", \"just\", \"just\", \"just\", \"katherine\", \"katherine\", \"killer\", \"killer\", \"killer\", \"killer\", \"king\", \"king\", \"king\", \"king\", \"king\", \"kingdom\", \"kingdom\", \"kingdom\", \"kingdoms\", \"kings\", \"kings\", \"kiss\", \"kiss\", \"knights\", \"know\", \"know\", \"know\", \"know\", \"know\", \"know\", \"knows\", \"knows\", \"knows\", \"knows\", \"knows\", \"knows\", \"land\", \"land\", \"land\", \"land\", \"lands\", \"lands\", \"lands\", \"lands\", \"lapd\", \"lauren\", \"lauren\", \"legend\", \"legend\", \"legend\", \"let\", \"let\", \"let\", \"let\", \"let\", \"let\", \"librarian\", \"librarian\", \"librarian\", \"life\", \"life\", \"life\", \"life\", \"life\", \"life\", \"like\", \"like\", \"like\", \"like\", \"like\", \"like\", \"lily\", \"lindsay\", \"literary\", \"literary\", \"little\", \"little\", \"little\", \"little\", \"little\", \"little\", \"lock\", \"long\", \"long\", \"long\", \"long\", \"long\", \"long\", \"lord\", \"lord\", \"lord\", \"lord\", \"lords\", \"lot\", \"lot\", \"lot\", \"lot\", \"lots\", \"lots\", \"lots\", \"love\", \"love\", \"love\", \"love\", \"love\", \"love\", \"lucinda\", \"lucky\", \"lucky\", \"lucy\", \"lucy\", \"mage\", \"maggie\", \"magic\", \"magic\", \"magic\", \"magic\", \"magical\", \"magical\", \"magical\", \"magical\", \"magical\", \"make\", \"make\", \"make\", \"make\", \"make\", \"make\", \"man\", \"man\", \"man\", \"man\", \"man\", \"man\", \"mannered\", \"manor\", \"marriage\", \"marriage\", \"marriage\", \"marriage\", \"marriage\", \"marry\", \"mars\", \"mars\", \"mars\", \"masking\", \"max\", \"max\", \"mcelhaney\", \"melanie\", \"melanie\", \"men\", \"men\", \"men\", \"men\", \"men\", \"men\", \"mike\", \"mike\", \"mild\", \"mild\", \"military\", \"military\", \"military\", \"military\", \"military\", \"minions\", \"mission\", \"mission\", \"mission\", \"mission\", \"mission\", \"modern\", \"modern\", \"modern\", \"modern\", \"modern\", \"moral\", \"moral\", \"mother\", \"mother\", \"mother\", \"mother\", \"mother\", \"mother\", \"mouse\", \"mouse\", \"mouse\", \"murder\", \"murder\", \"murder\", \"murder\", \"murder\", \"murder\", \"museum\", \"museum\", \"museum\", \"myths\", \"narrative\", \"narrative\", \"needing\", \"needing\", \"new\", \"new\", \"new\", \"new\", \"new\", \"new\", \"nick\", \"nick\", \"night\", \"night\", \"night\", \"night\", \"night\", \"night\", \"nineteenth\", \"nobleman\", \"noise\", \"novel\", \"novel\", \"novel\", \"novel\", \"novel\", \"novel\", \"nurse\", \"nurse\", \"odd\", \"odd\", \"odd\", \"old\", \"old\", \"old\", \"old\", \"old\", \"old\", \"operative\", \"operatives\", \"owen\", \"pack\", \"pack\", \"pack\", \"pain\", \"pain\", \"pain\", \"pain\", \"pain\", \"pants\", \"pants\", \"passion\", \"passion\", \"passion\", \"passion\", \"passion\", \"past\", \"past\", \"past\", \"past\", \"past\", \"past\", \"patch\", \"penguin\", \"people\", \"people\", \"people\", \"people\", \"people\", \"people\", \"percy\", \"percy\", \"piper\", \"place\", \"place\", \"place\", \"place\", \"place\", \"place\", \"planet\", \"planet\", \"planet\", \"planet\", \"planet\", \"planets\", \"planets\", \"planets\", \"pleasure\", \"pleasure\", \"pleasure\", \"police\", \"police\", \"police\", \"police\", \"polished\", \"portrait\", \"portrait\", \"power\", \"power\", \"power\", \"power\", \"power\", \"powerful\", \"powerful\", \"powerful\", \"powerful\", \"powerful\", \"powers\", \"powers\", \"powers\", \"powers\", \"powers\", \"preston\", \"pretty\", \"pretty\", \"pretty\", \"prince\", \"prince\", \"prince\", \"prince\", \"prince\", \"prophecy\", \"publication\", \"publication\", \"published\", \"published\", \"published\", \"published\", \"queen\", \"queen\", \"queen\", \"queen\", \"race\", \"race\", \"race\", \"race\", \"race\", \"race\", \"rake\", \"ranch\", \"reacher\", \"readers\", \"readers\", \"readers\", \"readers\", \"readers\", \"readers\", \"realizing\", \"realm\", \"realm\", \"realm\", \"realms\", \"rebecca\", \"rebecca\", \"reborn\", \"recounts\", \"rejected\", \"repair\", \"rescues\", \"rescues\", \"rider\", \"rocked\", \"rocked\", \"romance\", \"romance\", \"romance\", \"romance\", \"romance\", \"royal\", \"royal\", \"royal\", \"sally\", \"sally\", \"sam\", \"sam\", \"sam\", \"sam\", \"sara\", \"sarah\", \"sarah\", \"sarah\", \"save\", \"save\", \"save\", \"save\", \"save\", \"scarlet\", \"school\", \"school\", \"school\", \"school\", \"school\", \"sci\", \"sci\", \"science\", \"science\", \"science\", \"secret\", \"secret\", \"secret\", \"secret\", \"secret\", \"secrets\", \"secrets\", \"secrets\", \"secrets\", \"secrets\", \"secrets\", \"sensuality\", \"sensuality\", \"serial\", \"serial\", \"serial\", \"series\", \"series\", \"series\", \"series\", \"series\", \"series\", \"set\", \"set\", \"set\", \"set\", \"set\", \"set\", \"sex\", \"sex\", \"sex\", \"sex\", \"shakespeare\", \"shark\", \"ship\", \"ship\", \"ship\", \"sister\", \"sister\", \"sister\", \"sister\", \"sister\", \"smile\", \"solar\", \"solar\", \"sorceress\", \"sorcery\", \"space\", \"space\", \"space\", \"space\", \"spaceship\", \"spider\", \"starship\", \"stones\", \"stories\", \"stories\", \"stories\", \"stories\", \"stories\", \"story\", \"story\", \"story\", \"story\", \"story\", \"story\", \"strict\", \"sweet\", \"sweet\", \"sword\", \"sword\", \"swords\", \"swore\", \"tame\", \"taylor\", \"taylor\", \"taylor\", \"taylor\", \"team\", \"team\", \"team\", \"team\", \"team\", \"team\", \"technology\", \"technology\", \"technology\", \"technology\", \"tempus\", \"tempus\", \"terran\", \"terrorist\", \"terrorist\", \"terrorist\", \"tesha\", \"text\", \"text\", \"thing\", \"thing\", \"thing\", \"thing\", \"thing\", \"thing\", \"things\", \"things\", \"things\", \"things\", \"things\", \"things\", \"thriller\", \"thriller\", \"thriller\", \"thriller\", \"thriller\", \"thriller\", \"throne\", \"time\", \"time\", \"time\", \"time\", \"time\", \"time\", \"times\", \"times\", \"times\", \"times\", \"times\", \"times\", \"tips\", \"today\", \"today\", \"today\", \"today\", \"today\", \"today\", \"tolkien\", \"town\", \"town\", \"town\", \"town\", \"town\", \"town\", \"translation\", \"travis\", \"treason\", \"truth\", \"truth\", \"truth\", \"truth\", \"truth\", \"truth\", \"tucker\", \"understanding\", \"understanding\", \"understanding\", \"ursula\", \"wants\", \"wants\", \"wants\", \"wants\", \"wants\", \"war\", \"war\", \"war\", \"war\", \"war\", \"war\", \"warrior\", \"warrior\", \"warriors\", \"warriors\", \"way\", \"way\", \"way\", \"way\", \"way\", \"way\", \"widowed\", \"wield\", \"wizards\", \"wolf\", \"wolf\", \"wolf\", \"wolves\", \"wolves\", \"woman\", \"woman\", \"woman\", \"woman\", \"woman\", \"woman\", \"woods\", \"woods\", \"woods\", \"woods\", \"woods\", \"woods\", \"work\", \"work\", \"work\", \"work\", \"work\", \"work\", \"world\", \"world\", \"world\", \"world\", \"world\", \"world\", \"wrath\", \"writer\", \"writer\", \"writer\", \"writer\", \"writer\", \"writers\", \"writers\", \"writers\", \"writing\", \"writing\", \"writing\", \"written\", \"written\", \"written\", \"written\", \"written\", \"written\", \"year\", \"year\", \"year\", \"year\", \"year\", \"year\", \"years\", \"years\", \"years\", \"years\", \"years\", \"years\", \"yoga\", \"yoga\", \"york\", \"york\", \"york\", \"york\", \"york\", \"york\", \"young\", \"young\", \"young\", \"young\", \"young\", \"young\"]}, \"R\": 30, \"lambda.step\": 0.01, \"plot.opts\": {\"xlab\": \"PC1\", \"ylab\": \"PC2\"}, \"topic.order\": [3, 5, 6, 2, 4, 1]};\n",
       "\n",
       "function LDAvis_load_lib(url, callback){\n",
       "  var s = document.createElement('script');\n",
       "  s.src = url;\n",
       "  s.async = true;\n",
       "  s.onreadystatechange = s.onload = callback;\n",
       "  s.onerror = function(){console.warn(\"failed to load library \" + url);};\n",
       "  document.getElementsByTagName(\"head\")[0].appendChild(s);\n",
       "}\n",
       "\n",
       "if(typeof(LDAvis) !== \"undefined\"){\n",
       "   // already loaded: just create the visualization\n",
       "   !function(LDAvis){\n",
       "       new LDAvis(\"#\" + \"ldavis_el315531122040457928402276246\", ldavis_el315531122040457928402276246_data);\n",
       "   }(LDAvis);\n",
       "}else if(typeof define === \"function\" && define.amd){\n",
       "   // require.js is available: use it to load d3/LDAvis\n",
       "   require.config({paths: {d3: \"https://cdnjs.cloudflare.com/ajax/libs/d3/3.5.5/d3.min\"}});\n",
       "   require([\"d3\"], function(d3){\n",
       "      window.d3 = d3;\n",
       "      LDAvis_load_lib(\"https://cdn.rawgit.com/bmabey/pyLDAvis/files/ldavis.v1.0.0.js\", function(){\n",
       "        new LDAvis(\"#\" + \"ldavis_el315531122040457928402276246\", ldavis_el315531122040457928402276246_data);\n",
       "      });\n",
       "    });\n",
       "}else{\n",
       "    // require.js not available: dynamically load d3 & LDAvis\n",
       "    LDAvis_load_lib(\"https://cdnjs.cloudflare.com/ajax/libs/d3/3.5.5/d3.min.js\", function(){\n",
       "         LDAvis_load_lib(\"https://cdn.rawgit.com/bmabey/pyLDAvis/files/ldavis.v1.0.0.js\", function(){\n",
       "                 new LDAvis(\"#\" + \"ldavis_el315531122040457928402276246\", ldavis_el315531122040457928402276246_data);\n",
       "            })\n",
       "         });\n",
       "}\n",
       "</script>"
      ],
      "text/plain": [
       "PreparedData(topic_coordinates=              x         y  topics  cluster       Freq\n",
       "topic                                                \n",
       "2     -0.026798  0.195927       1        1  27.265409\n",
       "4     -0.008706 -0.102234       2        1  19.848352\n",
       "5      0.038630  0.034717       3        1  17.884263\n",
       "1      0.201336 -0.028605       4        1  17.522432\n",
       "3     -0.051398 -0.063917       5        1  13.012540\n",
       "0     -0.153065 -0.035888       6        1   4.467003, topic_info=     Category         Freq     Term        Total  loglift  logprob\n",
       "3463  Default  1533.000000     love  1533.000000  30.0000  30.0000\n",
       "2492  Default   535.000000     girl   535.000000  29.0000  29.0000\n",
       "3252  Default   490.000000     king   490.000000  28.0000  28.0000\n",
       "6320  Default  1110.000000      war  1110.000000  27.0000  27.0000\n",
       "3515  Default   524.000000    magic   524.000000  26.0000  26.0000\n",
       "218   Default   473.000000  ancient   473.000000  25.0000  25.0000\n",
       "3380  Default  2635.000000     life  2635.000000  24.0000  24.0000\n",
       "6513  Default   755.000000     year   755.000000  23.0000  23.0000\n",
       "3211  Default   963.000000     just   963.000000  22.0000  22.0000\n",
       "2821  Default   902.000000    human   902.000000  21.0000  21.0000\n",
       "2757  Default   733.000000  history   733.000000  20.0000  20.0000\n",
       "3389  Default   968.000000     like   968.000000  19.0000  19.0000\n",
       "1989  Default   415.000000     evil   415.000000  18.0000  18.0000\n",
       "3415  Default   472.000000   little   472.000000  17.0000  17.0000\n",
       "4243  Default   387.000000   planet   387.000000  16.0000  16.0000\n",
       "3984  Default   883.000000      old   883.000000  15.0000  15.0000\n",
       "1755  Default   694.000000    earth   694.000000  14.0000  14.0000\n",
       "3285  Default   382.000000     land   382.000000  13.0000  13.0000\n",
       "6480  Default  2913.000000    world  2913.000000  12.0000  12.0000\n",
       "1393  Default   625.000000      day   625.000000  11.0000  11.0000\n",
       "481   Default   372.000000   battle   372.000000  10.0000  10.0000\n",
       "3241  Default   377.000000   killer   377.000000   9.0000   9.0000\n",
       "634   Default  1586.000000     book  1586.000000   8.0000   8.0000\n",
       "654   Default   422.000000      boy   422.000000   7.0000   7.0000\n",
       "1654  Default   367.000000    doesn   367.000000   6.0000   6.0000\n",
       "6459  Default   797.000000    woman   797.000000   5.0000   5.0000\n",
       "4341  Default   810.000000    power   810.000000   4.0000   4.0000\n",
       "167   Default   238.000000    alien   238.000000   3.0000   3.0000\n",
       "1374  Default   704.000000     dark   704.000000   2.0000   2.0000\n",
       "3879  Default  2339.000000      new  2339.000000   1.0000   1.0000\n",
       "...       ...          ...      ...          ...      ...      ...\n",
       "2238   Topic6    40.212918     film    98.134993   2.2163  -5.9981\n",
       "3812   Topic6    21.897771   museum    35.768412   2.6178  -6.6059\n",
       "569    Topic6    20.775798    billy    32.708981   2.6546  -6.6585\n",
       "6513   Topic6   104.017036     year   755.463478   1.1257  -5.0478\n",
       "4995   Topic6    35.766730      sam    95.382233   2.1276  -6.1153\n",
       "2560   Topic6    36.909193    green   107.267260   2.0416  -6.0839\n",
       "6458   Topic6    19.841907   wolves    30.937214   2.6643  -6.7045\n",
       "3415   Topic6    73.415420   little   472.683170   1.2462  -5.3962\n",
       "1393   Topic6    82.431437      day   625.888075   1.0812  -5.2803\n",
       "23     Topic6    30.169713  academy    75.935473   2.1854  -6.2855\n",
       "4234   Topic6    70.690161    place   507.260884   1.1377  -5.4340\n",
       "6470   Topic6    30.512294    woods    78.605186   2.1621  -6.2742\n",
       "3211   Topic6    89.458538     just   963.572097   0.7316  -5.1985\n",
       "654    Topic6    61.909856      boy   422.808680   1.1872  -5.5666\n",
       "2821   Topic6    80.321800    human   902.089475   0.6898  -5.3063\n",
       "1654   Topic6    54.947062    doesn   367.192618   1.2089  -5.6859\n",
       "3879   Topic6   103.242020      new  2339.144792  -0.0120  -5.0552\n",
       "3984   Topic6    71.014272      old   883.938000   0.5869  -5.4294\n",
       "546    Topic6    59.743235     best   708.089153   0.6359  -5.6023\n",
       "6523   Topic6    64.194987    young   994.634440   0.3680  -5.5304\n",
       "657    Topic6    34.688293     boys   130.984589   1.7798  -6.1459\n",
       "5518   Topic6    61.109516    story  1411.054017  -0.0310  -5.5796\n",
       "5825   Topic6    43.000669    thing   330.215430   1.0699  -5.9311\n",
       "3930   Topic6    48.615503    novel   941.449514   0.1450  -5.8084\n",
       "5157   Topic6    42.906617      set   516.670821   0.6201  -5.9333\n",
       "3380   Topic6    49.201083     life  2635.415600  -0.8724  -5.7964\n",
       "6459   Topic6    42.092410    woman   797.857888   0.1664  -5.9524\n",
       "6354   Topic6    41.762508      way   929.544164   0.0058  -5.9603\n",
       "3389   Topic6    41.766274     like   968.994728  -0.0357  -5.9602\n",
       "2775   Topic6    39.094542     home   638.364102   0.3155  -6.0263\n",
       "\n",
       "[507 rows x 6 columns], token_table=      Topic      Freq         Term\n",
       "term                              \n",
       "9         5  0.948967       abound\n",
       "23        1  0.118522      academy\n",
       "23        2  0.316058      academy\n",
       "23        3  0.158029      academy\n",
       "23        6  0.395072      academy\n",
       "41        1  0.962001      account\n",
       "41        3  0.004959      account\n",
       "41        4  0.029753      account\n",
       "49        1  0.989985  achievement\n",
       "53        5  0.934517       aching\n",
       "101       1  0.138379    adventure\n",
       "101       2  0.127735    adventure\n",
       "101       3  0.095801    adventure\n",
       "101       4  0.524245    adventure\n",
       "101       5  0.050562    adventure\n",
       "101       6  0.061206    adventure\n",
       "129       2  0.054906         aged\n",
       "129       6  0.878489         aged\n",
       "132       3  0.943545       agency\n",
       "132       5  0.024193       agency\n",
       "134       2  0.033001        agent\n",
       "134       3  0.904214        agent\n",
       "134       5  0.059401        agent\n",
       "156       4  0.988971       alanna\n",
       "167       1  0.008393        alien\n",
       "167       3  0.956836        alien\n",
       "167       4  0.029377        alien\n",
       "168       3  0.983019       aliens\n",
       "179       4  0.937541       allies\n",
       "179       5  0.054508       allies\n",
       "...     ...       ...          ...\n",
       "6507      3  0.033604      written\n",
       "6507      4  0.018330      written\n",
       "6507      5  0.024439      written\n",
       "6507      6  0.018330      written\n",
       "6513      1  0.146930         year\n",
       "6513      2  0.292536         year\n",
       "6513      3  0.177375         year\n",
       "6513      4  0.039711         year\n",
       "6513      5  0.206496         year\n",
       "6513      6  0.137664         year\n",
       "6517      1  0.278965        years\n",
       "6517      2  0.223329        years\n",
       "6517      3  0.243703        years\n",
       "6517      4  0.132430        years\n",
       "6517      5  0.092466        years\n",
       "6517      6  0.029777        years\n",
       "6520      1  0.070863         yoga\n",
       "6520      5  0.885782         yoga\n",
       "6521      1  0.394047         york\n",
       "6521      2  0.065055         york\n",
       "6521      3  0.083642         york\n",
       "6521      4  0.133827         york\n",
       "6521      5  0.280665         york\n",
       "6521      6  0.042750         york\n",
       "6523      1  0.141761        young\n",
       "6523      2  0.220181        young\n",
       "6523      3  0.104561        young\n",
       "6523      4  0.308656        young\n",
       "6523      5  0.159858        young\n",
       "6523      6  0.064345        young\n",
       "\n",
       "[1249 rows x 3 columns], R=30, lambda_step=0.01, plot_opts={'xlab': 'PC1', 'ylab': 'PC2'}, topic_order=[3, 5, 6, 2, 4, 1])"
      ]
     },
     "execution_count": 20,
     "metadata": {},
     "output_type": "execute_result"
    }
   ],
   "source": [
    "pyLDAvis.sklearn.prepare(lda_tf, dtm_tf, tf_vectorizer)"
   ]
  },
  {
   "cell_type": "code",
   "execution_count": null,
   "metadata": {},
   "outputs": [],
   "source": []
  }
 ],
 "metadata": {
  "kernelspec": {
   "display_name": "Python 3",
   "language": "python",
   "name": "python3"
  },
  "language_info": {
   "codemirror_mode": {
    "name": "ipython",
    "version": 3
   },
   "file_extension": ".py",
   "mimetype": "text/x-python",
   "name": "python",
   "nbconvert_exporter": "python",
   "pygments_lexer": "ipython3",
   "version": "3.6.8"
  }
 },
 "nbformat": 4,
 "nbformat_minor": 2
}
